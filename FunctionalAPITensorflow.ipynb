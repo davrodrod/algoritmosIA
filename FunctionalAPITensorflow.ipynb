{
  "nbformat": 4,
  "nbformat_minor": 0,
  "metadata": {
    "colab": {
      "name": "FunctionalAPITensorflow.ipynb",
      "provenance": [],
      "authorship_tag": "ABX9TyMNAgBa7gawVNrk2boN/TdW",
      "include_colab_link": true
    },
    "kernelspec": {
      "name": "python3",
      "display_name": "Python 3"
    }
  },
  "cells": [
    {
      "cell_type": "markdown",
      "metadata": {
        "id": "view-in-github",
        "colab_type": "text"
      },
      "source": [
        "<a href=\"https://colab.research.google.com/github/davrodrod/algorirmosIA/blob/master/FunctionalAPITensorflow.ipynb\" target=\"_parent\"><img src=\"https://colab.research.google.com/assets/colab-badge.svg\" alt=\"Open In Colab\"/></a>"
      ]
    },
    {
      "cell_type": "markdown",
      "metadata": {
        "id": "5BfMhnXNndyi",
        "colab_type": "text"
      },
      "source": [
        "The functional API is more complex but is also more flexible\n",
        "\n",
        "It involves explicitlly connecting the output of one layer to the input of another layer. Each connection is specified"
      ]
    },
    {
      "cell_type": "code",
      "metadata": {
        "id": "Evy-w9Dend-6",
        "colab_type": "code",
        "colab": {}
      },
      "source": [
        "# Fuente https://machinelearningmastery.com/tensorflow-tutorial-deep-learning-with-tf-keras/\n",
        "\n",
        "from tensorflow.keras import Model\n",
        "from tensorflow.keras import Input\n",
        "from tensorflow.keras.layers import Dense\n",
        "\n",
        "#Define the layers\n",
        "\n",
        "x_in = Input(shape=(8,))\n",
        "x = Dense(10)(x_in)\n",
        "x_out = Dense(1)(x)\n",
        "\n",
        "#Define the model\n",
        "\n",
        "model = Model(inputs=x_in, outputs=x_out)\n",
        "\n",
        "# As such, it allows for more complicated model designs, such as models that may have multiple input\n",
        "# paths (separate vectors) and models that have multiple output paths (e.g. a word and a number)"
      ],
      "execution_count": 0,
      "outputs": []
    }
  ]
}