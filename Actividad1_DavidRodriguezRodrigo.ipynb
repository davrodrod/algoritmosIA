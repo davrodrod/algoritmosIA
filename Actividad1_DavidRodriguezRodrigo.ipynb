{
  "nbformat": 4,
  "nbformat_minor": 0,
  "metadata": {
    "kernelspec": {
      "display_name": "Python 3",
      "language": "python",
      "name": "python3"
    },
    "language_info": {
      "codemirror_mode": {
        "name": "ipython",
        "version": 3
      },
      "file_extension": ".py",
      "mimetype": "text/x-python",
      "name": "python",
      "nbconvert_exporter": "python",
      "pygments_lexer": "ipython3",
      "version": "3.7.9"
    },
    "latex_envs": {
      "LaTeX_envs_menu_present": true,
      "autoclose": false,
      "autocomplete": true,
      "bibliofile": "biblio.bib",
      "cite_by": "apalike",
      "current_citInitial": 1,
      "eqLabelWithNumbers": true,
      "eqNumInitial": 1,
      "hotkeys": {
        "equation": "Ctrl-E",
        "itemize": "Ctrl-I"
      },
      "labels_anchors": false,
      "latex_user_defs": false,
      "report_style_numbering": false,
      "user_envs_cfg": false
    },
    "toc": {
      "base_numbering": 1,
      "nav_menu": {},
      "number_sections": true,
      "sideBar": true,
      "skip_h1_title": true,
      "title_cell": "Table of Contents",
      "title_sidebar": "Contents",
      "toc_cell": true,
      "toc_position": {
        "height": "calc(100% - 180px)",
        "left": "10px",
        "top": "150px",
        "width": "308.793px"
      },
      "toc_section_display": true,
      "toc_window_display": true
    },
    "colab": {
      "name": "Actividad1_DavidRodriguezRodrigo.ipynb",
      "provenance": [],
      "include_colab_link": true
    }
  },
  "cells": [
    {
      "cell_type": "markdown",
      "metadata": {
        "id": "view-in-github",
        "colab_type": "text"
      },
      "source": [
        "<a href=\"https://colab.research.google.com/github/davrodrod/algoritmosIA/blob/master/Actividad1_DavidRodriguezRodrigo.ipynb\" target=\"_parent\"><img src=\"https://colab.research.google.com/assets/colab-badge.svg\" alt=\"Open In Colab\"/></a>"
      ]
    },
    {
      "cell_type": "markdown",
      "metadata": {
        "toc": true,
        "id": "Ju7BnVHBIv6k"
      },
      "source": [
        "<h1>Table of Contents<span class=\"tocSkip\"></span></h1>\n",
        "<div class=\"toc\"><ul class=\"toc-item\"><li><span><a href=\"#Introducción\" data-toc-modified-id=\"Introducción-1\"><span class=\"toc-item-num\">1&nbsp;&nbsp;</span>Introducción</a></span></li><li><span><a href=\"#Desarrollo-de-la-actividad\" data-toc-modified-id=\"Desarrollo-de-la-actividad-2\"><span class=\"toc-item-num\">2&nbsp;&nbsp;</span>Desarrollo de la actividad</a></span><ul class=\"toc-item\"><li><span><a href=\"#Importación-de-datos\" data-toc-modified-id=\"Importación-de-datos-2.1\"><span class=\"toc-item-num\">2.1&nbsp;&nbsp;</span>Importación de datos</a></span></li><li><span><a href=\"#Creación-de-grupos-para-clasificación\" data-toc-modified-id=\"Creación-de-grupos-para-clasificación-2.2\"><span class=\"toc-item-num\">2.2&nbsp;&nbsp;</span>Creación de grupos para clasificación</a></span></li><li><span><a href=\"#Análisis-descriptivo-de-los-datos:\" data-toc-modified-id=\"Análisis-descriptivo-de-los-datos:-2.3\"><span class=\"toc-item-num\">2.3&nbsp;&nbsp;</span><strong>Análisis descriptivo de los datos:</strong></a></span><ul class=\"toc-item\"><li><span><a href=\"#De-las-variables-numéricas-hallar-el-valor-mínimo,-el-máximo,-la-mediana-y-la-media\" data-toc-modified-id=\"De-las-variables-numéricas-hallar-el-valor-mínimo,-el-máximo,-la-mediana-y-la-media-2.3.1\"><span class=\"toc-item-num\">2.3.1&nbsp;&nbsp;</span>De las variables numéricas hallar el valor mínimo, el máximo, la mediana y la media</a></span></li><li><span><a href=\"#De-las-variables-categóricas,-listar-las-diferentes-categorías-y-hallar-la-frecuencia-de-cada-una-de-ellas\" data-toc-modified-id=\"De-las-variables-categóricas,-listar-las-diferentes-categorías-y-hallar-la-frecuencia-de-cada-una-de-ellas-2.3.2\"><span class=\"toc-item-num\">2.3.2&nbsp;&nbsp;</span>De las variables categóricas, listar las diferentes categorías y hallar la frecuencia de cada una de ellas</a></span></li><li><span><a href=\"#Hallar-todas-las-correlaciones-existentes-entre-las-variables-numéricas-del-conjunto-de-datos.\" data-toc-modified-id=\"Hallar-todas-las-correlaciones-existentes-entre-las-variables-numéricas-del-conjunto-de-datos.-2.3.3\"><span class=\"toc-item-num\">2.3.3&nbsp;&nbsp;</span>Hallar todas las correlaciones existentes entre las variables numéricas del conjunto de datos.</a></span></li></ul></li><li><span><a href=\"#Tratamiento-del-missing\" data-toc-modified-id=\"Tratamiento-del-missing-2.4\"><span class=\"toc-item-num\">2.4&nbsp;&nbsp;</span>Tratamiento del missing</a></span></li><li><span><a href=\"#Determinación-de-conjuntos-de-entrenamiento-y-test\" data-toc-modified-id=\"Determinación-de-conjuntos-de-entrenamiento-y-test-2.5\"><span class=\"toc-item-num\">2.5&nbsp;&nbsp;</span>Determinación de conjuntos de entrenamiento y test</a></span></li><li><span><a href=\"#Regresiones\" data-toc-modified-id=\"Regresiones-2.6\"><span class=\"toc-item-num\">2.6&nbsp;&nbsp;</span>Regresiones</a></span><ul class=\"toc-item\"><li><span><a href=\"#Regresión-con-árbol-de-decisión\" data-toc-modified-id=\"Regresión-con-árbol-de-decisión-2.6.1\"><span class=\"toc-item-num\">2.6.1&nbsp;&nbsp;</span>Regresión con árbol de decisión</a></span></li><li><span><a href=\"#Regresión-con-Random-Forest\" data-toc-modified-id=\"Regresión-con-Random-Forest-2.6.2\"><span class=\"toc-item-num\">2.6.2&nbsp;&nbsp;</span>Regresión con Random Forest</a></span></li></ul></li><li><span><a href=\"#Clasificaciones\" data-toc-modified-id=\"Clasificaciones-2.7\"><span class=\"toc-item-num\">2.7&nbsp;&nbsp;</span>Clasificaciones</a></span><ul class=\"toc-item\"><li><span><a href=\"#Clasificación-con-Árbol-de-Decisión-con-Cross-Validation\" data-toc-modified-id=\"Clasificación-con-Árbol-de-Decisión-con-Cross-Validation-2.7.1\"><span class=\"toc-item-num\">2.7.1&nbsp;&nbsp;</span>Clasificación con Árbol de Decisión con Cross Validation</a></span></li><li><span><a href=\"#Clasificación-con-Random-Forest-y-con-Cross-Validation\" data-toc-modified-id=\"Clasificación-con-Random-Forest-y-con-Cross-Validation-2.7.2\"><span class=\"toc-item-num\">2.7.2&nbsp;&nbsp;</span>Clasificación con Random Forest y con Cross Validation</a></span></li><li><span><a href=\"#Clasificación-con-Random-Forest-y-muestras-balanceadas\" data-toc-modified-id=\"Clasificación-con-Random-Forest-y-muestras-balanceadas-2.7.3\"><span class=\"toc-item-num\">2.7.3&nbsp;&nbsp;</span>Clasificación con Random Forest y muestras balanceadas</a></span></li></ul></li><li><span><a href=\"#Conclusiones/Comentarios\" data-toc-modified-id=\"Conclusiones/Comentarios-2.8\"><span class=\"toc-item-num\">2.8&nbsp;&nbsp;</span>Conclusiones/Comentarios</a></span></li></ul></li></ul></div>"
      ]
    },
    {
      "cell_type": "markdown",
      "metadata": {
        "id": "wjEDhypWIv6l"
      },
      "source": [
        "# Actividad 1 Aprendizaje Automático. Laboratorio. Árboles y random forest para regresión y clasificación\n",
        "\n",
        "Autor: David Rodríguez Rodrigo\n",
        "\n",
        "## Introducción\n",
        "\n",
        "En este laboratorio se aplican los algoritmos de Árboles de Decisión y Random Forest para predecir el precio de venta de un inmueble.\n",
        "\n",
        "Se elige el lenguaje python para la realizacíón de estas tareas, y se utilizan diversas librerías, principalmente _pandas_ para el tratamiento de datos y _scikit-learn_ para los algoritmos de inteligencia artificial.\n",
        "\n",
        "Los datos a utilizar corresponden al _USA Housing Dataset_ y están disponibles en la plataforma _kaggle_ en el siguiente enlace:\n",
        "\n",
        "> https://www.kaggle.com/gpandi007/usa-housing-dataset\n",
        "\n",
        "Se utilizará únicamente el fichero _housing_train.csv_. La variable a predecir es _SalePrice_.\n",
        "\n",
        "Se incluyen ejercicios de regresión para predecir el precio de venta de un inmueble, y ejercicios de clasificación para categorizar los inmuebles en uno de los siguientes grupos:\n",
        "- grupo1 Saleprice menor o igual a 100000\n",
        "- grupo2 Saleprice entre 100001 y 500000\n",
        "- grupo3 Saleprice mayor o igual a 500001\n",
        "\n",
        "**NOTAS**: \n",
        "* Para el correcto funcionamiento del notebook se requiere descargar el fichero _housing_train.csv_ y dejarlo en el mismo directorio del notebook.\n",
        "* En los puntos 2.7.2 y 2.7.3 se utiliza el parámetro \"n_jobs=4\" para paralelizar el trabajo y hacerlo más rápido. Si se ejecuta en máquinas con pocos recursos, utilizar \"n_jobs=1\""
      ]
    },
    {
      "cell_type": "markdown",
      "metadata": {
        "id": "HZDMabJ1Iv6m"
      },
      "source": [
        "## Desarrollo de la actividad\n",
        " \n",
        "### Importación de datos\n",
        "Se hace uso de la función \"read_csv\" de pandas para leer el fichero _housing_train.csv_. Se utiliza la primera columna del CSV como índice del DataFrame.\n",
        "\n",
        "Las columnas relacionadas con años se cargan especificamente como variables categóricas."
      ]
    },
    {
      "cell_type": "code",
      "metadata": {
        "scrolled": true,
        "id": "faT0OarAIv6n",
        "outputId": "61ddf195-8f69-4418-c872-637de4d594bb"
      },
      "source": [
        "import pandas as pd\n",
        "\n",
        "RANDOM_STATE = 42\n",
        "\n",
        "# Se utiliza la primera columna como índice\n",
        "X = pd.read_csv('housing_train.csv',  dtype={'YearBuilt': object, 'YearRemodAdd': object, 'GarageYrBlt': object,'YrSold': object}, index_col=0)\n",
        "\n",
        "# Se muestran los primeros datos del DataFrame\n",
        "print(\"Dimensiones: \", X.shape)\n",
        "X.head()"
      ],
      "execution_count": null,
      "outputs": [
        {
          "output_type": "stream",
          "text": [
            "Dimensiones:  (1460, 80)\n"
          ],
          "name": "stdout"
        },
        {
          "output_type": "execute_result",
          "data": {
            "text/html": [
              "<div>\n",
              "<style scoped>\n",
              "    .dataframe tbody tr th:only-of-type {\n",
              "        vertical-align: middle;\n",
              "    }\n",
              "\n",
              "    .dataframe tbody tr th {\n",
              "        vertical-align: top;\n",
              "    }\n",
              "\n",
              "    .dataframe thead th {\n",
              "        text-align: right;\n",
              "    }\n",
              "</style>\n",
              "<table border=\"1\" class=\"dataframe\">\n",
              "  <thead>\n",
              "    <tr style=\"text-align: right;\">\n",
              "      <th></th>\n",
              "      <th>MSSubClass</th>\n",
              "      <th>MSZoning</th>\n",
              "      <th>LotFrontage</th>\n",
              "      <th>LotArea</th>\n",
              "      <th>Street</th>\n",
              "      <th>Alley</th>\n",
              "      <th>LotShape</th>\n",
              "      <th>LandContour</th>\n",
              "      <th>Utilities</th>\n",
              "      <th>LotConfig</th>\n",
              "      <th>...</th>\n",
              "      <th>PoolArea</th>\n",
              "      <th>PoolQC</th>\n",
              "      <th>Fence</th>\n",
              "      <th>MiscFeature</th>\n",
              "      <th>MiscVal</th>\n",
              "      <th>MoSold</th>\n",
              "      <th>YrSold</th>\n",
              "      <th>SaleType</th>\n",
              "      <th>SaleCondition</th>\n",
              "      <th>SalePrice</th>\n",
              "    </tr>\n",
              "    <tr>\n",
              "      <th>Id</th>\n",
              "      <th></th>\n",
              "      <th></th>\n",
              "      <th></th>\n",
              "      <th></th>\n",
              "      <th></th>\n",
              "      <th></th>\n",
              "      <th></th>\n",
              "      <th></th>\n",
              "      <th></th>\n",
              "      <th></th>\n",
              "      <th></th>\n",
              "      <th></th>\n",
              "      <th></th>\n",
              "      <th></th>\n",
              "      <th></th>\n",
              "      <th></th>\n",
              "      <th></th>\n",
              "      <th></th>\n",
              "      <th></th>\n",
              "      <th></th>\n",
              "      <th></th>\n",
              "    </tr>\n",
              "  </thead>\n",
              "  <tbody>\n",
              "    <tr>\n",
              "      <th>1</th>\n",
              "      <td>60</td>\n",
              "      <td>RL</td>\n",
              "      <td>65.0</td>\n",
              "      <td>8450</td>\n",
              "      <td>Pave</td>\n",
              "      <td>NaN</td>\n",
              "      <td>Reg</td>\n",
              "      <td>Lvl</td>\n",
              "      <td>AllPub</td>\n",
              "      <td>Inside</td>\n",
              "      <td>...</td>\n",
              "      <td>0</td>\n",
              "      <td>NaN</td>\n",
              "      <td>NaN</td>\n",
              "      <td>NaN</td>\n",
              "      <td>0</td>\n",
              "      <td>2</td>\n",
              "      <td>2008</td>\n",
              "      <td>WD</td>\n",
              "      <td>Normal</td>\n",
              "      <td>208500</td>\n",
              "    </tr>\n",
              "    <tr>\n",
              "      <th>2</th>\n",
              "      <td>20</td>\n",
              "      <td>RL</td>\n",
              "      <td>80.0</td>\n",
              "      <td>9600</td>\n",
              "      <td>Pave</td>\n",
              "      <td>NaN</td>\n",
              "      <td>Reg</td>\n",
              "      <td>Lvl</td>\n",
              "      <td>AllPub</td>\n",
              "      <td>FR2</td>\n",
              "      <td>...</td>\n",
              "      <td>0</td>\n",
              "      <td>NaN</td>\n",
              "      <td>NaN</td>\n",
              "      <td>NaN</td>\n",
              "      <td>0</td>\n",
              "      <td>5</td>\n",
              "      <td>2007</td>\n",
              "      <td>WD</td>\n",
              "      <td>Normal</td>\n",
              "      <td>181500</td>\n",
              "    </tr>\n",
              "    <tr>\n",
              "      <th>3</th>\n",
              "      <td>60</td>\n",
              "      <td>RL</td>\n",
              "      <td>68.0</td>\n",
              "      <td>11250</td>\n",
              "      <td>Pave</td>\n",
              "      <td>NaN</td>\n",
              "      <td>IR1</td>\n",
              "      <td>Lvl</td>\n",
              "      <td>AllPub</td>\n",
              "      <td>Inside</td>\n",
              "      <td>...</td>\n",
              "      <td>0</td>\n",
              "      <td>NaN</td>\n",
              "      <td>NaN</td>\n",
              "      <td>NaN</td>\n",
              "      <td>0</td>\n",
              "      <td>9</td>\n",
              "      <td>2008</td>\n",
              "      <td>WD</td>\n",
              "      <td>Normal</td>\n",
              "      <td>223500</td>\n",
              "    </tr>\n",
              "    <tr>\n",
              "      <th>4</th>\n",
              "      <td>70</td>\n",
              "      <td>RL</td>\n",
              "      <td>60.0</td>\n",
              "      <td>9550</td>\n",
              "      <td>Pave</td>\n",
              "      <td>NaN</td>\n",
              "      <td>IR1</td>\n",
              "      <td>Lvl</td>\n",
              "      <td>AllPub</td>\n",
              "      <td>Corner</td>\n",
              "      <td>...</td>\n",
              "      <td>0</td>\n",
              "      <td>NaN</td>\n",
              "      <td>NaN</td>\n",
              "      <td>NaN</td>\n",
              "      <td>0</td>\n",
              "      <td>2</td>\n",
              "      <td>2006</td>\n",
              "      <td>WD</td>\n",
              "      <td>Abnorml</td>\n",
              "      <td>140000</td>\n",
              "    </tr>\n",
              "    <tr>\n",
              "      <th>5</th>\n",
              "      <td>60</td>\n",
              "      <td>RL</td>\n",
              "      <td>84.0</td>\n",
              "      <td>14260</td>\n",
              "      <td>Pave</td>\n",
              "      <td>NaN</td>\n",
              "      <td>IR1</td>\n",
              "      <td>Lvl</td>\n",
              "      <td>AllPub</td>\n",
              "      <td>FR2</td>\n",
              "      <td>...</td>\n",
              "      <td>0</td>\n",
              "      <td>NaN</td>\n",
              "      <td>NaN</td>\n",
              "      <td>NaN</td>\n",
              "      <td>0</td>\n",
              "      <td>12</td>\n",
              "      <td>2008</td>\n",
              "      <td>WD</td>\n",
              "      <td>Normal</td>\n",
              "      <td>250000</td>\n",
              "    </tr>\n",
              "  </tbody>\n",
              "</table>\n",
              "<p>5 rows × 80 columns</p>\n",
              "</div>"
            ],
            "text/plain": [
              "    MSSubClass MSZoning  LotFrontage  LotArea Street Alley LotShape  \\\n",
              "Id                                                                    \n",
              "1           60       RL         65.0     8450   Pave   NaN      Reg   \n",
              "2           20       RL         80.0     9600   Pave   NaN      Reg   \n",
              "3           60       RL         68.0    11250   Pave   NaN      IR1   \n",
              "4           70       RL         60.0     9550   Pave   NaN      IR1   \n",
              "5           60       RL         84.0    14260   Pave   NaN      IR1   \n",
              "\n",
              "   LandContour Utilities LotConfig  ... PoolArea PoolQC Fence MiscFeature  \\\n",
              "Id                                  ...                                     \n",
              "1          Lvl    AllPub    Inside  ...        0    NaN   NaN         NaN   \n",
              "2          Lvl    AllPub       FR2  ...        0    NaN   NaN         NaN   \n",
              "3          Lvl    AllPub    Inside  ...        0    NaN   NaN         NaN   \n",
              "4          Lvl    AllPub    Corner  ...        0    NaN   NaN         NaN   \n",
              "5          Lvl    AllPub       FR2  ...        0    NaN   NaN         NaN   \n",
              "\n",
              "   MiscVal MoSold  YrSold  SaleType SaleCondition SalePrice  \n",
              "Id                                                           \n",
              "1        0      2    2008        WD        Normal    208500  \n",
              "2        0      5    2007        WD        Normal    181500  \n",
              "3        0      9    2008        WD        Normal    223500  \n",
              "4        0      2    2006        WD       Abnorml    140000  \n",
              "5        0     12    2008        WD        Normal    250000  \n",
              "\n",
              "[5 rows x 80 columns]"
            ]
          },
          "metadata": {
            "tags": []
          },
          "execution_count": 31
        }
      ]
    },
    {
      "cell_type": "markdown",
      "metadata": {
        "id": "LwNYaCatIv6r"
      },
      "source": [
        "El dataset está formado por 1460 muestras, y cada una de estas muestras está descrita mediante 80 variables (incluyendo la variable a predecir _SalePrice_ )"
      ]
    },
    {
      "cell_type": "markdown",
      "metadata": {
        "id": "FYIGkgQFIv6s"
      },
      "source": [
        "### Creación de grupos para clasificación\n",
        "\n",
        "En este apartado se realizan varias tareas:\n",
        "* Se crea la variable objetivo para regresión, denominándola \"y\".\n",
        "* Se crea una nueva variable que contiene el grupo al que pertenece cada muestra, o variable objetivo para clasificación \"y_cl\".\n",
        "* Se cuenta el número de muestras en cada uno de los grupos creados y se dibuja el histograma."
      ]
    },
    {
      "cell_type": "code",
      "metadata": {
        "scrolled": true,
        "id": "e6BPyZ7iIv6s",
        "outputId": "583ed3b4-8c4c-4797-c02c-94fe1e94dec5"
      },
      "source": [
        "import matplotlib.pyplot as plt\n",
        "\n",
        "# Se obtiene la variable \"y\" con los precios reales.\n",
        "y = X['SalePrice']\n",
        "\n",
        "# Se agrupan los datos en 3 categorías a partir del valor SalePrice\n",
        "bins = [0, 100000, 500000, y.max()]\n",
        "names = ['grupo1', 'grupo2', 'grupo3']\n",
        "\n",
        "# \"y_cl\" es la variable objetivo para clasificar\n",
        "y_cl = pd.cut(y, bins, labels=names)\n",
        "\n",
        "print(y_cl.value_counts())\n",
        "\n",
        "#Se muestra la distribución de grupos creada\n",
        "plt.figure()\n",
        "plt.hist(y_cl)\n",
        "plt.show()"
      ],
      "execution_count": null,
      "outputs": [
        {
          "output_type": "stream",
          "text": [
            "grupo2    1328\n",
            "grupo1     123\n",
            "grupo3       9\n",
            "Name: SalePrice, dtype: int64\n"
          ],
          "name": "stdout"
        },
        {
          "output_type": "display_data",
          "data": {
            "image/png": "[encoded data removed]",
            "text/plain": [
              "<Figure size 432x288 with 1 Axes>"
            ]
          },
          "metadata": {
            "tags": [],
            "needs_background": "light"
          }
        }
      ]
    },
    {
      "cell_type": "markdown",
      "metadata": {
        "id": "SQ6WFjNfIv6x"
      },
      "source": [
        "Estos datos indican que los grupos creados están muy descompensados. El 90.96% de las muestras pertenecen al grupo2, el 8.42% al grupo 1, y sólo el 0.62% pertenecen al grupo3."
      ]
    },
    {
      "cell_type": "markdown",
      "metadata": {
        "id": "XgWs_ShpIv6y"
      },
      "source": [
        "\n",
        "### **Análisis descriptivo de los datos:**\n",
        "\n",
        "En primer lugar se distingue entre variables numéricas y variables categóricas. Para ello se utiliza la función _select_dtypes_ indicando qué tipo de variables se desean incluir o excluir en cada uno de los dos grupos.\n",
        "\n",
        "Aquí solo se obtienen las listas con los nombres de las correspondientes columnas."
      ]
    },
    {
      "cell_type": "code",
      "metadata": {
        "id": "bk7Qdtj5Iv6y",
        "outputId": "3136372f-78f8-4477-e381-c7ccc6723515"
      },
      "source": [
        "categorical_columns = X.select_dtypes(include='object').columns.values\n",
        "numerical_columns =X.select_dtypes(exclude='object').columns.values\n",
        "\n",
        "print(\"Columnas categóricas :\\n\", categorical_columns)\n",
        "print(\"\\nColumnas numéricas :\\n\", numerical_columns)"
      ],
      "execution_count": null,
      "outputs": [
        {
          "output_type": "stream",
          "text": [
            "Columnas categóricas :\n",
            " ['MSZoning' 'Street' 'Alley' 'LotShape' 'LandContour' 'Utilities'\n",
            " 'LotConfig' 'LandSlope' 'Neighborhood' 'Condition1' 'Condition2'\n",
            " 'BldgType' 'HouseStyle' 'YearBuilt' 'YearRemodAdd' 'RoofStyle' 'RoofMatl'\n",
            " 'Exterior1st' 'Exterior2nd' 'MasVnrType' 'ExterQual' 'ExterCond'\n",
            " 'Foundation' 'BsmtQual' 'BsmtCond' 'BsmtExposure' 'BsmtFinType1'\n",
            " 'BsmtFinType2' 'Heating' 'HeatingQC' 'CentralAir' 'Electrical'\n",
            " 'KitchenQual' 'Functional' 'FireplaceQu' 'GarageType' 'GarageYrBlt'\n",
            " 'GarageFinish' 'GarageQual' 'GarageCond' 'PavedDrive' 'PoolQC' 'Fence'\n",
            " 'MiscFeature' 'YrSold' 'SaleType' 'SaleCondition']\n",
            "\n",
            "Columnas numéricas :\n",
            " ['MSSubClass' 'LotFrontage' 'LotArea' 'OverallQual' 'OverallCond'\n",
            " 'MasVnrArea' 'BsmtFinSF1' 'BsmtFinSF2' 'BsmtUnfSF' 'TotalBsmtSF'\n",
            " '1stFlrSF' '2ndFlrSF' 'LowQualFinSF' 'GrLivArea' 'BsmtFullBath'\n",
            " 'BsmtHalfBath' 'FullBath' 'HalfBath' 'BedroomAbvGr' 'KitchenAbvGr'\n",
            " 'TotRmsAbvGrd' 'Fireplaces' 'GarageCars' 'GarageArea' 'WoodDeckSF'\n",
            " 'OpenPorchSF' 'EnclosedPorch' '3SsnPorch' 'ScreenPorch' 'PoolArea'\n",
            " 'MiscVal' 'MoSold' 'SalePrice']\n"
          ],
          "name": "stdout"
        }
      ]
    },
    {
      "cell_type": "markdown",
      "metadata": {
        "id": "qvQP1pfXIv62"
      },
      "source": [
        "#### De las variables numéricas hallar el valor mínimo, el máximo, la mediana y la media\n",
        "\n",
        "Toda esta información puede obtenerse con la función \"describe\" (la mediana se corresponde con el percentil 50%). Se aplica esta función, se filtra el DataFrame para obtener sólo las columnas solicitadas y se le cambia el nombre a la columna que contiene el percentil 50% por \"median\".\n",
        "\n",
        "Dado el elevado número de variables, se traspone la matriz para visualizarla mejor en pantalla"
      ]
    },
    {
      "cell_type": "code",
      "metadata": {
        "scrolled": false,
        "id": "M1_jl-HzIv62",
        "outputId": "9d12bcc0-9671-4f09-e37a-265eea20a66d"
      },
      "source": [
        "X_numerical_describe = X[numerical_columns].describe().T\n",
        "X_numerical_describe.loc[:,['min','max', '50%', 'mean']].rename(columns={'50%': 'median'}).head()"
      ],
      "execution_count": null,
      "outputs": [
        {
          "output_type": "execute_result",
          "data": {
            "text/html": [
              "<div>\n",
              "<style scoped>\n",
              "    .dataframe tbody tr th:only-of-type {\n",
              "        vertical-align: middle;\n",
              "    }\n",
              "\n",
              "    .dataframe tbody tr th {\n",
              "        vertical-align: top;\n",
              "    }\n",
              "\n",
              "    .dataframe thead th {\n",
              "        text-align: right;\n",
              "    }\n",
              "</style>\n",
              "<table border=\"1\" class=\"dataframe\">\n",
              "  <thead>\n",
              "    <tr style=\"text-align: right;\">\n",
              "      <th></th>\n",
              "      <th>min</th>\n",
              "      <th>max</th>\n",
              "      <th>median</th>\n",
              "      <th>mean</th>\n",
              "    </tr>\n",
              "  </thead>\n",
              "  <tbody>\n",
              "    <tr>\n",
              "      <th>MSSubClass</th>\n",
              "      <td>20.0</td>\n",
              "      <td>190.0</td>\n",
              "      <td>50.0</td>\n",
              "      <td>56.897260</td>\n",
              "    </tr>\n",
              "    <tr>\n",
              "      <th>LotFrontage</th>\n",
              "      <td>21.0</td>\n",
              "      <td>313.0</td>\n",
              "      <td>69.0</td>\n",
              "      <td>70.049958</td>\n",
              "    </tr>\n",
              "    <tr>\n",
              "      <th>LotArea</th>\n",
              "      <td>1300.0</td>\n",
              "      <td>215245.0</td>\n",
              "      <td>9478.5</td>\n",
              "      <td>10516.828082</td>\n",
              "    </tr>\n",
              "    <tr>\n",
              "      <th>OverallQual</th>\n",
              "      <td>1.0</td>\n",
              "      <td>10.0</td>\n",
              "      <td>6.0</td>\n",
              "      <td>6.099315</td>\n",
              "    </tr>\n",
              "    <tr>\n",
              "      <th>OverallCond</th>\n",
              "      <td>1.0</td>\n",
              "      <td>9.0</td>\n",
              "      <td>5.0</td>\n",
              "      <td>5.575342</td>\n",
              "    </tr>\n",
              "  </tbody>\n",
              "</table>\n",
              "</div>"
            ],
            "text/plain": [
              "                min       max  median          mean\n",
              "MSSubClass     20.0     190.0    50.0     56.897260\n",
              "LotFrontage    21.0     313.0    69.0     70.049958\n",
              "LotArea      1300.0  215245.0  9478.5  10516.828082\n",
              "OverallQual     1.0      10.0     6.0      6.099315\n",
              "OverallCond     1.0       9.0     5.0      5.575342"
            ]
          },
          "metadata": {
            "tags": []
          },
          "execution_count": 34
        }
      ]
    },
    {
      "cell_type": "markdown",
      "metadata": {
        "id": "334DW2dPIv66"
      },
      "source": [
        "Con estos datos, se puede extraer información acerca de cómo se distribuyen las muestras, por ejemplo, \n",
        "se observa que en muchas de las variables que comienzan su rango de valores en 0.0, la mediana es también 0.0. Esto indica que al menos la mitad de los datos tienen este valor.\n",
        "\n",
        "También puede apreciarse la variedad de rangos de valores existentes para cada una de las variables. Una de las ventajas tanto de árboles de decisión como de Random Forestm, es que no requieren normalizar esos datos para ser utilizados por estos algoritmos."
      ]
    },
    {
      "cell_type": "markdown",
      "metadata": {
        "id": "9686vBUKIv66"
      },
      "source": [
        "#### De las variables categóricas, listar las diferentes categorías y hallar la frecuencia de cada una de ellas\n",
        "\n",
        "La función _describe_ muestra bastante información para el caso de las variables categóricas:\n",
        "* Cuenta los valores no nulos.\n",
        "* Indica cuantas categorías diferentes hay en cada variable.\n",
        "* Muestra la categoría más frecuente y el total de muestras de esta categoría"
      ]
    },
    {
      "cell_type": "code",
      "metadata": {
        "scrolled": false,
        "id": "FFhAA8UlIv67",
        "outputId": "c8988fb6-17f3-4537-87c6-c714de3fea17"
      },
      "source": [
        "X_categorical_describe = X[categorical_columns].describe().T\n",
        "X_categorical_describe.head()"
      ],
      "execution_count": null,
      "outputs": [
        {
          "output_type": "execute_result",
          "data": {
            "text/html": [
              "<div>\n",
              "<style scoped>\n",
              "    .dataframe tbody tr th:only-of-type {\n",
              "        vertical-align: middle;\n",
              "    }\n",
              "\n",
              "    .dataframe tbody tr th {\n",
              "        vertical-align: top;\n",
              "    }\n",
              "\n",
              "    .dataframe thead th {\n",
              "        text-align: right;\n",
              "    }\n",
              "</style>\n",
              "<table border=\"1\" class=\"dataframe\">\n",
              "  <thead>\n",
              "    <tr style=\"text-align: right;\">\n",
              "      <th></th>\n",
              "      <th>count</th>\n",
              "      <th>unique</th>\n",
              "      <th>top</th>\n",
              "      <th>freq</th>\n",
              "    </tr>\n",
              "  </thead>\n",
              "  <tbody>\n",
              "    <tr>\n",
              "      <th>MSZoning</th>\n",
              "      <td>1460</td>\n",
              "      <td>5</td>\n",
              "      <td>RL</td>\n",
              "      <td>1151</td>\n",
              "    </tr>\n",
              "    <tr>\n",
              "      <th>Street</th>\n",
              "      <td>1460</td>\n",
              "      <td>2</td>\n",
              "      <td>Pave</td>\n",
              "      <td>1454</td>\n",
              "    </tr>\n",
              "    <tr>\n",
              "      <th>Alley</th>\n",
              "      <td>91</td>\n",
              "      <td>2</td>\n",
              "      <td>Grvl</td>\n",
              "      <td>50</td>\n",
              "    </tr>\n",
              "    <tr>\n",
              "      <th>LotShape</th>\n",
              "      <td>1460</td>\n",
              "      <td>4</td>\n",
              "      <td>Reg</td>\n",
              "      <td>925</td>\n",
              "    </tr>\n",
              "    <tr>\n",
              "      <th>LandContour</th>\n",
              "      <td>1460</td>\n",
              "      <td>4</td>\n",
              "      <td>Lvl</td>\n",
              "      <td>1311</td>\n",
              "    </tr>\n",
              "  </tbody>\n",
              "</table>\n",
              "</div>"
            ],
            "text/plain": [
              "            count unique   top  freq\n",
              "MSZoning     1460      5    RL  1151\n",
              "Street       1460      2  Pave  1454\n",
              "Alley          91      2  Grvl    50\n",
              "LotShape     1460      4   Reg   925\n",
              "LandContour  1460      4   Lvl  1311"
            ]
          },
          "metadata": {
            "tags": []
          },
          "execution_count": 35
        }
      ]
    },
    {
      "cell_type": "markdown",
      "metadata": {
        "id": "HhG8_UlyIv6_"
      },
      "source": [
        "Sin embargo no muestra todas las categorías de cada variable y la frecuencia de cada una de ellas. Para ello utilizo el siguiente código:"
      ]
    },
    {
      "cell_type": "code",
      "metadata": {
        "id": "xgcgcnYJIv7A",
        "outputId": "c7f4f3a2-6744-4099-e258-1fe32bb21928"
      },
      "source": [
        "for columnaCategorica in categorical_columns:\n",
        "    print('Variable ' + columnaCategorica + \" :\")\n",
        "    print(X[columnaCategorica].value_counts(), \"\\n\" )"
      ],
      "execution_count": null,
      "outputs": [
        {
          "output_type": "stream",
          "text": [
            "Variable MSZoning :\n",
            "RL         1151\n",
            "RM          218\n",
            "FV           65\n",
            "RH           16\n",
            "C (all)      10\n",
            "Name: MSZoning, dtype: int64 \n",
            "\n",
            "Variable Street :\n",
            "Pave    1454\n",
            "Grvl       6\n",
            "Name: Street, dtype: int64 \n",
            "\n",
            "Variable Alley :\n",
            "Grvl    50\n",
            "Pave    41\n",
            "Name: Alley, dtype: int64 \n",
            "\n",
            "Variable LotShape :\n",
            "Reg    925\n",
            "IR1    484\n",
            "IR2     41\n",
            "IR3     10\n",
            "Name: LotShape, dtype: int64 \n",
            "\n",
            "Variable LandContour :\n",
            "Lvl    1311\n",
            "Bnk      63\n",
            "HLS      50\n",
            "Low      36\n",
            "Name: LandContour, dtype: int64 \n",
            "\n",
            "Variable Utilities :\n",
            "AllPub    1459\n",
            "NoSeWa       1\n",
            "Name: Utilities, dtype: int64 \n",
            "\n",
            "Variable LotConfig :\n",
            "Inside     1052\n",
            "Corner      263\n",
            "CulDSac      94\n",
            "FR2          47\n",
            "FR3           4\n",
            "Name: LotConfig, dtype: int64 \n",
            "\n",
            "Variable LandSlope :\n",
            "Gtl    1382\n",
            "Mod      65\n",
            "Sev      13\n",
            "Name: LandSlope, dtype: int64 \n",
            "\n",
            "Variable Neighborhood :\n",
            "NAmes      225\n",
            "CollgCr    150\n",
            "OldTown    113\n",
            "Edwards    100\n",
            "Somerst     86\n",
            "Gilbert     79\n",
            "NridgHt     77\n",
            "Sawyer      74\n",
            "NWAmes      73\n",
            "SawyerW     59\n",
            "BrkSide     58\n",
            "Crawfor     51\n",
            "Mitchel     49\n",
            "NoRidge     41\n",
            "Timber      38\n",
            "IDOTRR      37\n",
            "ClearCr     28\n",
            "SWISU       25\n",
            "StoneBr     25\n",
            "Blmngtn     17\n",
            "MeadowV     17\n",
            "BrDale      16\n",
            "Veenker     11\n",
            "NPkVill      9\n",
            "Blueste      2\n",
            "Name: Neighborhood, dtype: int64 \n",
            "\n",
            "Variable Condition1 :\n",
            "Norm      1260\n",
            "Feedr       81\n",
            "Artery      48\n",
            "RRAn        26\n",
            "PosN        19\n",
            "RRAe        11\n",
            "PosA         8\n",
            "RRNn         5\n",
            "RRNe         2\n",
            "Name: Condition1, dtype: int64 \n",
            "\n",
            "Variable Condition2 :\n",
            "Norm      1445\n",
            "Feedr        6\n",
            "Artery       2\n",
            "RRNn         2\n",
            "PosN         2\n",
            "RRAn         1\n",
            "PosA         1\n",
            "RRAe         1\n",
            "Name: Condition2, dtype: int64 \n",
            "\n",
            "Variable BldgType :\n",
            "1Fam      1220\n",
            "TwnhsE     114\n",
            "Duplex      52\n",
            "Twnhs       43\n",
            "2fmCon      31\n",
            "Name: BldgType, dtype: int64 \n",
            "\n",
            "Variable HouseStyle :\n",
            "1Story    726\n",
            "2Story    445\n",
            "1.5Fin    154\n",
            "SLvl       65\n",
            "SFoyer     37\n",
            "1.5Unf     14\n",
            "2.5Unf     11\n",
            "2.5Fin      8\n",
            "Name: HouseStyle, dtype: int64 \n",
            "\n",
            "Variable YearBuilt :\n",
            "2006    67\n",
            "2005    64\n",
            "2004    54\n",
            "2007    49\n",
            "2003    45\n",
            "        ..\n",
            "1905     1\n",
            "1872     1\n",
            "1904     1\n",
            "1882     1\n",
            "1913     1\n",
            "Name: YearBuilt, Length: 112, dtype: int64 \n",
            "\n",
            "Variable YearRemodAdd :\n",
            "1950    178\n",
            "2006     97\n",
            "2007     76\n",
            "2005     73\n",
            "2004     62\n",
            "       ... \n",
            "2010      6\n",
            "1952      5\n",
            "1986      5\n",
            "1983      5\n",
            "1951      4\n",
            "Name: YearRemodAdd, Length: 61, dtype: int64 \n",
            "\n",
            "Variable RoofStyle :\n",
            "Gable      1141\n",
            "Hip         286\n",
            "Flat         13\n",
            "Gambrel      11\n",
            "Mansard       7\n",
            "Shed          2\n",
            "Name: RoofStyle, dtype: int64 \n",
            "\n",
            "Variable RoofMatl :\n",
            "CompShg    1434\n",
            "Tar&Grv      11\n",
            "WdShngl       6\n",
            "WdShake       5\n",
            "Roll          1\n",
            "ClyTile       1\n",
            "Metal         1\n",
            "Membran       1\n",
            "Name: RoofMatl, dtype: int64 \n",
            "\n",
            "Variable Exterior1st :\n",
            "VinylSd    515\n",
            "HdBoard    222\n",
            "MetalSd    220\n",
            "Wd Sdng    206\n",
            "Plywood    108\n",
            "CemntBd     61\n",
            "BrkFace     50\n",
            "WdShing     26\n",
            "Stucco      25\n",
            "AsbShng     20\n",
            "Stone        2\n",
            "BrkComm      2\n",
            "CBlock       1\n",
            "ImStucc      1\n",
            "AsphShn      1\n",
            "Name: Exterior1st, dtype: int64 \n",
            "\n",
            "Variable Exterior2nd :\n",
            "VinylSd    504\n",
            "MetalSd    214\n",
            "HdBoard    207\n",
            "Wd Sdng    197\n",
            "Plywood    142\n",
            "CmentBd     60\n",
            "Wd Shng     38\n",
            "Stucco      26\n",
            "BrkFace     25\n",
            "AsbShng     20\n",
            "ImStucc     10\n",
            "Brk Cmn      7\n",
            "Stone        5\n",
            "AsphShn      3\n",
            "CBlock       1\n",
            "Other        1\n",
            "Name: Exterior2nd, dtype: int64 \n",
            "\n",
            "Variable MasVnrType :\n",
            "None       864\n",
            "BrkFace    445\n",
            "Stone      128\n",
            "BrkCmn      15\n",
            "Name: MasVnrType, dtype: int64 \n",
            "\n",
            "Variable ExterQual :\n",
            "TA    906\n",
            "Gd    488\n",
            "Ex     52\n",
            "Fa     14\n",
            "Name: ExterQual, dtype: int64 \n",
            "\n",
            "Variable ExterCond :\n",
            "TA    1282\n",
            "Gd     146\n",
            "Fa      28\n",
            "Ex       3\n",
            "Po       1\n",
            "Name: ExterCond, dtype: int64 \n",
            "\n",
            "Variable Foundation :\n",
            "PConc     647\n",
            "CBlock    634\n",
            "BrkTil    146\n",
            "Slab       24\n",
            "Stone       6\n",
            "Wood        3\n",
            "Name: Foundation, dtype: int64 \n",
            "\n",
            "Variable BsmtQual :\n",
            "TA    649\n",
            "Gd    618\n",
            "Ex    121\n",
            "Fa     35\n",
            "Name: BsmtQual, dtype: int64 \n",
            "\n",
            "Variable BsmtCond :\n",
            "TA    1311\n",
            "Gd      65\n",
            "Fa      45\n",
            "Po       2\n",
            "Name: BsmtCond, dtype: int64 \n",
            "\n",
            "Variable BsmtExposure :\n",
            "No    953\n",
            "Av    221\n",
            "Gd    134\n",
            "Mn    114\n",
            "Name: BsmtExposure, dtype: int64 \n",
            "\n",
            "Variable BsmtFinType1 :\n",
            "Unf    430\n",
            "GLQ    418\n",
            "ALQ    220\n",
            "BLQ    148\n",
            "Rec    133\n",
            "LwQ     74\n",
            "Name: BsmtFinType1, dtype: int64 \n",
            "\n",
            "Variable BsmtFinType2 :\n",
            "Unf    1256\n",
            "Rec      54\n",
            "LwQ      46\n",
            "BLQ      33\n",
            "ALQ      19\n",
            "GLQ      14\n",
            "Name: BsmtFinType2, dtype: int64 \n",
            "\n",
            "Variable Heating :\n",
            "GasA     1428\n",
            "GasW       18\n",
            "Grav        7\n",
            "Wall        4\n",
            "OthW        2\n",
            "Floor       1\n",
            "Name: Heating, dtype: int64 \n",
            "\n",
            "Variable HeatingQC :\n",
            "Ex    741\n",
            "TA    428\n",
            "Gd    241\n",
            "Fa     49\n",
            "Po      1\n",
            "Name: HeatingQC, dtype: int64 \n",
            "\n",
            "Variable CentralAir :\n",
            "Y    1365\n",
            "N      95\n",
            "Name: CentralAir, dtype: int64 \n",
            "\n",
            "Variable Electrical :\n",
            "SBrkr    1334\n",
            "FuseA      94\n",
            "FuseF      27\n",
            "FuseP       3\n",
            "Mix         1\n",
            "Name: Electrical, dtype: int64 \n",
            "\n",
            "Variable KitchenQual :\n",
            "TA    735\n",
            "Gd    586\n",
            "Ex    100\n",
            "Fa     39\n",
            "Name: KitchenQual, dtype: int64 \n",
            "\n",
            "Variable Functional :\n",
            "Typ     1360\n",
            "Min2      34\n",
            "Min1      31\n",
            "Mod       15\n",
            "Maj1      14\n",
            "Maj2       5\n",
            "Sev        1\n",
            "Name: Functional, dtype: int64 \n",
            "\n",
            "Variable FireplaceQu :\n",
            "Gd    380\n",
            "TA    313\n",
            "Fa     33\n",
            "Ex     24\n",
            "Po     20\n",
            "Name: FireplaceQu, dtype: int64 \n",
            "\n",
            "Variable GarageType :\n",
            "Attchd     870\n",
            "Detchd     387\n",
            "BuiltIn     88\n",
            "Basment     19\n",
            "CarPort      9\n",
            "2Types       6\n",
            "Name: GarageType, dtype: int64 \n",
            "\n",
            "Variable GarageYrBlt :\n",
            "2005    65\n",
            "2006    59\n",
            "2004    53\n",
            "2003    50\n",
            "2007    49\n",
            "        ..\n",
            "1933     1\n",
            "1927     1\n",
            "1900     1\n",
            "1906     1\n",
            "1908     1\n",
            "Name: GarageYrBlt, Length: 97, dtype: int64 \n",
            "\n",
            "Variable GarageFinish :\n",
            "Unf    605\n",
            "RFn    422\n",
            "Fin    352\n",
            "Name: GarageFinish, dtype: int64 \n",
            "\n",
            "Variable GarageQual :\n",
            "TA    1311\n",
            "Fa      48\n",
            "Gd      14\n",
            "Ex       3\n",
            "Po       3\n",
            "Name: GarageQual, dtype: int64 \n",
            "\n",
            "Variable GarageCond :\n",
            "TA    1326\n",
            "Fa      35\n",
            "Gd       9\n",
            "Po       7\n",
            "Ex       2\n",
            "Name: GarageCond, dtype: int64 \n",
            "\n",
            "Variable PavedDrive :\n",
            "Y    1340\n",
            "N      90\n",
            "P      30\n",
            "Name: PavedDrive, dtype: int64 \n",
            "\n",
            "Variable PoolQC :\n",
            "Gd    3\n",
            "Ex    2\n",
            "Fa    2\n",
            "Name: PoolQC, dtype: int64 \n",
            "\n",
            "Variable Fence :\n",
            "MnPrv    157\n",
            "GdPrv     59\n",
            "GdWo      54\n",
            "MnWw      11\n",
            "Name: Fence, dtype: int64 \n",
            "\n",
            "Variable MiscFeature :\n",
            "Shed    49\n",
            "Othr     2\n",
            "Gar2     2\n",
            "TenC     1\n",
            "Name: MiscFeature, dtype: int64 \n",
            "\n",
            "Variable YrSold :\n",
            "2009    338\n",
            "2007    329\n",
            "2006    314\n",
            "2008    304\n",
            "2010    175\n",
            "Name: YrSold, dtype: int64 \n",
            "\n",
            "Variable SaleType :\n",
            "WD       1267\n",
            "New       122\n",
            "COD        43\n",
            "ConLD       9\n",
            "ConLI       5\n",
            "ConLw       5\n",
            "CWD         4\n",
            "Oth         3\n",
            "Con         2\n",
            "Name: SaleType, dtype: int64 \n",
            "\n",
            "Variable SaleCondition :\n",
            "Normal     1198\n",
            "Partial     125\n",
            "Abnorml     101\n",
            "Family       20\n",
            "Alloca       12\n",
            "AdjLand       4\n",
            "Name: SaleCondition, dtype: int64 \n",
            "\n"
          ],
          "name": "stdout"
        }
      ]
    },
    {
      "cell_type": "markdown",
      "metadata": {
        "id": "f0GFCv-HIv7E"
      },
      "source": [
        "En este listado puede observarse que hay variables con muchos valores nulos como Alley ó PoolQC, y, en menor medida,  MiscFeature y Fence.\n",
        "\n",
        "Además se observan bastantes variables en las que la mayor parte de las muestras pertenecen a la misma categoría por ejemplo, Street (1454 muestras de 1460 tienen la categoría Pave), Utilities (1459 de 1460 tienen la categoría AllPub), ..."
      ]
    },
    {
      "cell_type": "markdown",
      "metadata": {
        "id": "rVJPyAoIIv7E"
      },
      "source": [
        "#### Hallar todas las correlaciones existentes entre las variables numéricas del conjunto de datos.\n",
        "\n",
        "Para esto se utiliza la función _corr_"
      ]
    },
    {
      "cell_type": "code",
      "metadata": {
        "scrolled": false,
        "id": "EvM6dFyPIv7F",
        "outputId": "fd5cb05b-9824-448d-e8f7-9a594ff1988c"
      },
      "source": [
        "print(\"\\nCorrelaciones entre todas las varibles numéricas: \\n\")\n",
        "correlation_matrix = X[numerical_columns].corr()\n",
        "\n",
        "correlation_matrix.head()"
      ],
      "execution_count": null,
      "outputs": [
        {
          "output_type": "stream",
          "text": [
            "\n",
            "Correlaciones entre todas las varibles numéricas: \n",
            "\n"
          ],
          "name": "stdout"
        },
        {
          "output_type": "execute_result",
          "data": {
            "text/html": [
              "<div>\n",
              "<style scoped>\n",
              "    .dataframe tbody tr th:only-of-type {\n",
              "        vertical-align: middle;\n",
              "    }\n",
              "\n",
              "    .dataframe tbody tr th {\n",
              "        vertical-align: top;\n",
              "    }\n",
              "\n",
              "    .dataframe thead th {\n",
              "        text-align: right;\n",
              "    }\n",
              "</style>\n",
              "<table border=\"1\" class=\"dataframe\">\n",
              "  <thead>\n",
              "    <tr style=\"text-align: right;\">\n",
              "      <th></th>\n",
              "      <th>MSSubClass</th>\n",
              "      <th>LotFrontage</th>\n",
              "      <th>LotArea</th>\n",
              "      <th>OverallQual</th>\n",
              "      <th>OverallCond</th>\n",
              "      <th>MasVnrArea</th>\n",
              "      <th>BsmtFinSF1</th>\n",
              "      <th>BsmtFinSF2</th>\n",
              "      <th>BsmtUnfSF</th>\n",
              "      <th>TotalBsmtSF</th>\n",
              "      <th>...</th>\n",
              "      <th>GarageArea</th>\n",
              "      <th>WoodDeckSF</th>\n",
              "      <th>OpenPorchSF</th>\n",
              "      <th>EnclosedPorch</th>\n",
              "      <th>3SsnPorch</th>\n",
              "      <th>ScreenPorch</th>\n",
              "      <th>PoolArea</th>\n",
              "      <th>MiscVal</th>\n",
              "      <th>MoSold</th>\n",
              "      <th>SalePrice</th>\n",
              "    </tr>\n",
              "  </thead>\n",
              "  <tbody>\n",
              "    <tr>\n",
              "      <th>MSSubClass</th>\n",
              "      <td>1.000000</td>\n",
              "      <td>-0.386347</td>\n",
              "      <td>-0.139781</td>\n",
              "      <td>0.032628</td>\n",
              "      <td>-0.059316</td>\n",
              "      <td>0.022936</td>\n",
              "      <td>-0.069836</td>\n",
              "      <td>-0.065649</td>\n",
              "      <td>-0.140759</td>\n",
              "      <td>-0.238518</td>\n",
              "      <td>...</td>\n",
              "      <td>-0.098672</td>\n",
              "      <td>-0.012579</td>\n",
              "      <td>-0.006100</td>\n",
              "      <td>-0.012037</td>\n",
              "      <td>-0.043825</td>\n",
              "      <td>-0.026030</td>\n",
              "      <td>0.008283</td>\n",
              "      <td>-0.007683</td>\n",
              "      <td>-0.013585</td>\n",
              "      <td>-0.084284</td>\n",
              "    </tr>\n",
              "    <tr>\n",
              "      <th>LotFrontage</th>\n",
              "      <td>-0.386347</td>\n",
              "      <td>1.000000</td>\n",
              "      <td>0.426095</td>\n",
              "      <td>0.251646</td>\n",
              "      <td>-0.059213</td>\n",
              "      <td>0.193458</td>\n",
              "      <td>0.233633</td>\n",
              "      <td>0.049900</td>\n",
              "      <td>0.132644</td>\n",
              "      <td>0.392075</td>\n",
              "      <td>...</td>\n",
              "      <td>0.344997</td>\n",
              "      <td>0.088521</td>\n",
              "      <td>0.151972</td>\n",
              "      <td>0.010700</td>\n",
              "      <td>0.070029</td>\n",
              "      <td>0.041383</td>\n",
              "      <td>0.206167</td>\n",
              "      <td>0.003368</td>\n",
              "      <td>0.011200</td>\n",
              "      <td>0.351799</td>\n",
              "    </tr>\n",
              "    <tr>\n",
              "      <th>LotArea</th>\n",
              "      <td>-0.139781</td>\n",
              "      <td>0.426095</td>\n",
              "      <td>1.000000</td>\n",
              "      <td>0.105806</td>\n",
              "      <td>-0.005636</td>\n",
              "      <td>0.104160</td>\n",
              "      <td>0.214103</td>\n",
              "      <td>0.111170</td>\n",
              "      <td>-0.002618</td>\n",
              "      <td>0.260833</td>\n",
              "      <td>...</td>\n",
              "      <td>0.180403</td>\n",
              "      <td>0.171698</td>\n",
              "      <td>0.084774</td>\n",
              "      <td>-0.018340</td>\n",
              "      <td>0.020423</td>\n",
              "      <td>0.043160</td>\n",
              "      <td>0.077672</td>\n",
              "      <td>0.038068</td>\n",
              "      <td>0.001205</td>\n",
              "      <td>0.263843</td>\n",
              "    </tr>\n",
              "    <tr>\n",
              "      <th>OverallQual</th>\n",
              "      <td>0.032628</td>\n",
              "      <td>0.251646</td>\n",
              "      <td>0.105806</td>\n",
              "      <td>1.000000</td>\n",
              "      <td>-0.091932</td>\n",
              "      <td>0.411876</td>\n",
              "      <td>0.239666</td>\n",
              "      <td>-0.059119</td>\n",
              "      <td>0.308159</td>\n",
              "      <td>0.537808</td>\n",
              "      <td>...</td>\n",
              "      <td>0.562022</td>\n",
              "      <td>0.238923</td>\n",
              "      <td>0.308819</td>\n",
              "      <td>-0.113937</td>\n",
              "      <td>0.030371</td>\n",
              "      <td>0.064886</td>\n",
              "      <td>0.065166</td>\n",
              "      <td>-0.031406</td>\n",
              "      <td>0.070815</td>\n",
              "      <td>0.790982</td>\n",
              "    </tr>\n",
              "    <tr>\n",
              "      <th>OverallCond</th>\n",
              "      <td>-0.059316</td>\n",
              "      <td>-0.059213</td>\n",
              "      <td>-0.005636</td>\n",
              "      <td>-0.091932</td>\n",
              "      <td>1.000000</td>\n",
              "      <td>-0.128101</td>\n",
              "      <td>-0.046231</td>\n",
              "      <td>0.040229</td>\n",
              "      <td>-0.136841</td>\n",
              "      <td>-0.171098</td>\n",
              "      <td>...</td>\n",
              "      <td>-0.151521</td>\n",
              "      <td>-0.003334</td>\n",
              "      <td>-0.032589</td>\n",
              "      <td>0.070356</td>\n",
              "      <td>0.025504</td>\n",
              "      <td>0.054811</td>\n",
              "      <td>-0.001985</td>\n",
              "      <td>0.068777</td>\n",
              "      <td>-0.003511</td>\n",
              "      <td>-0.077856</td>\n",
              "    </tr>\n",
              "  </tbody>\n",
              "</table>\n",
              "<p>5 rows × 33 columns</p>\n",
              "</div>"
            ],
            "text/plain": [
              "             MSSubClass  LotFrontage   LotArea  OverallQual  OverallCond  \\\n",
              "MSSubClass     1.000000    -0.386347 -0.139781     0.032628    -0.059316   \n",
              "LotFrontage   -0.386347     1.000000  0.426095     0.251646    -0.059213   \n",
              "LotArea       -0.139781     0.426095  1.000000     0.105806    -0.005636   \n",
              "OverallQual    0.032628     0.251646  0.105806     1.000000    -0.091932   \n",
              "OverallCond   -0.059316    -0.059213 -0.005636    -0.091932     1.000000   \n",
              "\n",
              "             MasVnrArea  BsmtFinSF1  BsmtFinSF2  BsmtUnfSF  TotalBsmtSF  ...  \\\n",
              "MSSubClass     0.022936   -0.069836   -0.065649  -0.140759    -0.238518  ...   \n",
              "LotFrontage    0.193458    0.233633    0.049900   0.132644     0.392075  ...   \n",
              "LotArea        0.104160    0.214103    0.111170  -0.002618     0.260833  ...   \n",
              "OverallQual    0.411876    0.239666   -0.059119   0.308159     0.537808  ...   \n",
              "OverallCond   -0.128101   -0.046231    0.040229  -0.136841    -0.171098  ...   \n",
              "\n",
              "             GarageArea  WoodDeckSF  OpenPorchSF  EnclosedPorch  3SsnPorch  \\\n",
              "MSSubClass    -0.098672   -0.012579    -0.006100      -0.012037  -0.043825   \n",
              "LotFrontage    0.344997    0.088521     0.151972       0.010700   0.070029   \n",
              "LotArea        0.180403    0.171698     0.084774      -0.018340   0.020423   \n",
              "OverallQual    0.562022    0.238923     0.308819      -0.113937   0.030371   \n",
              "OverallCond   -0.151521   -0.003334    -0.032589       0.070356   0.025504   \n",
              "\n",
              "             ScreenPorch  PoolArea   MiscVal    MoSold  SalePrice  \n",
              "MSSubClass     -0.026030  0.008283 -0.007683 -0.013585  -0.084284  \n",
              "LotFrontage     0.041383  0.206167  0.003368  0.011200   0.351799  \n",
              "LotArea         0.043160  0.077672  0.038068  0.001205   0.263843  \n",
              "OverallQual     0.064886  0.065166 -0.031406  0.070815   0.790982  \n",
              "OverallCond     0.054811 -0.001985  0.068777 -0.003511  -0.077856  \n",
              "\n",
              "[5 rows x 33 columns]"
            ]
          },
          "metadata": {
            "tags": []
          },
          "execution_count": 37
        }
      ]
    },
    {
      "cell_type": "markdown",
      "metadata": {
        "id": "Px0yRvvtIv7I"
      },
      "source": [
        "Con tantas variables esta matriz se hace difícil de interpretar. Para obtener más información se muestra la matriz de forma gráfica, marcando sólo las variables con correlación superior a un límite establecido."
      ]
    },
    {
      "cell_type": "code",
      "metadata": {
        "scrolled": true,
        "id": "FgqoGCDTIv7I",
        "outputId": "cf4e19f8-b4fb-4ce2-e12c-a59883010cce"
      },
      "source": [
        "import seaborn as sns \n",
        "\n",
        "limite_correlacion = 0.7\n",
        "\n",
        "#Se muestra graficamente las variables con correlación superior al límite establecido\n",
        "fig, ax = plt.subplots(figsize=(10,10))\n",
        "sns.heatmap(data=correlation_matrix[(correlation_matrix>limite_correlacion) | (correlation_matrix<limite_correlacion*-1)],\n",
        "            xticklabels=True,\n",
        "            yticklabels=True,\n",
        "            annot=True,\n",
        "            ax=ax)\n"
      ],
      "execution_count": null,
      "outputs": [
        {
          "output_type": "execute_result",
          "data": {
            "text/plain": [
              "<matplotlib.axes._subplots.AxesSubplot at 0x7f56570e5710>"
            ]
          },
          "metadata": {
            "tags": []
          },
          "execution_count": 38
        },
        {
          "output_type": "display_data",
          "data": {
            "image/png": "[encoded data removed]",
            "text/plain": [
              "<Figure size 720x720 with 2 Axes>"
            ]
          },
          "metadata": {
            "tags": [],
            "needs_background": "light"
          }
        }
      ]
    },
    {
      "cell_type": "markdown",
      "metadata": {
        "id": "MA2MMYsnIv7M"
      },
      "source": [
        "Los puntos marcados señalan pares de variables entre las que existe una elevada correlación:\n",
        "* _OverallQual_ y _SalePrice_\n",
        "* _TotalBsmtSF_ y _1stFlSF_\n",
        "* _GrLiveArea_ y _SalePrice_\n",
        "* _GrLiveArea_ y _TotRmsAbvGrd_\n",
        "* _GarageCars_ y _GarageArea_\n",
        "\n",
        "También puede verse que todas las correlaciones son positivas.\n",
        "\n",
        "A continuación se obtienen los mismos resultados en formato texto y se calculan las covarianzas entre los valores más altos."
      ]
    },
    {
      "cell_type": "code",
      "metadata": {
        "scrolled": true,
        "id": "ZaYF3WTSIv7N",
        "outputId": "3d91798a-df39-410e-f804-59bb37fc11a4"
      },
      "source": [
        "# Me defino una función para encontrar las variables con correlación cruzada por encima de un umbral\n",
        "            \n",
        "def variablesCorreladas(matrizCorrelacion, limite):\n",
        "    columnas = pd.Series(matrizCorrelacion.columns.values)\n",
        "    valorpop=0\n",
        "    for i in matrizCorrelacion.columns:\n",
        "        columnas.pop(valorpop)\n",
        "        valorpop +=1    \n",
        "        columnas.reindex()\n",
        "        for j in columnas:\n",
        "            if ((matrizCorrelacion[i][j] > limite) or (matrizCorrelacion[i][j] < limite*-1)):\n",
        "                print(i, \",\", j,\" :\", matrizCorrelacion[i][j])\n",
        "\n",
        "\n",
        "variablesCorreladas(correlation_matrix,limite_correlacion)   \n",
        "\n",
        "print(\"\\nCovarianza de variables altamente correladas: \")\n",
        "#Después hallar covarianza de valores altamente correlacionados\n",
        "matrizCov = X[numerical_columns].cov()\n",
        "print(\"Entre OverallQual y SalePrice: \",matrizCov['OverallQual']['SalePrice'])\n",
        "print(\"Entre TotalBsmtSF y 1stFlrSF: \",matrizCov['TotalBsmtSF']['1stFlrSF'])\n",
        "print(\"Entre GrLivArea y TotRmsAbvGrd: \",matrizCov['GrLivArea']['TotRmsAbvGrd'])\n",
        "print(\"Entre GrLivArea y SalePrice: \",matrizCov['GrLivArea']['SalePrice'])\n",
        "print(\"Entre GarageCars y GarageArea: \",matrizCov['GarageCars']['GarageArea'])"
      ],
      "execution_count": null,
      "outputs": [
        {
          "output_type": "stream",
          "text": [
            "OverallQual , SalePrice  : 0.7909816005838047\n",
            "TotalBsmtSF , 1stFlrSF  : 0.8195299750050355\n",
            "GrLivArea , TotRmsAbvGrd  : 0.8254893743088377\n",
            "GrLivArea , SalePrice  : 0.7086244776126511\n",
            "GarageCars , GarageArea  : 0.8824754142814603\n",
            "\n",
            "Covarianza de variables altamente correladas: \n",
            "Entre OverallQual y SalePrice:  86904.12583679939\n",
            "Entre TotalBsmtSF y 1stFlrSF:  138990.72587482524\n",
            "Entre GrLivArea y TotRmsAbvGrd:  705.0606194898005\n",
            "Entre GrLivArea y SalePrice:  29581866.743236575\n",
            "Entre GarageCars y GarageArea:  141.0015398048958\n"
          ],
          "name": "stdout"
        }
      ]
    },
    {
      "cell_type": "markdown",
      "metadata": {
        "id": "zzmHUkOzIv7Q"
      },
      "source": [
        "Con estos resultados se determina que los siguentes pares de variables están altamente correlados (por este orden):\n",
        "* GrLivArea y SalePrice\n",
        "* TotalBsmtSF y 1stFlrSF\n",
        "* OverallQual y SalePrice\n",
        "\n",
        "Se eliminan del modelo las variables GrLivArea y OverallQuall, dado que la predicción se va a basar en estas variables, dando lugar a errores porque obtendremos una exactitud muy alta.\n",
        "\n",
        "Entre TotalBsmtSF y 1stFlrSF también existe una alta covarianza, estas variables parecen hacer referencia a la superficie de la base de la casa y la superficie de la primera planta. Se decide eliminar la superficie de la primera planta.\n",
        "\n",
        "Se elimina también la variable SalePrice debido a que es el objetivo a predecir.\n"
      ]
    },
    {
      "cell_type": "code",
      "metadata": {
        "id": "QxHe5DErIv7R",
        "outputId": "83120e64-b262-474f-f519-9a26845fc76e"
      },
      "source": [
        "#Se realiza una copia de los datos originales\n",
        "Xtr = X.copy(deep=True)\n",
        "Xtr = Xtr.drop(['GrLivArea', 'OverallQual','1stFlrSF','SalePrice'], axis = 1)\n",
        "\n",
        "# Se actualiza la lista de columnas numéricas\n",
        "numerical_columns = Xtr.select_dtypes(exclude='object').columns.values\n",
        "print(numerical_columns)"
      ],
      "execution_count": null,
      "outputs": [
        {
          "output_type": "stream",
          "text": [
            "['MSSubClass' 'LotFrontage' 'LotArea' 'OverallCond' 'MasVnrArea'\n",
            " 'BsmtFinSF1' 'BsmtFinSF2' 'BsmtUnfSF' 'TotalBsmtSF' '2ndFlrSF'\n",
            " 'LowQualFinSF' 'BsmtFullBath' 'BsmtHalfBath' 'FullBath' 'HalfBath'\n",
            " 'BedroomAbvGr' 'KitchenAbvGr' 'TotRmsAbvGrd' 'Fireplaces' 'GarageCars'\n",
            " 'GarageArea' 'WoodDeckSF' 'OpenPorchSF' 'EnclosedPorch' '3SsnPorch'\n",
            " 'ScreenPorch' 'PoolArea' 'MiscVal' 'MoSold']\n"
          ],
          "name": "stdout"
        }
      ]
    },
    {
      "cell_type": "markdown",
      "metadata": {
        "id": "t4O7mdzXIv7U"
      },
      "source": [
        "### Tratamiento del missing \n",
        "\n",
        "Se obtienen las columnas con más datos missing y, de igual modo, las muestras."
      ]
    },
    {
      "cell_type": "code",
      "metadata": {
        "scrolled": true,
        "id": "0Ee5cBHDIv7V",
        "outputId": "fc29383c-ab2d-4adf-ccba-ccd85a12e834"
      },
      "source": [
        "# En primer lugar creo una función que printa en pantalla las variables con datos missing, y el número de éstos\n",
        "def listaMissing(X):\n",
        "    print(Xtr.isnull().sum().sort_values(ascending=False).head(20))\n",
        "\n",
        "def listaMuestrasMissing(X):\n",
        "    print(Xtr.T.isnull().sum().sort_values(ascending=False).head(20))\n",
        "    \n",
        "# Muestro las columnas con datos missing antes del procesamiento\n",
        "print(\"Variables con más datos missing antes del procesamiento:\\n\")\n",
        "listaMissing(Xtr)\n",
        "\n",
        "#Pueden verse también las muestras con más datos missing\n",
        "print(\"Muestras con mayor número de valores missing: \")\n",
        "listaMuestrasMissing(Xtr)"
      ],
      "execution_count": null,
      "outputs": [
        {
          "output_type": "stream",
          "text": [
            "Variables con más datos missing antes del procesamiento:\n",
            "\n",
            "PoolQC          1453\n",
            "MiscFeature     1406\n",
            "Alley           1369\n",
            "Fence           1179\n",
            "FireplaceQu      690\n",
            "LotFrontage      259\n",
            "GarageType        81\n",
            "GarageCond        81\n",
            "GarageYrBlt       81\n",
            "GarageFinish      81\n",
            "GarageQual        81\n",
            "BsmtExposure      38\n",
            "BsmtFinType2      38\n",
            "BsmtCond          37\n",
            "BsmtQual          37\n",
            "BsmtFinType1      37\n",
            "MasVnrArea         8\n",
            "MasVnrType         8\n",
            "Electrical         1\n",
            "LotConfig          0\n",
            "dtype: int64\n",
            "Muestras con mayor número de valores missing: \n",
            "Id\n",
            "1012    15\n",
            "534     15\n",
            "1219    15\n",
            "40      15\n",
            "706     14\n",
            "1180    14\n",
            "521     14\n",
            "376     11\n",
            "1036    11\n",
            "1144    11\n",
            "1031    11\n",
            "288     11\n",
            "1322    11\n",
            "343     11\n",
            "614     10\n",
            "109     10\n",
            "126     10\n",
            "211     10\n",
            "1220    10\n",
            "1408    10\n",
            "dtype: int64\n"
          ],
          "name": "stdout"
        }
      ]
    },
    {
      "cell_type": "markdown",
      "metadata": {
        "id": "EIrgKDY9Iv7Y"
      },
      "source": [
        "En cuanto a las muestras, las que más variables missing presentan tienen 15. Por ahora no se plantea su eliminación.\n",
        "\n",
        "Como ya se había visto anteriormente, hay columnas con un número de nulos muy elevado respecto al total de muestras (1460):\n",
        "* Variable _PoolQC_ con 1453 nulos.\n",
        "* Variable _MiscFeature_ con 1406 nulos.\n",
        "* Variable _Alley_ con 1369 nulos.\n",
        "* Variable _Fence_ con 1179 nulos.\n",
        "* Variable _FireplaceQu_ con 690 nulos.\n",
        "\n",
        "Analizando estas variables, se encuentra que en varios casos no se trata de un dato faltante sino de un dato que no aplica:\n",
        "* _PoolQC_ , es un dato que se aplica sólo a las casas que tienen piscina (PoolArea=0), apareciendo el valor _NaN_ en el resto de los casos. Realmente no es un dato que falte. Se rellenan todos los _NaN_ con la nueva clase \"No\"\n",
        "* Con _MiscFeature_ ocurre algo parecido. Esta variable está relacionada con MiscVal, se observa que cuando MiscFeature es _NaN_ , MiscVal es 0. No parece un dato faltante, sino un dato que no aplica a las casas con MiscVal a 0. Se rellenan todos los _NaN_ con la nueva clase \"No\".\n",
        "* Para la variable _FireplaceQu_ se observa que los valores _NaN_ se corresponden con muestras en las que la variable _Fireplaces_ es 0. Por los nombres de las variables, se deduce que este valor es _NaN_ cuando la casa no tiene chimenea. Se decide darles a todas estas entradas una nueva categoría 'No' que indica que no tienen chimenea.\n",
        "* Las variables _GarageType_ , _GarageCond_ , _GarageYrBlt_ , _GarageFinish_ y _GarageQual_ contienen todas el mismo número de nulos (81). Se comprueba que estos casos coinciden con casas en las que el garageArea es 0, es decir, casas sin Garaje. Se les asigna a todas estas variables en todos estos casos el valor \"No\"\n",
        "\n",
        "Con el siguiente fragmento de codigo se comprueba la existencia de estas relaciones. Por ejemplo, para comprobar la relación entre PoolArea y PoolQC, se obtiene la columna PoolQC de todas las muestras que tienen PooArea=0 y después se suman todos los nulos de la columna resultante. Se puede comprobar que hay 1453 nulos, el mismo número de nulos del DataFrame original para esta variable. De esta forma se verifica que todos los nulos corresponden a muestras con PoolArea=0 y que todas las muestras con PoolArea=0 tienen PoolQC=nan.\n",
        "\n",
        "Se hace lo mismo con el resto de variables."
      ]
    },
    {
      "cell_type": "code",
      "metadata": {
        "scrolled": false,
        "id": "UyylQ6sQIv7Y",
        "outputId": "e4c8634f-349c-40d6-bde5-baab64830ecb"
      },
      "source": [
        "# PoolQC\n",
        "print(\"Comprobación relación PoolArea con PoolQC:\")\n",
        "Xtr_PA0= Xtr[Xtr['PoolArea']==0][['PoolQC']]\n",
        "print(Xtr_PA0.isnull().sum())\n",
        "\n",
        "# MiscFeature\n",
        "print(\"\\nComprobación relación MiscVal con MiscFeature:\")\n",
        "Xtr_MF0= Xtr[Xtr['MiscVal']==0][['MiscFeature']]\n",
        "print(Xtr_MF0.isnull().sum())\n",
        "\n",
        "# FireplaceQu\n",
        "print(\"\\nComprobación relación Fireplaces con FireplaceQu:\")\n",
        "Xtr_FQ0= Xtr[Xtr['Fireplaces']==0][['FireplaceQu']]\n",
        "print(Xtr_FQ0.isnull().sum())\n",
        "\n",
        "# GarageType, GarageCond, GarageYrBlt, GarageFinish, GarageQual\n",
        "print(\"\\nComprobación relación GarageArea con GarageType, GarageCond, GarageYrBlt, GarageFinish y GarageQual:\")\n",
        "Xtr_GA0= Xtr[Xtr['GarageArea']==0][['GarageType', 'GarageCond', 'GarageYrBlt', 'GarageFinish', 'GarageQual']]\n",
        "print(Xtr_GA0.isnull().sum())\n"
      ],
      "execution_count": null,
      "outputs": [
        {
          "output_type": "stream",
          "text": [
            "Comprobación relación PoolArea con PoolQC:\n",
            "PoolQC    1453\n",
            "dtype: int64\n",
            "\n",
            "Comprobación relación MiscVal con MiscFeature:\n",
            "MiscFeature    1406\n",
            "dtype: int64\n",
            "\n",
            "Comprobación relación Fireplaces con FireplaceQu:\n",
            "FireplaceQu    690\n",
            "dtype: int64\n",
            "\n",
            "Comprobación relación GarageArea con GarageType, GarageCond, GarageYrBlt, GarageFinish y GarageQual:\n",
            "GarageType      81\n",
            "GarageCond      81\n",
            "GarageYrBlt     81\n",
            "GarageFinish    81\n",
            "GarageQual      81\n",
            "dtype: int64\n"
          ],
          "name": "stdout"
        }
      ]
    },
    {
      "cell_type": "markdown",
      "metadata": {
        "id": "IUlJWXAXIv7b"
      },
      "source": [
        "Realizadas estas comprobaciones se crea una nueva categoría para todas estas variables con el valor \"No\" y se le asigna esta categoría a todos los valores nulos."
      ]
    },
    {
      "cell_type": "code",
      "metadata": {
        "id": "uEM-rIntIv7c"
      },
      "source": [
        "Xtr['PoolQC'].fillna('No', inplace=True)\n",
        "Xtr['MiscFeature'].fillna('No', inplace=True)\n",
        "Xtr['FireplaceQu'].fillna('No', inplace=True)\n",
        "Xtr['GarageType'].fillna('No', inplace=True)\n",
        "Xtr['GarageCond'].fillna('No', inplace=True)\n",
        "Xtr['GarageYrBlt'].fillna('No', inplace=True)\n",
        "Xtr['GarageFinish'].fillna('No', inplace=True)\n",
        "Xtr['GarageQual'].fillna('No', inplace=True)"
      ],
      "execution_count": null,
      "outputs": []
    },
    {
      "cell_type": "markdown",
      "metadata": {
        "id": "KxdUeASmIv7e"
      },
      "source": [
        "Para los casos Fence y Alley no tengo datos suficientes para saber si las muestras con valores _nan_ podrían calcularse a partir de otros datos por lo que decido eliminarlos. Después de esto, se actualiza la lista de columnas numéricas"
      ]
    },
    {
      "cell_type": "code",
      "metadata": {
        "id": "n-YdvdWXIv7f"
      },
      "source": [
        "Xtr = Xtr.drop(['Alley', 'Fence'], axis = 1)\n",
        "\n",
        "# Se actualiza la lista de columnas numéricas\n",
        "categorical_columns = Xtr.select_dtypes(include='object').columns.values"
      ],
      "execution_count": null,
      "outputs": []
    },
    {
      "cell_type": "markdown",
      "metadata": {
        "id": "sZ212hdgIv7i"
      },
      "source": [
        "Tras estos procesados, vuelvo a comprobar la muestras que más variables missing tinen y observo que se han reducido mucho, obteniendo un máximo de variables con 6 valores nulos. No se eliminan muestras."
      ]
    },
    {
      "cell_type": "code",
      "metadata": {
        "id": "nNNCtSySIv7j",
        "outputId": "ce9c3129-9fb7-4872-cdc4-d22254f03c71"
      },
      "source": [
        "listaMuestrasMissing(Xtr)"
      ],
      "execution_count": null,
      "outputs": [
        {
          "output_type": "stream",
          "text": [
            "Id\n",
            "343     6\n",
            "393     6\n",
            "1322    6\n",
            "1046    6\n",
            "869     6\n",
            "1036    6\n",
            "750     5\n",
            "533     5\n",
            "363     5\n",
            "779     5\n",
            "554     5\n",
            "1233    5\n",
            "1001    5\n",
            "183     5\n",
            "895     5\n",
            "1091    5\n",
            "1012    5\n",
            "103     5\n",
            "1219    5\n",
            "1217    5\n",
            "dtype: int64\n"
          ],
          "name": "stdout"
        }
      ]
    },
    {
      "cell_type": "markdown",
      "metadata": {
        "id": "jD9pseypIv7m"
      },
      "source": [
        "Finalmente, para el resto de casos de datos missing, se imputan los siguientes  valores:\n",
        "* Para las variables numéricas se imputa el valor medio de la variable. Este valor es muy utilizado para imputación de valores en variables numéricas desconicidas.\n",
        "* Para las variables categóricas se imputa el valor más habitual: la moda. Esto también es habitual con variables categóricas."
      ]
    },
    {
      "cell_type": "code",
      "metadata": {
        "id": "fqwr73LLIv7m",
        "outputId": "127c5226-4731-410d-e718-ec9029081dbf"
      },
      "source": [
        "# Ahora se imputan valores en el resto de datos missing\n",
        "\n",
        "#Para las variables numéricas utilizo el valor de la media\n",
        "for i in numerical_columns:\n",
        "    Xtr[i].fillna(Xtr[i].mean(), inplace = True)\n",
        "\n",
        "#Para las categrórcas utilizo la moda\n",
        "for i in categorical_columns:\n",
        "    Xtr[i].fillna(Xtr[i].mode()[0], inplace=True)\n",
        "\n",
        "# Ahora busco si queda algún valor missing\n",
        "print(\"\\nVariables con datos missing después del procesamiento:\\n\")\n",
        "listaMissing(Xtr)"
      ],
      "execution_count": null,
      "outputs": [
        {
          "output_type": "stream",
          "text": [
            "\n",
            "Variables con datos missing después del procesamiento:\n",
            "\n",
            "SaleCondition    0\n",
            "RoofStyle        0\n",
            "Exterior1st      0\n",
            "Exterior2nd      0\n",
            "MasVnrType       0\n",
            "MasVnrArea       0\n",
            "ExterQual        0\n",
            "ExterCond        0\n",
            "Foundation       0\n",
            "BsmtQual         0\n",
            "BsmtCond         0\n",
            "BsmtExposure     0\n",
            "BsmtFinType1     0\n",
            "BsmtFinSF1       0\n",
            "BsmtFinType2     0\n",
            "BsmtFinSF2       0\n",
            "BsmtUnfSF        0\n",
            "RoofMatl         0\n",
            "YearRemodAdd     0\n",
            "SaleType         0\n",
            "dtype: int64\n"
          ],
          "name": "stdout"
        }
      ]
    },
    {
      "cell_type": "markdown",
      "metadata": {
        "id": "l3G9EbDKIv7p"
      },
      "source": [
        "### Determinación de conjuntos de entrenamiento y test\n",
        "\n",
        "La implementación de scikit-learn de árboles de decisión y random forest no aceptan variables categóricas, por lo que se hace una transformación mediante \"One Hot Encoding\" antes de ralizar las divisiones de datos.\n",
        "\n",
        "Se observa cómo se incrementa el número de columnas del DataFrame.\n"
      ]
    },
    {
      "cell_type": "code",
      "metadata": {
        "id": "xNLXg9LHIv7p",
        "outputId": "b48e8377-509c-4def-a406-d681745bad5d"
      },
      "source": [
        "XtrOhe = Xtr.copy(deep=True)\n",
        "print(Xtr.shape)\n",
        "\n",
        "#Ahora hago one hot encoding para las variables categóricas\n",
        "XtrOhe = pd.get_dummies(data=Xtr, columns=categorical_columns)\n",
        "\n",
        "print(XtrOhe.shape)"
      ],
      "execution_count": null,
      "outputs": [
        {
          "output_type": "stream",
          "text": [
            "(1460, 74)\n",
            "(1460, 558)\n"
          ],
          "name": "stdout"
        }
      ]
    },
    {
      "cell_type": "markdown",
      "metadata": {
        "id": "arKZj25dIv7s"
      },
      "source": [
        "Se utiliza la función \"train_test_split\" para dividir los datos entre conjuntos de entrenamiento y de test de manera aleatoria. Se hace lo mismo para el problema de clasificación y para el de regresión. Se utiliza un 70% de muestras para el entrenamiento y un 30% para el test.\n",
        "\n",
        "Se comprueba que los conjuntos de train y de test en clasificación se distribuyen de la misma forma."
      ]
    },
    {
      "cell_type": "code",
      "metadata": {
        "id": "UovCTTwPIv7s",
        "outputId": "ce8b6fa1-fa3f-4877-dd9e-d1a759e23830"
      },
      "source": [
        "from sklearn.model_selection import train_test_split\n",
        "\n",
        "# Para regresión\n",
        "train_rg_X, test_rg_X, train_rg_y, test_rg_y = train_test_split(XtrOhe, y, test_size=0.3,random_state=RANDOM_STATE)\n",
        "\n",
        "# Para clasificación\n",
        "train_cl_X, test_cl_X, train_cl_y, test_cl_y = train_test_split(XtrOhe, y_cl, test_size=0.3,random_state=RANDOM_STATE, stratify=y_cl)\n",
        "\n",
        "print(\"Distribución de muestras en train_cl_y y test_cl_y por grupos: \")\n",
        "print(train_cl_y.value_counts())\n",
        "print(test_cl_y.value_counts())"
      ],
      "execution_count": null,
      "outputs": [
        {
          "output_type": "stream",
          "text": [
            "Distribución de muestras en train_cl_y y test_cl_y por grupos: \n",
            "grupo2    930\n",
            "grupo1     86\n",
            "grupo3      6\n",
            "Name: SalePrice, dtype: int64\n",
            "grupo2    398\n",
            "grupo1     37\n",
            "grupo3      3\n",
            "Name: SalePrice, dtype: int64\n"
          ],
          "name": "stdout"
        }
      ]
    },
    {
      "cell_type": "markdown",
      "metadata": {
        "id": "1hvnC4MtIv7v"
      },
      "source": [
        "### Regresiones\n",
        "\n",
        "En primer lugar se hace una función genérica que acepta un modelo y unos datos, y muestra las métricas del modelo:\n",
        "\n",
        "* Métricas MAE, MSE, RMSE, RMLSE y R2_score.\n",
        "* Modelo utilizado\n",
        "* Gráfica de valores reales vs valores predichos\n",
        "* Gráfica de variables más importantes\n"
      ]
    },
    {
      "cell_type": "code",
      "metadata": {
        "id": "XmYUyxzOIv7w"
      },
      "source": [
        "# import the regressor \n",
        "from sklearn.tree import DecisionTreeRegressor  \n",
        "from sklearn import metrics\n",
        "from sklearn import tree\n",
        "from math import sqrt\n",
        "\n",
        "def rf_feat_importance(m, df):\n",
        "    return pd.DataFrame({'cols':df.columns, 'imp':m.feature_importances_}\n",
        "                       ).sort_values('imp', ascending=False)\n",
        "\n",
        "def plot_fi(fi, ax): return fi.plot('cols', 'imp', 'barh', ax=ax, figsize=(10,10), legend=False)\n",
        "\n",
        "def plot_tree_model(model):\n",
        "    fig, ax = plt.subplots(figsize=(20, 20))\n",
        "    tree.plot_tree(model, filled=True, fontsize=10)\n",
        "    plt.show()\n",
        "\n",
        "def performanceRegressor(model, trainX, trainy, valX, valy):\n",
        "    model.fit(trainX, trainy)\n",
        "    predicciones = model.predict(valX)\n",
        "    \n",
        "    # Métricas\n",
        "    print('\\nModel Performance:')\n",
        "    print('==================')\n",
        "    print(\"MAE : \", metrics.mean_absolute_error(valy, predicciones))\n",
        "    print(\"MSE : \", metrics.mean_squared_error(valy, predicciones))\n",
        "    print(\"RMSE : \", sqrt(metrics.mean_squared_error(valy, predicciones, squared=False)))\n",
        "    print(\"RMLSE : \", sqrt(metrics.mean_squared_log_error(valy, predicciones)))\n",
        "    print(\"R2 score : \", metrics.r2_score(valy, predicciones))\n",
        "        \n",
        "    fig, ax = plt.subplots(2,1)\n",
        "    \n",
        "    # Se muestra diagrama de dispersión mostrando en eje x los valores reales y en eje y los predichos\n",
        "    ax[0].scatter(valy, predicciones)\n",
        "    ax[0].set_title('Valores reales vs predichos')\n",
        "    ax[0].set_xlabel('Valores reales')\n",
        "    ax[0].set_ylabel('Valores predichos')\n",
        "    \n",
        "    # Modelo utilizado\n",
        "    print(\"\\nModelo regresor:\")\n",
        "    print(\"================\")\n",
        "    print(model)\n",
        "    \n",
        "    # Features más importantes. No se incluyen porque se muestran gŕaficamente\n",
        "    #print(\"\\nLas 10 features mas importantes: \")\n",
        "    #for importance, name in sorted(zip(model.feature_importances_, trainX.columns),reverse=True)[:10]:\n",
        "    #    print (name, importance)\n",
        "    \n",
        "    print(\"\\nGráficas: Valores reales vs predichos y 20 variables más importantes:\")\n",
        "    print(\"====================================================================\")\n",
        "    \n",
        "    fi = rf_feat_importance(model, trainX); fi[:10]\n",
        "    plot_fi(fi[:20], ax[1]);\n",
        "    \n",
        "    fig.tight_layout()\n",
        "    plt.show()\n"
      ],
      "execution_count": null,
      "outputs": []
    },
    {
      "cell_type": "markdown",
      "metadata": {
        "id": "W16cALutIv7z"
      },
      "source": [
        "#### Regresión con árbol de decisión\n",
        "\n",
        "Para empezar se observa el performance de un árbol de decisión con los parámetros por defecto."
      ]
    },
    {
      "cell_type": "code",
      "metadata": {
        "scrolled": false,
        "id": "ST8dZTAtIv7z",
        "outputId": "e42035e8-dc00-466e-aa8c-4107e31e6ce9"
      },
      "source": [
        "# Para empezar se observa el performance de un árbol de decisión con los parámetros por defecto\n",
        "\n",
        "DT_rg_model_1= DecisionTreeRegressor(random_state=RANDOM_STATE)\n",
        "performanceRegressor(DT_rg_model_1, train_rg_X, train_rg_y, test_rg_X, test_rg_y)"
      ],
      "execution_count": null,
      "outputs": [
        {
          "output_type": "stream",
          "text": [
            "\n",
            "Model Performance:\n",
            "==================\n",
            "MAE :  31337.66894977169\n",
            "MSE :  3001358090.10274\n",
            "RMSE :  234.06121412460624\n",
            "RMLSE :  0.23982545808751918\n",
            "R2 score :  0.5698885407784011\n",
            "\n",
            "Modelo regresor:\n",
            "================\n",
            "DecisionTreeRegressor(ccp_alpha=0.0, criterion='mse', max_depth=None,\n",
            "                      max_features=None, max_leaf_nodes=None,\n",
            "                      min_impurity_decrease=0.0, min_impurity_split=None,\n",
            "                      min_samples_leaf=1, min_samples_split=2,\n",
            "                      min_weight_fraction_leaf=0.0, presort='deprecated',\n",
            "                      random_state=42, splitter='best')\n",
            "\n",
            "Gráficas: Valores reales vs predichos y 20 variables más importantes:\n",
            "====================================================================\n"
          ],
          "name": "stdout"
        },
        {
          "output_type": "display_data",
          "data": {
            "image/png": "[encoded data removed]",
            "text/plain": [
              "<Figure size 720x720 with 2 Axes>"
            ]
          },
          "metadata": {
            "tags": [],
            "needs_background": "light"
          }
        }
      ]
    },
    {
      "cell_type": "markdown",
      "metadata": {
        "id": "-Ah7gMVcIv75"
      },
      "source": [
        "**Conclusión regresión con árboles de decisión**\n",
        "\n",
        "En la gráfica de dispersión, puede verse como las predicciones son mas o menos fiables en el rango de precios entre 100000 y 280000 dolares aproximadamente. Por encima de esos precios las predicciones se dispersan mucho, se separan de la línea central. Por ejemplo para casas en el entorno a los 600000 dolares, el modelo predice un precio por debajo de los 400000 dolares, y para el caso de la casa más cara el resultado es aún peor. No puede considerase que la predicción sea buena."
      ]
    },
    {
      "cell_type": "markdown",
      "metadata": {
        "id": "EjpguqCXIv75"
      },
      "source": [
        "A continuación se realiza una poda del árbol en base a aplicar \"cost complexity pruning\" al árbol inicial para obtener una secuencia de mejores sub-árboles, en función del parámetro de penalización o tuning parameter _alpha_ , que controla el equilibrio entre la complejidad del árbol y su ajuste a los datos de entrenamiento. Conforme alfa aumenta, más ramas se podan del árbol."
      ]
    },
    {
      "cell_type": "code",
      "metadata": {
        "id": "CyDXC11VIv76",
        "outputId": "0584a4b7-263c-450e-f04d-1b7f8b98c849"
      },
      "source": [
        "# Ver https://scikit-learn.org/stable/auto_examples/tree/plot_cost_complexity_pruning.html\n",
        "\n",
        "from sklearn.tree import DecisionTreeRegressor\n",
        "from sklearn.metrics import confusion_matrix\n",
        "from sklearn import tree\n",
        "import numpy as np\n",
        "\n",
        "\n",
        "# Se crear un arbol para regresión\n",
        "DT_rg_model_2 = DecisionTreeRegressor(random_state=RANDOM_STATE)\n",
        "\n",
        "path = DT_rg_model_2.cost_complexity_pruning_path(train_rg_X, train_rg_y)\n",
        "ccp_alphas, impurities = path.ccp_alphas, path.impurities\n",
        "\n",
        "#En el siguiente gráfico se elimina el valor máximo del alpha efectivo, porque es el arbol con un solo nodo.\n",
        "fig, ax = plt.subplots()\n",
        "ax.plot(ccp_alphas[:-1], impurities[:-1], marker='o', drawstyle=\"steps-post\")\n",
        "ax.set_xlabel(\"alpha efectivo\")\n",
        "ax.set_ylabel(\"Impureza total en hojas\")\n",
        "ax.set_title(\"Impureza total vs alfa efectivo en conjunto de entrenamiento\")\n",
        "\n",
        "# A continuación se entrena utilizando los alphas efectivos.\n",
        "# El último valor en ccp_alphas es el valor que poda el árbol entero, dejando un solo nodo\n",
        "clfs = []\n",
        "for ccp_alpha in ccp_alphas:\n",
        "    clf = DecisionTreeRegressor(random_state=RANDOM_STATE, ccp_alpha=ccp_alpha)\n",
        "    clf.fit(train_rg_X, train_rg_y)\n",
        "    clfs.append(clf)\n",
        "print(\"Numero de nodos en el último árbol es: {} con ccp_alpha: {}\".format(\n",
        "      clfs[-1].tree_.node_count, ccp_alphas[-1]))\n",
        "\n",
        "# Para el resto del código se elimina el último elemento clfs y ccp_alphas, que corresponde a un\n",
        "# árbol con  un solo nodo. Aquí puede verse como a medida que alfa aumenta, se decrementan  el número \n",
        "# de nodos y la profundidad del árbol\n",
        "clfs = clfs[:-1]\n",
        "ccp_alphas = ccp_alphas[:-1]\n",
        "\n",
        "node_counts = [clf.tree_.node_count for clf in clfs]\n",
        "depth = [clf.tree_.max_depth for clf in clfs]\n",
        "fig, ax = plt.subplots(1, 2)\n",
        "ax[0].plot(ccp_alphas, node_counts, marker='o', drawstyle=\"steps-post\")\n",
        "ax[0].set_xlabel(\"alfa\")\n",
        "ax[0].set_ylabel(\"Número de nodos\")\n",
        "ax[0].set_title(\"Número de nodos vs alfa\")\n",
        "ax[1].plot(ccp_alphas, depth, marker='o', drawstyle=\"steps-post\")\n",
        "ax[1].set_xlabel(\"alfa\")\n",
        "ax[1].set_ylabel(\"Profundidad del árbol\")\n",
        "ax[1].set_title(\"Profundidad vs alpha\")\n",
        "fig.tight_layout()\n",
        "\n",
        "# Error vs Alpha para conjuntos de entrenamiento y test\n",
        "train_scores = [clf.score(train_rg_X, train_rg_y) for clf in clfs]\n",
        "test_scores = [clf.score(test_rg_X, test_rg_y) for clf in clfs]\n",
        "\n",
        "fig, ax = plt.subplots()\n",
        "ax.set_xlabel(\"alpha\")\n",
        "ax.set_ylabel(\"R2 score\")\n",
        "ax.set_title(\"R2 score vs alfa para conjuntos de entrenamiento y test\")\n",
        "ax.plot(ccp_alphas, train_scores, marker='o', label=\"train\",\n",
        "        drawstyle=\"steps-post\")\n",
        "ax.plot(ccp_alphas, test_scores, marker='o', label=\"test\",\n",
        "        drawstyle=\"steps-post\")\n",
        "ax.legend()\n",
        "plt.show()\n",
        "\n",
        "print(\"Maximo en alpha: \", ccp_alphas[np.argmax(test_scores, axis=0)])\n",
        "print(\"Corresponde con el alpha en posición: \", np.argmax(test_scores, axis=0))\n",
        "\n",
        "#Se utiliza este alpha. Con Alphas más pequeños hay overfitting, porque se empizan a obtener muy buenos\n",
        "# resultados para train pero empiza a bajar el R2 score en test.\n",
        "best_DT_rg_model = clfs[np.argmax(test_scores, axis=0)]"
      ],
      "execution_count": null,
      "outputs": [
        {
          "output_type": "stream",
          "text": [
            "Numero de nodos en el último árbol es: 1 con ccp_alpha: 2058566458.8500032\n"
          ],
          "name": "stdout"
        },
        {
          "output_type": "error",
          "ename": "KeyboardInterrupt",
          "evalue": "",
          "traceback": [
            "\u001b[0;31m---------------------------------------------------------------------------\u001b[0m",
            "\u001b[0;31mKeyboardInterrupt\u001b[0m                         Traceback (most recent call last)",
            "\u001b[0;32m<ipython-input-51-85f260ce4910>\u001b[0m in \u001b[0;36m<module>\u001b[0;34m\u001b[0m\n\u001b[1;32m     50\u001b[0m \u001b[0;34m\u001b[0m\u001b[0m\n\u001b[1;32m     51\u001b[0m \u001b[0;31m# Error vs Alpha para conjuntos de entrenamiento y test\u001b[0m\u001b[0;34m\u001b[0m\u001b[0;34m\u001b[0m\u001b[0;34m\u001b[0m\u001b[0m\n\u001b[0;32m---> 52\u001b[0;31m \u001b[0mtrain_scores\u001b[0m \u001b[0;34m=\u001b[0m \u001b[0;34m[\u001b[0m\u001b[0mclf\u001b[0m\u001b[0;34m.\u001b[0m\u001b[0mscore\u001b[0m\u001b[0;34m(\u001b[0m\u001b[0mtrain_rg_X\u001b[0m\u001b[0;34m,\u001b[0m \u001b[0mtrain_rg_y\u001b[0m\u001b[0;34m)\u001b[0m \u001b[0;32mfor\u001b[0m \u001b[0mclf\u001b[0m \u001b[0;32min\u001b[0m \u001b[0mclfs\u001b[0m\u001b[0;34m]\u001b[0m\u001b[0;34m\u001b[0m\u001b[0;34m\u001b[0m\u001b[0m\n\u001b[0m\u001b[1;32m     53\u001b[0m \u001b[0mtest_scores\u001b[0m \u001b[0;34m=\u001b[0m \u001b[0;34m[\u001b[0m\u001b[0mclf\u001b[0m\u001b[0;34m.\u001b[0m\u001b[0mscore\u001b[0m\u001b[0;34m(\u001b[0m\u001b[0mtest_rg_X\u001b[0m\u001b[0;34m,\u001b[0m \u001b[0mtest_rg_y\u001b[0m\u001b[0;34m)\u001b[0m \u001b[0;32mfor\u001b[0m \u001b[0mclf\u001b[0m \u001b[0;32min\u001b[0m \u001b[0mclfs\u001b[0m\u001b[0;34m]\u001b[0m\u001b[0;34m\u001b[0m\u001b[0;34m\u001b[0m\u001b[0m\n\u001b[1;32m     54\u001b[0m \u001b[0;34m\u001b[0m\u001b[0m\n",
            "\u001b[0;32m<ipython-input-51-85f260ce4910>\u001b[0m in \u001b[0;36m<listcomp>\u001b[0;34m(.0)\u001b[0m\n\u001b[1;32m     50\u001b[0m \u001b[0;34m\u001b[0m\u001b[0m\n\u001b[1;32m     51\u001b[0m \u001b[0;31m# Error vs Alpha para conjuntos de entrenamiento y test\u001b[0m\u001b[0;34m\u001b[0m\u001b[0;34m\u001b[0m\u001b[0;34m\u001b[0m\u001b[0m\n\u001b[0;32m---> 52\u001b[0;31m \u001b[0mtrain_scores\u001b[0m \u001b[0;34m=\u001b[0m \u001b[0;34m[\u001b[0m\u001b[0mclf\u001b[0m\u001b[0;34m.\u001b[0m\u001b[0mscore\u001b[0m\u001b[0;34m(\u001b[0m\u001b[0mtrain_rg_X\u001b[0m\u001b[0;34m,\u001b[0m \u001b[0mtrain_rg_y\u001b[0m\u001b[0;34m)\u001b[0m \u001b[0;32mfor\u001b[0m \u001b[0mclf\u001b[0m \u001b[0;32min\u001b[0m \u001b[0mclfs\u001b[0m\u001b[0;34m]\u001b[0m\u001b[0;34m\u001b[0m\u001b[0;34m\u001b[0m\u001b[0m\n\u001b[0m\u001b[1;32m     53\u001b[0m \u001b[0mtest_scores\u001b[0m \u001b[0;34m=\u001b[0m \u001b[0;34m[\u001b[0m\u001b[0mclf\u001b[0m\u001b[0;34m.\u001b[0m\u001b[0mscore\u001b[0m\u001b[0;34m(\u001b[0m\u001b[0mtest_rg_X\u001b[0m\u001b[0;34m,\u001b[0m \u001b[0mtest_rg_y\u001b[0m\u001b[0;34m)\u001b[0m \u001b[0;32mfor\u001b[0m \u001b[0mclf\u001b[0m \u001b[0;32min\u001b[0m \u001b[0mclfs\u001b[0m\u001b[0;34m]\u001b[0m\u001b[0;34m\u001b[0m\u001b[0;34m\u001b[0m\u001b[0m\n\u001b[1;32m     54\u001b[0m \u001b[0;34m\u001b[0m\u001b[0m\n",
            "\u001b[0;32m~/anaconda3/lib/python3.7/site-packages/sklearn/base.py\u001b[0m in \u001b[0;36mscore\u001b[0;34m(self, X, y, sample_weight)\u001b[0m\n\u001b[1;32m    420\u001b[0m         \u001b[0;32mfrom\u001b[0m \u001b[0;34m.\u001b[0m\u001b[0mmetrics\u001b[0m \u001b[0;32mimport\u001b[0m \u001b[0mr2_score\u001b[0m\u001b[0;34m\u001b[0m\u001b[0;34m\u001b[0m\u001b[0m\n\u001b[1;32m    421\u001b[0m         \u001b[0;32mfrom\u001b[0m \u001b[0;34m.\u001b[0m\u001b[0mmetrics\u001b[0m\u001b[0;34m.\u001b[0m\u001b[0m_regression\u001b[0m \u001b[0;32mimport\u001b[0m \u001b[0m_check_reg_targets\u001b[0m\u001b[0;34m\u001b[0m\u001b[0;34m\u001b[0m\u001b[0m\n\u001b[0;32m--> 422\u001b[0;31m         \u001b[0my_pred\u001b[0m \u001b[0;34m=\u001b[0m \u001b[0mself\u001b[0m\u001b[0;34m.\u001b[0m\u001b[0mpredict\u001b[0m\u001b[0;34m(\u001b[0m\u001b[0mX\u001b[0m\u001b[0;34m)\u001b[0m\u001b[0;34m\u001b[0m\u001b[0;34m\u001b[0m\u001b[0m\n\u001b[0m\u001b[1;32m    423\u001b[0m         \u001b[0;31m# XXX: Remove the check in 0.23\u001b[0m\u001b[0;34m\u001b[0m\u001b[0;34m\u001b[0m\u001b[0;34m\u001b[0m\u001b[0m\n\u001b[1;32m    424\u001b[0m         \u001b[0my_type\u001b[0m\u001b[0;34m,\u001b[0m \u001b[0m_\u001b[0m\u001b[0;34m,\u001b[0m \u001b[0m_\u001b[0m\u001b[0;34m,\u001b[0m \u001b[0m_\u001b[0m \u001b[0;34m=\u001b[0m \u001b[0m_check_reg_targets\u001b[0m\u001b[0;34m(\u001b[0m\u001b[0my\u001b[0m\u001b[0;34m,\u001b[0m \u001b[0my_pred\u001b[0m\u001b[0;34m,\u001b[0m \u001b[0;32mNone\u001b[0m\u001b[0;34m)\u001b[0m\u001b[0;34m\u001b[0m\u001b[0;34m\u001b[0m\u001b[0m\n",
            "\u001b[0;32m~/anaconda3/lib/python3.7/site-packages/sklearn/tree/_classes.py\u001b[0m in \u001b[0;36mpredict\u001b[0;34m(self, X, check_input)\u001b[0m\n\u001b[1;32m    417\u001b[0m         \"\"\"\n\u001b[1;32m    418\u001b[0m         \u001b[0mcheck_is_fitted\u001b[0m\u001b[0;34m(\u001b[0m\u001b[0mself\u001b[0m\u001b[0;34m)\u001b[0m\u001b[0;34m\u001b[0m\u001b[0;34m\u001b[0m\u001b[0m\n\u001b[0;32m--> 419\u001b[0;31m         \u001b[0mX\u001b[0m \u001b[0;34m=\u001b[0m \u001b[0mself\u001b[0m\u001b[0;34m.\u001b[0m\u001b[0m_validate_X_predict\u001b[0m\u001b[0;34m(\u001b[0m\u001b[0mX\u001b[0m\u001b[0;34m,\u001b[0m \u001b[0mcheck_input\u001b[0m\u001b[0;34m)\u001b[0m\u001b[0;34m\u001b[0m\u001b[0;34m\u001b[0m\u001b[0m\n\u001b[0m\u001b[1;32m    420\u001b[0m         \u001b[0mproba\u001b[0m \u001b[0;34m=\u001b[0m \u001b[0mself\u001b[0m\u001b[0;34m.\u001b[0m\u001b[0mtree_\u001b[0m\u001b[0;34m.\u001b[0m\u001b[0mpredict\u001b[0m\u001b[0;34m(\u001b[0m\u001b[0mX\u001b[0m\u001b[0;34m)\u001b[0m\u001b[0;34m\u001b[0m\u001b[0;34m\u001b[0m\u001b[0m\n\u001b[1;32m    421\u001b[0m         \u001b[0mn_samples\u001b[0m \u001b[0;34m=\u001b[0m \u001b[0mX\u001b[0m\u001b[0;34m.\u001b[0m\u001b[0mshape\u001b[0m\u001b[0;34m[\u001b[0m\u001b[0;36m0\u001b[0m\u001b[0;34m]\u001b[0m\u001b[0;34m\u001b[0m\u001b[0;34m\u001b[0m\u001b[0m\n",
            "\u001b[0;32m~/anaconda3/lib/python3.7/site-packages/sklearn/tree/_classes.py\u001b[0m in \u001b[0;36m_validate_X_predict\u001b[0;34m(self, X, check_input)\u001b[0m\n\u001b[1;32m    378\u001b[0m         \u001b[0;34m\"\"\"Validate X whenever one tries to predict, apply, predict_proba\"\"\"\u001b[0m\u001b[0;34m\u001b[0m\u001b[0;34m\u001b[0m\u001b[0m\n\u001b[1;32m    379\u001b[0m         \u001b[0;32mif\u001b[0m \u001b[0mcheck_input\u001b[0m\u001b[0;34m:\u001b[0m\u001b[0;34m\u001b[0m\u001b[0;34m\u001b[0m\u001b[0m\n\u001b[0;32m--> 380\u001b[0;31m             \u001b[0mX\u001b[0m \u001b[0;34m=\u001b[0m \u001b[0mcheck_array\u001b[0m\u001b[0;34m(\u001b[0m\u001b[0mX\u001b[0m\u001b[0;34m,\u001b[0m \u001b[0mdtype\u001b[0m\u001b[0;34m=\u001b[0m\u001b[0mDTYPE\u001b[0m\u001b[0;34m,\u001b[0m \u001b[0maccept_sparse\u001b[0m\u001b[0;34m=\u001b[0m\u001b[0;34m\"csr\"\u001b[0m\u001b[0;34m)\u001b[0m\u001b[0;34m\u001b[0m\u001b[0;34m\u001b[0m\u001b[0m\n\u001b[0m\u001b[1;32m    381\u001b[0m             if issparse(X) and (X.indices.dtype != np.intc or\n\u001b[1;32m    382\u001b[0m                                 X.indptr.dtype != np.intc):\n",
            "\u001b[0;32m~/anaconda3/lib/python3.7/site-packages/sklearn/utils/validation.py\u001b[0m in \u001b[0;36mcheck_array\u001b[0;34m(array, accept_sparse, accept_large_sparse, dtype, order, copy, force_all_finite, ensure_2d, allow_nd, ensure_min_samples, ensure_min_features, warn_on_dtype, estimator)\u001b[0m\n\u001b[1;32m    529\u001b[0m                     \u001b[0marray\u001b[0m \u001b[0;34m=\u001b[0m \u001b[0marray\u001b[0m\u001b[0;34m.\u001b[0m\u001b[0mastype\u001b[0m\u001b[0;34m(\u001b[0m\u001b[0mdtype\u001b[0m\u001b[0;34m,\u001b[0m \u001b[0mcasting\u001b[0m\u001b[0;34m=\u001b[0m\u001b[0;34m\"unsafe\"\u001b[0m\u001b[0;34m,\u001b[0m \u001b[0mcopy\u001b[0m\u001b[0;34m=\u001b[0m\u001b[0;32mFalse\u001b[0m\u001b[0;34m)\u001b[0m\u001b[0;34m\u001b[0m\u001b[0;34m\u001b[0m\u001b[0m\n\u001b[1;32m    530\u001b[0m                 \u001b[0;32melse\u001b[0m\u001b[0;34m:\u001b[0m\u001b[0;34m\u001b[0m\u001b[0;34m\u001b[0m\u001b[0m\n\u001b[0;32m--> 531\u001b[0;31m                     \u001b[0marray\u001b[0m \u001b[0;34m=\u001b[0m \u001b[0mnp\u001b[0m\u001b[0;34m.\u001b[0m\u001b[0masarray\u001b[0m\u001b[0;34m(\u001b[0m\u001b[0marray\u001b[0m\u001b[0;34m,\u001b[0m \u001b[0morder\u001b[0m\u001b[0;34m=\u001b[0m\u001b[0morder\u001b[0m\u001b[0;34m,\u001b[0m \u001b[0mdtype\u001b[0m\u001b[0;34m=\u001b[0m\u001b[0mdtype\u001b[0m\u001b[0;34m)\u001b[0m\u001b[0;34m\u001b[0m\u001b[0;34m\u001b[0m\u001b[0m\n\u001b[0m\u001b[1;32m    532\u001b[0m             \u001b[0;32mexcept\u001b[0m \u001b[0mComplexWarning\u001b[0m\u001b[0;34m:\u001b[0m\u001b[0;34m\u001b[0m\u001b[0;34m\u001b[0m\u001b[0m\n\u001b[1;32m    533\u001b[0m                 raise ValueError(\"Complex data not supported\\n\"\n",
            "\u001b[0;32m~/anaconda3/lib/python3.7/site-packages/numpy/core/_asarray.py\u001b[0m in \u001b[0;36masarray\u001b[0;34m(a, dtype, order)\u001b[0m\n\u001b[1;32m     83\u001b[0m \u001b[0;34m\u001b[0m\u001b[0m\n\u001b[1;32m     84\u001b[0m     \"\"\"\n\u001b[0;32m---> 85\u001b[0;31m     \u001b[0;32mreturn\u001b[0m \u001b[0marray\u001b[0m\u001b[0;34m(\u001b[0m\u001b[0ma\u001b[0m\u001b[0;34m,\u001b[0m \u001b[0mdtype\u001b[0m\u001b[0;34m,\u001b[0m \u001b[0mcopy\u001b[0m\u001b[0;34m=\u001b[0m\u001b[0;32mFalse\u001b[0m\u001b[0;34m,\u001b[0m \u001b[0morder\u001b[0m\u001b[0;34m=\u001b[0m\u001b[0morder\u001b[0m\u001b[0;34m)\u001b[0m\u001b[0;34m\u001b[0m\u001b[0;34m\u001b[0m\u001b[0m\n\u001b[0m\u001b[1;32m     86\u001b[0m \u001b[0;34m\u001b[0m\u001b[0m\n\u001b[1;32m     87\u001b[0m \u001b[0;34m\u001b[0m\u001b[0m\n",
            "\u001b[0;32m~/anaconda3/lib/python3.7/site-packages/pandas/core/generic.py\u001b[0m in \u001b[0;36m__array__\u001b[0;34m(self, dtype)\u001b[0m\n\u001b[1;32m   1907\u001b[0m \u001b[0;34m\u001b[0m\u001b[0m\n\u001b[1;32m   1908\u001b[0m     \u001b[0;32mdef\u001b[0m \u001b[0m__array__\u001b[0m\u001b[0;34m(\u001b[0m\u001b[0mself\u001b[0m\u001b[0;34m,\u001b[0m \u001b[0mdtype\u001b[0m\u001b[0;34m=\u001b[0m\u001b[0;32mNone\u001b[0m\u001b[0;34m)\u001b[0m \u001b[0;34m->\u001b[0m \u001b[0mnp\u001b[0m\u001b[0;34m.\u001b[0m\u001b[0mndarray\u001b[0m\u001b[0;34m:\u001b[0m\u001b[0;34m\u001b[0m\u001b[0;34m\u001b[0m\u001b[0m\n\u001b[0;32m-> 1909\u001b[0;31m         \u001b[0;32mreturn\u001b[0m \u001b[0mcom\u001b[0m\u001b[0;34m.\u001b[0m\u001b[0mvalues_from_object\u001b[0m\u001b[0;34m(\u001b[0m\u001b[0mself\u001b[0m\u001b[0;34m)\u001b[0m\u001b[0;34m\u001b[0m\u001b[0;34m\u001b[0m\u001b[0m\n\u001b[0m\u001b[1;32m   1910\u001b[0m \u001b[0;34m\u001b[0m\u001b[0m\n\u001b[1;32m   1911\u001b[0m     \u001b[0;32mdef\u001b[0m \u001b[0m__array_wrap__\u001b[0m\u001b[0;34m(\u001b[0m\u001b[0mself\u001b[0m\u001b[0;34m,\u001b[0m \u001b[0mresult\u001b[0m\u001b[0;34m,\u001b[0m \u001b[0mcontext\u001b[0m\u001b[0;34m=\u001b[0m\u001b[0;32mNone\u001b[0m\u001b[0;34m)\u001b[0m\u001b[0;34m:\u001b[0m\u001b[0;34m\u001b[0m\u001b[0;34m\u001b[0m\u001b[0m\n",
            "\u001b[0;32mpandas/_libs/lib.pyx\u001b[0m in \u001b[0;36mpandas._libs.lib.values_from_object\u001b[0;34m()\u001b[0m\n",
            "\u001b[0;32m~/anaconda3/lib/python3.7/site-packages/pandas/core/generic.py\u001b[0m in \u001b[0;36mvalues\u001b[0;34m(self)\u001b[0m\n\u001b[1;32m   5485\u001b[0m         \"\"\"\n\u001b[1;32m   5486\u001b[0m         \u001b[0mself\u001b[0m\u001b[0;34m.\u001b[0m\u001b[0m_consolidate_inplace\u001b[0m\u001b[0;34m(\u001b[0m\u001b[0;34m)\u001b[0m\u001b[0;34m\u001b[0m\u001b[0;34m\u001b[0m\u001b[0m\n\u001b[0;32m-> 5487\u001b[0;31m         \u001b[0;32mreturn\u001b[0m \u001b[0mself\u001b[0m\u001b[0;34m.\u001b[0m\u001b[0m_data\u001b[0m\u001b[0;34m.\u001b[0m\u001b[0mas_array\u001b[0m\u001b[0;34m(\u001b[0m\u001b[0mtranspose\u001b[0m\u001b[0;34m=\u001b[0m\u001b[0mself\u001b[0m\u001b[0;34m.\u001b[0m\u001b[0m_AXIS_REVERSED\u001b[0m\u001b[0;34m)\u001b[0m\u001b[0;34m\u001b[0m\u001b[0;34m\u001b[0m\u001b[0m\n\u001b[0m\u001b[1;32m   5488\u001b[0m \u001b[0;34m\u001b[0m\u001b[0m\n\u001b[1;32m   5489\u001b[0m     \u001b[0;34m@\u001b[0m\u001b[0mproperty\u001b[0m\u001b[0;34m\u001b[0m\u001b[0;34m\u001b[0m\u001b[0m\n",
            "\u001b[0;32m~/anaconda3/lib/python3.7/site-packages/pandas/core/internals/managers.py\u001b[0m in \u001b[0;36mas_array\u001b[0;34m(self, transpose, items)\u001b[0m\n\u001b[1;32m    828\u001b[0m             \u001b[0marr\u001b[0m \u001b[0;34m=\u001b[0m \u001b[0mnp\u001b[0m\u001b[0;34m.\u001b[0m\u001b[0masarray\u001b[0m\u001b[0;34m(\u001b[0m\u001b[0mmgr\u001b[0m\u001b[0;34m.\u001b[0m\u001b[0mblocks\u001b[0m\u001b[0;34m[\u001b[0m\u001b[0;36m0\u001b[0m\u001b[0;34m]\u001b[0m\u001b[0;34m.\u001b[0m\u001b[0mget_values\u001b[0m\u001b[0;34m(\u001b[0m\u001b[0;34m)\u001b[0m\u001b[0;34m)\u001b[0m\u001b[0;34m\u001b[0m\u001b[0;34m\u001b[0m\u001b[0m\n\u001b[1;32m    829\u001b[0m         \u001b[0;32melse\u001b[0m\u001b[0;34m:\u001b[0m\u001b[0;34m\u001b[0m\u001b[0;34m\u001b[0m\u001b[0m\n\u001b[0;32m--> 830\u001b[0;31m             \u001b[0marr\u001b[0m \u001b[0;34m=\u001b[0m \u001b[0mmgr\u001b[0m\u001b[0;34m.\u001b[0m\u001b[0m_interleave\u001b[0m\u001b[0;34m(\u001b[0m\u001b[0;34m)\u001b[0m\u001b[0;34m\u001b[0m\u001b[0;34m\u001b[0m\u001b[0m\n\u001b[0m\u001b[1;32m    831\u001b[0m \u001b[0;34m\u001b[0m\u001b[0m\n\u001b[1;32m    832\u001b[0m         \u001b[0;32mreturn\u001b[0m \u001b[0marr\u001b[0m\u001b[0;34m.\u001b[0m\u001b[0mtranspose\u001b[0m\u001b[0;34m(\u001b[0m\u001b[0;34m)\u001b[0m \u001b[0;32mif\u001b[0m \u001b[0mtranspose\u001b[0m \u001b[0;32melse\u001b[0m \u001b[0marr\u001b[0m\u001b[0;34m\u001b[0m\u001b[0;34m\u001b[0m\u001b[0m\n",
            "\u001b[0;32m~/anaconda3/lib/python3.7/site-packages/pandas/core/internals/managers.py\u001b[0m in \u001b[0;36m_interleave\u001b[0;34m(self)\u001b[0m\n\u001b[1;32m    837\u001b[0m         \u001b[0mItems\u001b[0m \u001b[0mmust\u001b[0m \u001b[0mbe\u001b[0m \u001b[0mcontained\u001b[0m \u001b[0;32min\u001b[0m \u001b[0mthe\u001b[0m \u001b[0mblocks\u001b[0m\u001b[0;34m\u001b[0m\u001b[0;34m\u001b[0m\u001b[0m\n\u001b[1;32m    838\u001b[0m         \"\"\"\n\u001b[0;32m--> 839\u001b[0;31m         \u001b[0mdtype\u001b[0m \u001b[0;34m=\u001b[0m \u001b[0m_interleaved_dtype\u001b[0m\u001b[0;34m(\u001b[0m\u001b[0mself\u001b[0m\u001b[0;34m.\u001b[0m\u001b[0mblocks\u001b[0m\u001b[0;34m)\u001b[0m\u001b[0;34m\u001b[0m\u001b[0;34m\u001b[0m\u001b[0m\n\u001b[0m\u001b[1;32m    840\u001b[0m \u001b[0;34m\u001b[0m\u001b[0m\n\u001b[1;32m    841\u001b[0m         \u001b[0;31m# TODO: https://github.com/pandas-dev/pandas/issues/22791\u001b[0m\u001b[0;34m\u001b[0m\u001b[0;34m\u001b[0m\u001b[0;34m\u001b[0m\u001b[0m\n",
            "\u001b[0;32m~/anaconda3/lib/python3.7/site-packages/pandas/core/internals/managers.py\u001b[0m in \u001b[0;36m_interleaved_dtype\u001b[0;34m(blocks)\u001b[0m\n\u001b[1;32m   1870\u001b[0m         \u001b[0;32mreturn\u001b[0m \u001b[0;32mNone\u001b[0m\u001b[0;34m\u001b[0m\u001b[0;34m\u001b[0m\u001b[0m\n\u001b[1;32m   1871\u001b[0m \u001b[0;34m\u001b[0m\u001b[0m\n\u001b[0;32m-> 1872\u001b[0;31m     \u001b[0;32mreturn\u001b[0m \u001b[0mfind_common_type\u001b[0m\u001b[0;34m(\u001b[0m\u001b[0;34m[\u001b[0m\u001b[0mb\u001b[0m\u001b[0;34m.\u001b[0m\u001b[0mdtype\u001b[0m \u001b[0;32mfor\u001b[0m \u001b[0mb\u001b[0m \u001b[0;32min\u001b[0m \u001b[0mblocks\u001b[0m\u001b[0;34m]\u001b[0m\u001b[0;34m)\u001b[0m\u001b[0;34m\u001b[0m\u001b[0;34m\u001b[0m\u001b[0m\n\u001b[0m\u001b[1;32m   1873\u001b[0m \u001b[0;34m\u001b[0m\u001b[0m\n\u001b[1;32m   1874\u001b[0m \u001b[0;34m\u001b[0m\u001b[0m\n",
            "\u001b[0;32m~/anaconda3/lib/python3.7/site-packages/pandas/core/dtypes/cast.py\u001b[0m in \u001b[0;36mfind_common_type\u001b[0;34m(types)\u001b[0m\n\u001b[1;32m   1394\u001b[0m                 \u001b[0;32mreturn\u001b[0m \u001b[0mnp\u001b[0m\u001b[0;34m.\u001b[0m\u001b[0mobject\u001b[0m\u001b[0;34m\u001b[0m\u001b[0;34m\u001b[0m\u001b[0m\n\u001b[1;32m   1395\u001b[0m \u001b[0;34m\u001b[0m\u001b[0m\n\u001b[0;32m-> 1396\u001b[0;31m     \u001b[0;32mreturn\u001b[0m \u001b[0mnp\u001b[0m\u001b[0;34m.\u001b[0m\u001b[0mfind_common_type\u001b[0m\u001b[0;34m(\u001b[0m\u001b[0mtypes\u001b[0m\u001b[0;34m,\u001b[0m \u001b[0;34m[\u001b[0m\u001b[0;34m]\u001b[0m\u001b[0;34m)\u001b[0m\u001b[0;34m\u001b[0m\u001b[0;34m\u001b[0m\u001b[0m\n\u001b[0m\u001b[1;32m   1397\u001b[0m \u001b[0;34m\u001b[0m\u001b[0m\n\u001b[1;32m   1398\u001b[0m \u001b[0;34m\u001b[0m\u001b[0m\n",
            "\u001b[0;32m~/anaconda3/lib/python3.7/site-packages/numpy/core/numerictypes.py\u001b[0m in \u001b[0;36mfind_common_type\u001b[0;34m(array_types, scalar_types)\u001b[0m\n\u001b[1;32m    655\u001b[0m     \u001b[0mscalar_types\u001b[0m \u001b[0;34m=\u001b[0m \u001b[0;34m[\u001b[0m\u001b[0mdtype\u001b[0m\u001b[0;34m(\u001b[0m\u001b[0mx\u001b[0m\u001b[0;34m)\u001b[0m \u001b[0;32mfor\u001b[0m \u001b[0mx\u001b[0m \u001b[0;32min\u001b[0m \u001b[0mscalar_types\u001b[0m\u001b[0;34m]\u001b[0m\u001b[0;34m\u001b[0m\u001b[0;34m\u001b[0m\u001b[0m\n\u001b[1;32m    656\u001b[0m \u001b[0;34m\u001b[0m\u001b[0m\n\u001b[0;32m--> 657\u001b[0;31m     \u001b[0mmaxa\u001b[0m \u001b[0;34m=\u001b[0m \u001b[0m_can_coerce_all\u001b[0m\u001b[0;34m(\u001b[0m\u001b[0marray_types\u001b[0m\u001b[0;34m)\u001b[0m\u001b[0;34m\u001b[0m\u001b[0;34m\u001b[0m\u001b[0m\n\u001b[0m\u001b[1;32m    658\u001b[0m     \u001b[0mmaxsc\u001b[0m \u001b[0;34m=\u001b[0m \u001b[0m_can_coerce_all\u001b[0m\u001b[0;34m(\u001b[0m\u001b[0mscalar_types\u001b[0m\u001b[0;34m)\u001b[0m\u001b[0;34m\u001b[0m\u001b[0;34m\u001b[0m\u001b[0m\n\u001b[1;32m    659\u001b[0m \u001b[0;34m\u001b[0m\u001b[0m\n",
            "\u001b[0;32m~/anaconda3/lib/python3.7/site-packages/numpy/core/numerictypes.py\u001b[0m in \u001b[0;36m_can_coerce_all\u001b[0;34m(dtypelist, start)\u001b[0m\n\u001b[1;32m    583\u001b[0m         \u001b[0;32mreturn\u001b[0m \u001b[0mdtypelist\u001b[0m\u001b[0;34m[\u001b[0m\u001b[0;36m0\u001b[0m\u001b[0;34m]\u001b[0m\u001b[0;34m\u001b[0m\u001b[0;34m\u001b[0m\u001b[0m\n\u001b[1;32m    584\u001b[0m     \u001b[0mthisind\u001b[0m \u001b[0;34m=\u001b[0m \u001b[0mstart\u001b[0m\u001b[0;34m\u001b[0m\u001b[0;34m\u001b[0m\u001b[0m\n\u001b[0;32m--> 585\u001b[0;31m     \u001b[0;32mwhile\u001b[0m \u001b[0mthisind\u001b[0m \u001b[0;34m<\u001b[0m \u001b[0m__len_test_types\u001b[0m\u001b[0;34m:\u001b[0m\u001b[0;34m\u001b[0m\u001b[0;34m\u001b[0m\u001b[0m\n\u001b[0m\u001b[1;32m    586\u001b[0m         \u001b[0mnewdtype\u001b[0m \u001b[0;34m=\u001b[0m \u001b[0mdtype\u001b[0m\u001b[0;34m(\u001b[0m\u001b[0m__test_types\u001b[0m\u001b[0;34m[\u001b[0m\u001b[0mthisind\u001b[0m\u001b[0;34m]\u001b[0m\u001b[0;34m)\u001b[0m\u001b[0;34m\u001b[0m\u001b[0;34m\u001b[0m\u001b[0m\n\u001b[1;32m    587\u001b[0m         \u001b[0mnumcoerce\u001b[0m \u001b[0;34m=\u001b[0m \u001b[0mlen\u001b[0m\u001b[0;34m(\u001b[0m\u001b[0;34m[\u001b[0m\u001b[0mx\u001b[0m \u001b[0;32mfor\u001b[0m \u001b[0mx\u001b[0m \u001b[0;32min\u001b[0m \u001b[0mdtypelist\u001b[0m \u001b[0;32mif\u001b[0m \u001b[0mnewdtype\u001b[0m \u001b[0;34m>=\u001b[0m \u001b[0mx\u001b[0m\u001b[0;34m]\u001b[0m\u001b[0;34m)\u001b[0m\u001b[0;34m\u001b[0m\u001b[0;34m\u001b[0m\u001b[0m\n",
            "\u001b[0;31mKeyboardInterrupt\u001b[0m: "
          ]
        },
        {
          "output_type": "display_data",
          "data": {
            "image/png": "[encoded data removed]",
            "text/plain": [
              "<Figure size 432x288 with 1 Axes>"
            ]
          },
          "metadata": {
            "tags": [],
            "needs_background": "light"
          }
        },
        {
          "output_type": "display_data",
          "data": {
            "image/png": "[encoded data removed]",
            "text/plain": [
              "<Figure size 432x288 with 2 Axes>"
            ]
          },
          "metadata": {
            "tags": [],
            "needs_background": "light"
          }
        }
      ]
    },
    {
      "cell_type": "markdown",
      "metadata": {
        "id": "rdcBJnZ5Iv79"
      },
      "source": [
        "En esta última gráfica se muestra el R2_score tanto para los conjuntos de entrenamiento como de test. El modelo seleccionado es el que consigue el máximo de R2_score en los datos de test. Se calcula el rendiminto con este modelo"
      ]
    },
    {
      "cell_type": "code",
      "metadata": {
        "scrolled": false,
        "id": "9PCpiLxuIv79"
      },
      "source": [
        "performanceRegressor(best_DT_rg_model, train_rg_X, train_rg_y, test_rg_X, test_rg_y)"
      ],
      "execution_count": null,
      "outputs": []
    },
    {
      "cell_type": "markdown",
      "metadata": {
        "id": "t1nQg0JzIv8A"
      },
      "source": [
        "**Conclusiones Regresión con Árboles de decisión**\n",
        "\n",
        "Ambos modelos obtienen resultados parecidos, por lo tanto, como en el apartado anterior, no pueden considerarse buenos resultados.\n",
        "\n",
        "Sin embargo, el modelo optimizado encuentra un árbol menos costoso computacionalmente y con prestaciones cercanas al modelo por defecto. Esto se aprecia claramente comparando las métricas.\n",
        "\n",
        "Métrica | Modelo por defecto | Modelo optimizado\n",
        "------- | ------------------ | -----------------\n",
        "MAE | 31337.66894977169 | 32544.103430928655\n",
        "MSE | 3001358090.10274 | 2319317001.948662\n",
        "RMSE | 234.06121412460624 | 219.45224493192774\n",
        "RMLSE | 0.23982545808751918 |0.2514773568184942 \n",
        "R2 score | 0.5698885407784011 | 0.66762885661822\n",
        "\n",
        "El árbol resultante del segundo modelo es más sencillo que el del modelo por defecto. Esto puede apreciarse en:\n",
        "\n",
        "* La gráfica de dispersión del segundo modelo. Se observa que aparece un número muy reducido de hojas finales, por lo que los datos predichos forman líneas horizontales. Con el modelo por defecto no se aprecia.\n",
        "\n",
        "* La lista de variables más importantes sólo muestra 8 variables. El modelo sólo utiliza estas 8 variables.\n",
        "\n",
        "Este segundo modelo es, por tanto, más fácil de interpretar gráficamente como se muestra a continuación:"
      ]
    },
    {
      "cell_type": "code",
      "metadata": {
        "id": "Zos64kZzIv8A"
      },
      "source": [
        "plot_tree_model(best_DT_rg_model)"
      ],
      "execution_count": null,
      "outputs": []
    },
    {
      "cell_type": "markdown",
      "metadata": {
        "id": "G88ynJ87Iv8D"
      },
      "source": [
        "#### Regresión con Random Forest\n",
        "\n",
        "Como en en caso anterior, se muestran primero los resultados obtenidos utilizando el RandomForest por defecto."
      ]
    },
    {
      "cell_type": "code",
      "metadata": {
        "scrolled": true,
        "id": "GeLskqmuIv8D"
      },
      "source": [
        "from sklearn.ensemble import RandomForestRegressor\n",
        "import numpy as np\n",
        "\n",
        "# Instantiate model with 1000 decision trees\n",
        "RF_rg_model_1 = RandomForestRegressor(random_state=RANDOM_STATE)\n",
        "\n",
        "performanceRegressor(RF_rg_model_1, train_rg_X, train_rg_y, test_rg_X, test_rg_y)"
      ],
      "execution_count": null,
      "outputs": []
    },
    {
      "cell_type": "markdown",
      "metadata": {
        "id": "Fgv-_xmYIv8G"
      },
      "source": [
        "**Primeras conclusiones regresión con Random Forest**\n",
        "\n",
        "Con estos resultados, ya puede apreciarse una mejora muy llamativa respecto al desempeño de los árboles de decisión en todas las métricas:\n",
        "\n",
        "Métrica | Mejor dato en modelos con Árbol de decisión | Random Forest por defecto\n",
        "------- | ------------------------------------------- | ------------------------- \n",
        "MAE | 31337.66894977169 | 19403.320342465755\n",
        "MSE | 2319317001.948662 | 966667014.7308446\n",
        "RMSE | 219.45224493192774 | 176.3271649739627\n",
        "RMLSE | 0.23982545808751918 | 0.1608876034451029\n",
        "R2 score | 0.66762885661822 | 0.8614711914388603\n",
        "\n",
        "\n",
        "También puede apreciarse cómo la gráfica de dispersión que muestra datos reales vs. datos predichos, se parece más a una recta que en el caso anterior, mostrando un mejor modelo predictor. En este caso, parece que el modelo predice relativamente aceptable inmuebles con precios inferiores a 400000 dolares, mejorando con respecto al modelo anteior.\n"
      ]
    },
    {
      "cell_type": "markdown",
      "metadata": {
        "id": "0yMh1YxGIv8H"
      },
      "source": [
        "A continuación se trata de encontrar un modelo más optimizado en cuanto a recursos computacionales, customizando los parámetros:\n",
        "* \"n_estimators\" que indica el número de árboles que formarán el bosque, y\n",
        "* \"max_depth\" que indica la máxima profundidad de estos árboles.\n",
        "\n",
        "Se comienza con el parámetro n_estimators probando entre 2 y 100 árboles, para cada uno de ellos se obtiene el error RMSE tanto para las muestras de entrenamiento como para las de test y se muestra en una gráfica."
      ]
    },
    {
      "cell_type": "code",
      "metadata": {
        "scrolled": false,
        "id": "N7jMuh6TIv8I"
      },
      "source": [
        "# Calculo de parámetro n_estimators\n",
        "import matplotlib.pyplot as plt\n",
        "from collections import OrderedDict\n",
        "import warnings\n",
        "from sklearn import metrics\n",
        "from math import sqrt\n",
        "warnings.filterwarnings(\"ignore\")\n",
        "\n",
        "error_rate = { \"Test\": [], \"Train\": [] }\n",
        "\n",
        "# Se prueba con entre 2 y 100 árboles en el parámetro n_estimators. Para todos ellos se entrena y se obtiene el RMSE\n",
        "# tanto en el conjunto de entrenamiento como en el de test\n",
        "n_estimators = range(2,100)\n",
        "for i in n_estimators:\n",
        "    clf = RandomForestRegressor(oob_score=True,\n",
        "                                max_features=\"sqrt\",\n",
        "                                random_state=RANDOM_STATE)\n",
        "    clf.set_params(n_estimators=i)\n",
        "    clf.fit(train_rg_X, train_rg_y)\n",
        "    \n",
        "    # Cálculo RMSE en test\n",
        "    predicciones = clf.predict(test_rg_X)\n",
        "    test_error = sqrt(metrics.mean_squared_error(test_rg_y, predicciones))\n",
        "    error_rate['Test'].append((i, test_error))\n",
        "    \n",
        "    # Cálculo RMSE en train\n",
        "    predicciones_train = clf.predict(train_rg_X)\n",
        "    train_error = sqrt(metrics.mean_squared_error(train_rg_y, predicciones_train))\n",
        "    error_rate['Train'].append((i, train_error))\n",
        "\n",
        "# Generación de gráfica RMSE vs n_estimators\n",
        "for label, clf_err in error_rate.items():\n",
        "    xs, ys = zip(*clf_err)\n",
        "    plt.plot(xs, ys, label=label)\n",
        "\n",
        "plt.xlabel(\"n_estimators\")\n",
        "plt.ylabel(\"RMSE\")\n",
        "plt.legend(loc=\"upper right\")\n",
        "plt.show()"
      ],
      "execution_count": null,
      "outputs": []
    },
    {
      "cell_type": "markdown",
      "metadata": {
        "id": "ZcLTsFWeIv8K"
      },
      "source": [
        "En la gráfica puede observarse como a partir de 20 estimadores apenas hay mejora. Se selecciona este parámetro.\n",
        "\n",
        "Ahora se hace lo mismo buscando el parámetro _max_detph_ y con el parámetro anterior fijado a 20"
      ]
    },
    {
      "cell_type": "code",
      "metadata": {
        "scrolled": false,
        "id": "I7zQfrYtIv8L"
      },
      "source": [
        "# Se selecciona 20 como n_estimators\n",
        "# Repito lo mismo para calcular el max_depth\n",
        "import matplotlib.pyplot as plt\n",
        "from collections import OrderedDict\n",
        "from sklearn import metrics\n",
        "from math import sqrt\n",
        "import warnings\n",
        "#warnings.filterwarnings(\"ignore\")\n",
        "\n",
        "error_rate = { \"Test\": [], \"Train\": [] }\n",
        "\n",
        "# Se prueban valores entre entre 1 y 32 para el parámetro max_depth y se obtiene el RMSE en los conjuntos de \n",
        "# entrenamiento y test\n",
        "max_depths = np.linspace(1, 32, 32, endpoint=True)\n",
        "for i in max_depths:\n",
        "    clf = RandomForestRegressor(n_estimators=20,\n",
        "                                max_features=\"sqrt\",\n",
        "                                random_state=RANDOM_STATE)\n",
        "    clf.set_params(max_depth=i)\n",
        "    clf.fit(train_rg_X, train_rg_y)\n",
        "    \n",
        "    #RMSE en test\n",
        "    predicciones = clf.predict(test_rg_X)\n",
        "    test_error = sqrt(metrics.mean_squared_error(test_rg_y, predicciones))\n",
        "    error_rate['Test'].append((i, test_error))\n",
        "    \n",
        "    #RMSE en train\n",
        "    predicciones_train = clf.predict(train_rg_X)\n",
        "    train_error = sqrt(metrics.mean_squared_error(train_rg_y, predicciones_train))\n",
        "    error_rate['Train'].append((i, train_error))\n",
        "     \n",
        "\n",
        "# Se muestra la gŕafica\n",
        "for label, clf_err in error_rate.items():\n",
        "    xs, ys = zip(*clf_err)\n",
        "    plt.plot(xs, ys, label=label)\n",
        "\n",
        "plt.xlabel(\"max_depth\")\n",
        "plt.ylabel(\"RMSE\")\n",
        "plt.legend(loc=\"upper right\")\n",
        "plt.show()"
      ],
      "execution_count": null,
      "outputs": []
    },
    {
      "cell_type": "markdown",
      "metadata": {
        "id": "73TwUBPrIv8N"
      },
      "source": [
        "Puede observarse que por encima de profundidad 13 apenas hay mejora en los datos de test.\n",
        "\n",
        "En base a estos resultados, se busca el performance con estos parámetros: n_estimators = 20, max_depth=13"
      ]
    },
    {
      "cell_type": "code",
      "metadata": {
        "scrolled": true,
        "id": "I21S5S5QIv8N"
      },
      "source": [
        "RF_rg_model2 = RandomForestRegressor(n_estimators=20,\n",
        "                            max_depth=13,\n",
        "                            max_features=\"sqrt\",\n",
        "                            random_state=RANDOM_STATE)\n",
        "performanceRegressor(RF_rg_model2, train_rg_X, train_rg_y, test_rg_X, test_rg_y)"
      ],
      "execution_count": null,
      "outputs": []
    },
    {
      "cell_type": "markdown",
      "metadata": {
        "id": "CDz_3ZxqIv8Q"
      },
      "source": [
        "**Conclusiones regresión con Random Forest**\n",
        "\n",
        "Comparando el modelo por defecto con el modelo optimizado, se obtiene que ambos modelos son muy parecidos pero el modelo por defecto es ligeramente superior en cuanto a capacidad predictiva que el optimizado.\n",
        "\n",
        "Métrica | Random Forest por defecto | Random Forest optimizado\n",
        "------- | ------------------------- | ------------------------\n",
        "MAE | 19403.320342465755 | 21210.161312898697\n",
        "MSE | 966667014.7308446 | 1264441056.044414\n",
        "RMSE | 176.3271649739627 | 188.57088843057792\n",
        "RMLSE | 0.1608876034451029 | 0.18119420289185165\n",
        "R2 score | 0.8614711914388603 | 0.8187985000828922\n",
        "\n",
        "A cambio, el modelo optimizado es menos costoso computacionalmente. Por ejemplo, puede observarse que el modelo por defecto utiliza 100 árboles y el mejorado sólo 20.\n",
        "\n",
        "Por otro, lado resulta interesante obervar las variables más importantes en cada uno de estos modelos. El primer modelo es muy dependiente de la variable _GarageCars_ . En el caso de que esta variable tuviese errores, el modelo sería muy sensible a ellos. En el segundo modelo el peso en la predicción está repartido entre más variables haciendo el modelo más robusto."
      ]
    },
    {
      "cell_type": "markdown",
      "metadata": {
        "id": "SBQAwPxKIv8R"
      },
      "source": [
        "### Clasificaciones\n",
        "\n",
        "Como se ha hecho en las regresiones, primero se realiza una funcion genérica para comparar el performance de todos los clasificadores. Esta función muestra:\n",
        "\n",
        "* Matriz de confusión\n",
        "* Métricas totales\n",
        "* Métricas en cada una de las clases (grupos)\n",
        "* Modelo utilizado\n",
        "* Gráfica ROC por clases mostrando también el AUC\n",
        "* Gráfica de variables más importantes"
      ]
    },
    {
      "cell_type": "code",
      "metadata": {
        "id": "XMT2UCEnIv8R"
      },
      "source": [
        "from sklearn import metrics\n",
        "from sklearn.metrics import roc_auc_score\n",
        "from sklearn.metrics import roc_curve, auc\n",
        "from sklearn.metrics import confusion_matrix\n",
        "from sklearn.preprocessing import label_binarize\n",
        "\n",
        "def performanceClassifier(model, trainX, trainy, valX, valy):\n",
        "    model.fit(trainX, trainy)\n",
        "    predicciones = model.predict(valX)\n",
        "    \n",
        "    y_pred_proba = model.predict_proba(valX)\n",
        "    valy_binarizada = label_binarize(valy, model.classes_)\n",
        "    if valy_binarizada.shape[1]==1:\n",
        "        valy_binarizada = np.append(valy_binarizada*-1+1, valy_binarizada, axis=1)\n",
        "    # Matriz de confusión\n",
        "    print(\"\\nMatriz de confusión: \")\n",
        "    print(\"==================== \")\n",
        "    matrizConfusion = confusion_matrix(valy, predicciones)\n",
        "    print(matrizConfusion)\n",
        "    \n",
        "    # Métricas\n",
        "    print('\\nModel Performance:')\n",
        "    print('==================')\n",
        "    print(\"\\nAccuracy Total: \", metrics.accuracy_score(valy, predicciones))\n",
        "    print(\"Precision Total: \", metrics.precision_score(valy, predicciones, average='weighted'))\n",
        "    print(\"Recall Total: \", metrics.recall_score(valy, predicciones, average='weighted'))\n",
        "    print(\"F1 score Total: \", metrics.f1_score(valy, predicciones, average='weighted'))\n",
        "    \n",
        "    classes = valy.unique()\n",
        "    n_classes = classes.size\n",
        "    \n",
        "    # Métricas para cada clase\n",
        "    for i in classes:\n",
        "        print(\"\\nAccuracy %s: %0.6f\" % (i,metrics.accuracy_score(valy[valy==i], predicciones[valy==i])))\n",
        "        print(\"Precision %s: %0.6f\"% (i,metrics.precision_score(valy[valy==i], predicciones[valy==i], average='weighted')))\n",
        "        print(\"Recall %s: %0.6f\" % (i,metrics.recall_score(valy[valy==i], predicciones[valy==i], average='weighted')))\n",
        "        print(\"F1 score %s: %0.6f\" % (i,metrics.f1_score(valy[valy==i], predicciones[valy==i], average='weighted')))\n",
        "    \n",
        "    # Modelo utilizado\n",
        "    print(\"\\nModelo clasificador:\")\n",
        "    print(\"====================\")\n",
        "    print(model)\n",
        "    \n",
        "    # Features más importantes. No se incluye porque se pone gráfica\n",
        "    #print(\"\\n10 features mas importantes: \")\n",
        "    #print(\"============================\")\n",
        "    #for importance, name in sorted(zip(model.feature_importances_, trainX.columns),reverse=True)[:10]:\n",
        "    #    print (name, importance)\n",
        "        \n",
        "    fig, ax = plt.subplots(2,1)\n",
        "    \n",
        "    # ROC y AUC\n",
        "    fpr = dict()\n",
        "    tpr = dict()\n",
        "    roc_auc = dict()\n",
        "\n",
        "    for i in range(n_classes):\n",
        "        fpr[i], tpr[i], _ = roc_curve(valy_binarizada[:, i], y_pred_proba[:, i])\n",
        "        roc_auc[i] = auc(fpr[i], tpr[i])\n",
        "    for i in range(n_classes):\n",
        "        ax[0].plot(fpr[i], tpr[i], label='ROC curve (area = %0.2f) for label %s' % (roc_auc[i], model.classes_[i]))\n",
        "    ax[0].plot([0, 1], [0, 1], 'k--')\n",
        "    ax[0].set_xlim([0.0, 1.0])\n",
        "    ax[0].set_ylim([0.0, 1.05])\n",
        "    ax[0].legend(loc='lower right')\n",
        "    ax[0].set_title(\"ROC Curve\")\n",
        "    ax[0].set_xlabel(\"FPR\")\n",
        "    ax[0].set_ylabel(\"TPR\")\n",
        "    \n",
        "    print('\\nGráficas: ROC y 20 variables más importantes:')\n",
        "    print('===============================================')\n",
        "    \n",
        "    fi = rf_feat_importance(model, trainX); fi[:10]\n",
        "    plot_fi(fi[:20], ax[1]);\n",
        "    \n",
        "    fig.tight_layout()\n",
        "    plt.show()"
      ],
      "execution_count": null,
      "outputs": []
    },
    {
      "cell_type": "markdown",
      "metadata": {
        "id": "DMQqJDaUIv8V"
      },
      "source": [
        "#### Clasificación con Árbol de Decisión con Cross Validation\n",
        "\n",
        "Para los problemas de clasificación, tal como indica el enunciado, se realiza validación cruzada con la ayuda de la función GridSearchCV. Se utilizan 9 folds y se se hace una búsqueda del mejor modelo sobre los parámetros criterion y max_depth."
      ]
    },
    {
      "cell_type": "code",
      "metadata": {
        "scrolled": true,
        "id": "cEPjttiyIv8V"
      },
      "source": [
        "# Con DT cross validation\n",
        "# Ver https://www.ritchieng.com/machine-learning-cross-validation/\n",
        "from sklearn.model_selection import cross_val_score\n",
        "from sklearn.model_selection import GridSearchCV\n",
        "from sklearn.tree import DecisionTreeClassifier\n",
        "\n",
        "# Fuente: https://stackoverflow.com/questions/35097003/cross-validation-decision-trees-in-sklearn\n",
        "# Se seleccionan los parámtros a explorar\n",
        "parameters = {'criterion':['gini','entropy'],'max_depth':range(3,20)}\n",
        "\n",
        "# Se establece un grid con el modelo, los parámetros y 9 folds\n",
        "clf = GridSearchCV(DecisionTreeClassifier(random_state=RANDOM_STATE), parameters, cv=9, verbose=1)\n",
        "clf.fit(X=train_cl_X, y=train_cl_y)\n",
        "\n",
        "# Se selecciona el mejor clasificador\n",
        "best_DT_cl_model = clf.best_estimator_\n",
        "print (clf.best_score_, clf.best_params_)\n",
        "\n",
        "# Se obtienen las estadísitcas con este modelo\n",
        "performanceClassifier(best_DT_cl_model, train_cl_X, train_cl_y, test_cl_X, test_cl_y)"
      ],
      "execution_count": null,
      "outputs": []
    },
    {
      "cell_type": "markdown",
      "metadata": {
        "id": "21QUdAubIv8Y"
      },
      "source": [
        "**Conclusiones clasificador Con Árbol de decisión y validación cruzada con 9 folds**\n",
        "\n",
        "El árbol resultante después de la optimización de parámetros determina que los mejores parámetros son:\n",
        "\n",
        "* _criterion_ : 'entropy'\n",
        "* _max_depth_ : 4\n",
        "\n",
        "El segundo parámetro muestra que es un árbol bastante sencillo, como tan bien puede verse en el hecho de que solo utilice 12 variables.\n",
        "\n",
        "En las métricas puede observarse cómo el modelo tiene un desempeño global aceptable, por ejemplo, el _accuracy_ es del 92.47%.\n",
        "\n",
        "Sin embargo, si se entra más en detalle puede apreciarse que el modelo se está comportando muy bién con la clase más numerosa (grupo2), pero la capacidad predictiva disminuye mucho para la segunda clase en número (grupo1) y es muy mala en el grupo con menos muestras (grupo3). Centrándonos en el _accuracy_ :\n",
        " * Accuracy grupo1: 62.16%\n",
        " * Accuracy grupo2: 95.98%\n",
        " * Accuracy grupo3: 0%\n",
        "\n",
        "Esto mismo puede verse en la matriz de confusión, muchas muestras las clasifica como grupo 2, concretamente 14 muestras del grupo1 ( de un total de 37 muestras) y 3 muestras del grupo 3 (todas las muestras de este grupo).\n",
        "\n",
        "En la gráfica del ROC se observa que para el grupo3 actúa casi como un clasificador aleatorio, estando su línea muy cercana a la diagonal del dibujo."
      ]
    },
    {
      "cell_type": "markdown",
      "metadata": {
        "id": "1PIgfsYlIv8Z"
      },
      "source": [
        "#### Clasificación con Random Forest y con Cross Validation"
      ]
    },
    {
      "cell_type": "markdown",
      "metadata": {
        "id": "hn2f5-RqIv8Z"
      },
      "source": [
        "Se repite el mismo proceso utilizando Random Forest y validación cruzada con 9 folds. En esta ocasión se optimizan los parámetros n_estimators (número de árboles del bosque) y max_depth (profundidad máxima de cada árbol).\n",
        "\n",
        "Ahora se incluye el parámetro oob_score a True para poder observar también el Out of Bag Error. Este error podría utilizarse para estimar el error de Test y no sería necesaria la validación cruzada dado que las muestras out of bag devolverían una estimación similar. Sin embargo, tal como indica el enunciado, se utiliza la validación cruzada."
      ]
    },
    {
      "cell_type": "code",
      "metadata": {
        "scrolled": true,
        "id": "k87WFVEjIv8a"
      },
      "source": [
        "from sklearn.model_selection import cross_val_score\n",
        "from sklearn.ensemble import RandomForestClassifier\n",
        "\n",
        "# Se seleccionan los parámetros a explorar\n",
        "parameters = {'n_estimators':range(12,30),'max_depth':range(10,20)}\n",
        "\n",
        "# Se establece un grid con el modelo, los parámetros y 9 folds\n",
        "clf = GridSearchCV(RandomForestClassifier(random_state=RANDOM_STATE,oob_score=True), parameters, n_jobs=4, cv=9, verbose=2)\n",
        "clf.fit(X=train_cl_X, y=train_cl_y)\n",
        "\n",
        "# Se selecciona el mejor modelo\n",
        "best_RF_cl_model = clf.best_estimator_\n",
        "print (clf.best_score_, clf.best_params_)\n",
        "\n",
        "# Se muestran los resultados del clasificador\n",
        "performanceClassifier(best_RF_cl_model, train_cl_X, train_cl_y, test_cl_X, test_cl_y)\n",
        "\n",
        "#Además en este caso obtenemos también el Out Of Bag\n",
        "\n",
        "# OOB\n",
        "print(\"OOB Score: \", best_RF_cl_model.oob_score_)\n"
      ],
      "execution_count": null,
      "outputs": []
    },
    {
      "cell_type": "markdown",
      "metadata": {
        "id": "2fJtkKYCIv8d"
      },
      "source": [
        "**Conclusiones clasificación con Random forest y validación cruzada con 9 folds.**\n",
        "\n",
        "Como ocurría en el caso de regresión, comparando las métricas con las obtenidas clasificando con el árbol de decisión se obseva que la predicción realizada con el Random Forest supera al árbol de decisión en todas las métricas\n",
        "\n",
        "Métrica | Árbol de Decisión | Random Forest\n",
        "------- | ----------------- | -------------\n",
        "Accuracy Total | 0.9246575342465754 | 0.9474885844748858\n",
        "Precision Total | 0.919778811271241 | 0.9409937371627324\n",
        "Recall Total | 0.9246575342465754 | 0.9474885844748858\n",
        "F1 score Total | 0.922181368668918 | 0.9374002463948976\n",
        "\n",
        "También se puede ver esta mejora en las gráficas ROC y métricas AUC para los grupos 1 y 2.\n",
        "\n",
        "Sin embargo, sigue apreciándose cómo el modelo no funciona bien como predictor de las clases menos numerosas (grupo1 y grupo3)\n",
        "\n",
        "Al final se muestra también el score en el Out of Bag, siendo éste del 92.86 %"
      ]
    },
    {
      "cell_type": "markdown",
      "metadata": {
        "id": "7LuhTm_EIv8e"
      },
      "source": [
        "#### Clasificación con Random Forest y muestras balanceadas"
      ]
    },
    {
      "cell_type": "markdown",
      "metadata": {
        "id": "RIW5YgnuIv8f"
      },
      "source": [
        "Debido al gran desequilibrio entre los grupos generados, se trata de entrenar un clasificador con grupos mejor balanceados. Para ello se prueba a etiquetar las muestras del grupo3 como grupo2. Además, como el grupo 1 tiene sólo 123 muestras, se prueba a utilizar otras 123 muestras del nuevo grupo2 y tomar esas 246 muestras para entrenar y testear el modelo. Se vuelve a utilizar un Random Forest con validación cruzada y 9 folds."
      ]
    },
    {
      "cell_type": "code",
      "metadata": {
        "scrolled": false,
        "id": "lhKVuHqNIv8f"
      },
      "source": [
        "import matplotlib.pyplot as plt\n",
        "from sklearn.model_selection import cross_val_score\n",
        "\n",
        "\n",
        "#Se copian las variables originales. \n",
        "y_cl_2 = y_cl.copy(deep=True)\n",
        "XtrOhe_2 = XtrOhe.copy(deep=True)\n",
        "\n",
        "# Se etiquetan las muestras del grupo3 como grupo2\n",
        "y_cl_2[y_cl_2=='grupo3']='grupo2'\n",
        "\n",
        "# Se utilizan las 123 muestras del grupo1 y 123 muestras aleatorias del grupo2\n",
        "XtrOhe_2['SalePrice'] = y_cl_2\n",
        "XtrOhe_grupo1 = XtrOhe_2[XtrOhe_2['SalePrice']=='grupo1'].sample(frac=1, random_state=RANDOM_STATE)\n",
        "XtrOhe_grupo2 = XtrOhe_2[XtrOhe_2['SalePrice']=='grupo2'].sample(frac=1, random_state=RANDOM_STATE)\n",
        "num_muestras_grupo1 = XtrOhe_grupo1.shape[0]\n",
        "XtrOhe_grupo2 = XtrOhe_grupo2[:num_muestras_grupo1]\n",
        "\n",
        "# se concatenan las muestras y se ordenan aleatoriamente\n",
        "X_balanceado = pd.concat([XtrOhe_grupo1, XtrOhe_grupo2]).sample(frac=1, random_state=RANDOM_STATE)\n",
        "\n",
        "y_balanceado = X_balanceado['SalePrice']\n",
        "X_balanceado = X_balanceado.drop(['SalePrice'], axis = 1)\n",
        "\n",
        "# Ahora ya se pueden dividir los datos en entrenamiento y test \n",
        "train_cl_X_b, test_cl_X_b, train_cl_y_b, test_cl_y_b = train_test_split(X_balanceado, y_balanceado, test_size=0.3, random_state=RANDOM_STATE, stratify=y_balanceado)\n",
        "\n",
        "# Y finalmante aplicamos un clasificador, por ejemplo el RF con cross validation\n",
        "parameters = {'n_estimators':range(12,30),'max_depth':range(10,20)}\n",
        "clf = GridSearchCV(RandomForestClassifier(random_state=RANDOM_STATE), parameters, n_jobs=4, cv=9, verbose=2)\n",
        "clf.fit(X=train_cl_X_b, y=train_cl_y_b)\n",
        "best_clf_balanceado = clf.best_estimator_\n",
        "print (clf.best_score_, clf.best_params_)\n",
        "\n",
        "performanceClassifier(best_clf_balanceado, train_cl_X_b, train_cl_y_b, test_cl_X_b, test_cl_y_b)"
      ],
      "execution_count": null,
      "outputs": []
    },
    {
      "cell_type": "markdown",
      "metadata": {
        "id": "s_sldBGcIv8j"
      },
      "source": [
        "En este caso se observa que las métricas globales no mejoran, se mantienen aproximadamente en los mismos valores. Por ejemplo, el accuracy es del 93.24%. Sin embargo, en esta ocasión las predicciones en cada una de las dos clases son más aproximadas entre sí, obteniendo los siguientes valores en _accuracy_ :\n",
        "\n",
        "* _Accuracy_grupo1_ : 0.918919\n",
        "* _Accuracy_grupo2_ : 0.945946\n",
        "\n",
        "Se valida por tanto que utilizando grupos más balanceados, el clasificador es más homogéneo en cuanto a su capacidad predictiva en todas las clases. En este ejemplo concreto, este modelo permitiría predecir con más acierto los inmuebles pertenicientes al grupo1.\n"
      ]
    },
    {
      "cell_type": "markdown",
      "metadata": {
        "id": "gegjG4BAIv8j"
      },
      "source": [
        "### Conclusiones/Comentarios\n",
        "\n",
        "Como conclusión general, los resultados vistos a lo largo esta actividad en las conclusiones parciales de cada apartado, muestran como el clasificador Random Forest mejora al Árbol de decisión tanto en problemas de regresión como en problemas de clasificación.\n",
        "\n",
        "A lo largo de la práctica se ha observado como los árboles de decisión tiene algunas ventajas importantes. Principalmente se ha podido comprobar:\n",
        "\n",
        "* Que son muy rápidos. Computacionalmente eficientes.\n",
        "* Reducen el conjunto de variables de entrada quedándose con las más importantes.\n",
        "* Resulta fácil ver cuales son esas variables importantes.\n",
        "* Estos árboles pueden visualizarse gráficamente y son fácilmente interpretables.\n",
        "* No requieren una normalización previa de los datos.\n",
        "\n",
        "Por otro lado, los Random Forest, han mostrado que son claramente superiores a los árboles de decisión. Algunas ventajas adicionales sobre los árboles de decisión son:\n",
        "\n",
        "* Los árboles pueden computarse en paralelo.\n",
        "* Pueden utilizar un número elevado de variables, porque cada árbol utiliza un subconjunto de ellas.\n",
        "* Se revela como mejor predictor que los árboles de decisión.\n",
        "\n",
        "Los dos algoritmos permiten el uso de variables numéricas y categóricas, sin embargo, la implementación que hace scikit-learn requiere que todas se transformen a numéricas.\n",
        "\n",
        "En ambos algoritmos se observa un inconveniente, tanto en clasificación como en regresión. \n",
        "\n",
        "En clasificación se ha mostrado que ambos modelos no obtienen buenos resultados cuando el núnero de muestras en cada clase está muy descompensado. Las métricas globales son buenas pero, tanto los árboles de decisión como Random Forest le dan más peso al grupo más numeroso, obteniendo predicciones realmente malas para el grupo menos numeroso.\n",
        "\n",
        "Dependiendo del problema a resolver estos algoritmos podrían ser suficientes, sin embargo, si se requiere predecir bien cada una de las clases, estos modelos no dan buenos resultados y sería mejor utilizar algoritmos menos sensibles a este desbalanceo de datos. En el caso del precio de los inmuebles, podría ser que una inmobiliaria estuviese dedicada al mercado de inmuebles de lujo, y le interesase que las muestras del grupo3 se clasificasen bien. En este caso estos algoritmos no serían válidos.\n",
        "\n",
        "Como se ha comentado en la regresión ocurre lo mismo, se comprueba que ninguno de los regresores vistos ha sido capaz de predecir correctamente precios por encima de 400000 dolares debido al bajo número de inmuebles por encima de ese valor.\n"
      ]
    }
  ]
}