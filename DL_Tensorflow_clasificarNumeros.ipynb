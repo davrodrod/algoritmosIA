{
  "nbformat": 4,
  "nbformat_minor": 0,
  "metadata": {
    "colab": {
      "name": "DL_Tensorflow_clasificarNumeros.ipynb",
      "provenance": [],
      "authorship_tag": "ABX9TyPKVL6EplWzJi5Bv7FyNEO2",
      "include_colab_link": true
    },
    "kernelspec": {
      "name": "python3",
      "display_name": "Python 3"
    }
  },
  "cells": [
    {
      "cell_type": "markdown",
      "metadata": {
        "id": "view-in-github",
        "colab_type": "text"
      },
      "source": [
        "<a href=\"https://colab.research.google.com/github/davrodrod/algoritmosIA/blob/master/DL_Tensorflow_clasificarNumeros.ipynb\" target=\"_parent\"><img src=\"https://colab.research.google.com/assets/colab-badge.svg\" alt=\"Open In Colab\"/></a>"
      ]
    },
    {
      "cell_type": "code",
      "metadata": {
        "id": "IEowWsdiZllf",
        "colab_type": "code",
        "colab": {
          "base_uri": "https://localhost:8080/",
          "height": 301
        },
        "outputId": "34b9c16d-9ca9-4364-d1ec-0a111a5c5ee3"
      },
      "source": [
        "# Fuente: https://pythonprogramming.net/introduction-deep-learning-python-tensorflow-keras/\n",
        "\n",
        "import tensorflow as tf  # deep learning library. Tensors are just multi-dimensional arrays\n",
        "import numpy as np\n",
        "import matplotlib.pyplot as plt\n",
        "\n",
        "\n",
        "mnist = tf.keras.datasets.mnist  # mnist is a dataset of 28x28 images of handwritten digits and their labels\n",
        "(x_train, y_train),(x_test, y_test) = mnist.load_data()  # unpacks images to x_train/x_test and labels to y_train/y_test\n",
        "\n",
        "x_train = tf.keras.utils.normalize(x_train, axis=1)  # scales data between 0 and 1\n",
        "x_test = tf.keras.utils.normalize(x_test, axis=1)  # scales data between 0 and 1\n",
        "\n",
        "def entrenaModelo(x_train, y_train):\n",
        "  model = tf.keras.models.Sequential()  # a basic feed-forward model\n",
        "  model.add(tf.keras.layers.Flatten())  # takes our 28x28 and makes it 1x784\n",
        "  model.add(tf.keras.layers.Dense(128, activation=tf.nn.relu))  # a simple fully-connected layer, 128 units, relu activation\n",
        "  model.add(tf.keras.layers.Dense(128, activation=tf.nn.relu))  # a simple fully-connected layer, 128 units, relu activation\n",
        "  model.add(tf.keras.layers.Dense(10, activation=tf.nn.softmax))  # our output layer. 10 units for 10 classes. Softmax for probability distribution\n",
        "\n",
        "  model.compile(optimizer='adam',  # Good default optimizer to start with\n",
        "              loss='sparse_categorical_crossentropy',  # how will we calculate our \"error.\" Neural network aims to minimize loss.\n",
        "              metrics=['accuracy'])  # what to track\n",
        "\n",
        "  model.fit(x_train, y_train, epochs=3)  # train the model\n",
        "  # Salvar el modelo\n",
        "  model.save('epic_num_reader.model')\n",
        "  return model\n",
        "\n",
        "def validaModelo(model, x_test, y_test):\n",
        "  val_loss, val_acc = model.evaluate(x_test, y_test)  # evaluate the out of sample data with model\n",
        "  print(val_loss)  # model's loss (error)\n",
        "  print(val_acc)  # model's accuracy\n",
        "\n",
        "\n",
        "#Aquí puede llamarse a entrenaModelo o a recuperar el modelo si ya existe\n",
        "\n",
        "#model= entrenaModelo(x_train,y_train)\n",
        "#validaModelo(model,x_train,y_train)\n",
        "\n",
        "# Recuperar el modelo\n",
        "new_model = tf.keras.models.load_model('epic_num_reader.model')\n",
        "\n",
        "# Predicción\n",
        "print(\"Valor real: \" + str(y_test[1942]))\n",
        "muestra = x_test[1942,:,:]\n",
        "muestra = muestra[np.newaxis,:, :]\n",
        "predict = model.predict(muestra)\n",
        "print(\"Valor predicho: \" + str(np.argmax(predict)))\n",
        "\n",
        "plt.imshow(x_test[1942],cmap=plt.cm.binary)\n",
        "plt.show()"
      ],
      "execution_count": 24,
      "outputs": [
        {
          "output_type": "stream",
          "text": [
            "Valor real: 8\n",
            "Valor predicho: 8\n"
          ],
          "name": "stdout"
        },
        {
          "output_type": "display_data",
          "data": {
            "image/png": "[encoded data removed]",
            "text/plain": [
              "<Figure size 432x288 with 1 Axes>"
            ]
          },
          "metadata": {
            "tags": [],
            "needs_background": "light"
          }
        }
      ]
    }
  ]
}