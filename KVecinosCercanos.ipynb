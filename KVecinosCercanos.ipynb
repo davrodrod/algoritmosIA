{
  "nbformat": 4,
  "nbformat_minor": 0,
  "metadata": {
    "colab": {
      "name": "KVecinosCercanos.ipynb",
      "provenance": [],
      "authorship_tag": "ABX9TyP4WMga6U72PFH4BshjG77U",
      "include_colab_link": true
    },
    "kernelspec": {
      "name": "python3",
      "display_name": "Python 3"
    }
  },
  "cells": [
    {
      "cell_type": "markdown",
      "metadata": {
        "id": "view-in-github",
        "colab_type": "text"
      },
      "source": [
        "<a href=\"https://colab.research.google.com/github/davrodrod/algorirmosIA/blob/master/KVecinosCercanos.ipynb\" target=\"_parent\"><img src=\"https://colab.research.google.com/assets/colab-badge.svg\" alt=\"Open In Colab\"/></a>"
      ]
    },
    {
      "cell_type": "markdown",
      "metadata": {
        "id": "AGd_GjxSD6en",
        "colab_type": "text"
      },
      "source": [
        "Fuente de información:  https://nbviewer.jupyter.org/github/cs109/content/blob/master/labs/lab5/Lab5.ipynb\n",
        "\n",
        "\n",
        "Fuente de Datos: https://github.com/datasciencelabs/data/blob/master/olive.csv"
      ]
    },
    {
      "cell_type": "code",
      "metadata": {
        "id": "4TR65OQwIiy4",
        "colab_type": "code",
        "colab": {
          "base_uri": "https://localhost:8080/",
          "height": 204
        },
        "outputId": "2286b4ed-141f-4d62-ce5c-e1d3b7d9e1fa"
      },
      "source": [
        "import pandas as pd\n",
        "\n",
        "urldatos = \"https://raw.githubusercontent.com/datasciencelabs/data/master/olive.csv\"\n",
        "df = pd.read_csv(urldatos)\n",
        "\n",
        "df.rename(columns={df.columns[0]:'areastring'}, inplace=True)\n",
        "\n",
        "acidlist=['palmitic', 'palmitoleic', 'stearic', 'oleic', 'linoleic', 'linolenic', 'arachidic', 'eicosenoic']\n",
        "\n",
        "# Esto divide todos los valores asociados a los ácidos por 100\n",
        "dfsub = df[acidlist].apply(lambda x: x/100.0)\n",
        "df[acidlist]=dfsub\n",
        "df.head(5)"
      ],
      "execution_count": 8,
      "outputs": [
        {
          "output_type": "execute_result",
          "data": {
            "text/html": [
              "<div>\n",
              "<style scoped>\n",
              "    .dataframe tbody tr th:only-of-type {\n",
              "        vertical-align: middle;\n",
              "    }\n",
              "\n",
              "    .dataframe tbody tr th {\n",
              "        vertical-align: top;\n",
              "    }\n",
              "\n",
              "    .dataframe thead th {\n",
              "        text-align: right;\n",
              "    }\n",
              "</style>\n",
              "<table border=\"1\" class=\"dataframe\">\n",
              "  <thead>\n",
              "    <tr style=\"text-align: right;\">\n",
              "      <th></th>\n",
              "      <th>areastring</th>\n",
              "      <th>Region</th>\n",
              "      <th>Area</th>\n",
              "      <th>palmitic</th>\n",
              "      <th>palmitoleic</th>\n",
              "      <th>stearic</th>\n",
              "      <th>oleic</th>\n",
              "      <th>linoleic</th>\n",
              "      <th>linolenic</th>\n",
              "      <th>arachidic</th>\n",
              "      <th>eicosenoic</th>\n",
              "    </tr>\n",
              "  </thead>\n",
              "  <tbody>\n",
              "    <tr>\n",
              "      <th>1</th>\n",
              "      <td>North-Apulia</td>\n",
              "      <td>1</td>\n",
              "      <td>1</td>\n",
              "      <td>10.75</td>\n",
              "      <td>0.75</td>\n",
              "      <td>2.26</td>\n",
              "      <td>78.23</td>\n",
              "      <td>6.72</td>\n",
              "      <td>0.36</td>\n",
              "      <td>0.60</td>\n",
              "      <td>0.29</td>\n",
              "    </tr>\n",
              "    <tr>\n",
              "      <th>2</th>\n",
              "      <td>North-Apulia</td>\n",
              "      <td>1</td>\n",
              "      <td>1</td>\n",
              "      <td>10.88</td>\n",
              "      <td>0.73</td>\n",
              "      <td>2.24</td>\n",
              "      <td>77.09</td>\n",
              "      <td>7.81</td>\n",
              "      <td>0.31</td>\n",
              "      <td>0.61</td>\n",
              "      <td>0.29</td>\n",
              "    </tr>\n",
              "    <tr>\n",
              "      <th>3</th>\n",
              "      <td>North-Apulia</td>\n",
              "      <td>1</td>\n",
              "      <td>1</td>\n",
              "      <td>9.11</td>\n",
              "      <td>0.54</td>\n",
              "      <td>2.46</td>\n",
              "      <td>81.13</td>\n",
              "      <td>5.49</td>\n",
              "      <td>0.31</td>\n",
              "      <td>0.63</td>\n",
              "      <td>0.29</td>\n",
              "    </tr>\n",
              "    <tr>\n",
              "      <th>4</th>\n",
              "      <td>North-Apulia</td>\n",
              "      <td>1</td>\n",
              "      <td>1</td>\n",
              "      <td>9.66</td>\n",
              "      <td>0.57</td>\n",
              "      <td>2.40</td>\n",
              "      <td>79.52</td>\n",
              "      <td>6.19</td>\n",
              "      <td>0.50</td>\n",
              "      <td>0.78</td>\n",
              "      <td>0.35</td>\n",
              "    </tr>\n",
              "    <tr>\n",
              "      <th>5</th>\n",
              "      <td>North-Apulia</td>\n",
              "      <td>1</td>\n",
              "      <td>1</td>\n",
              "      <td>10.51</td>\n",
              "      <td>0.67</td>\n",
              "      <td>2.59</td>\n",
              "      <td>77.71</td>\n",
              "      <td>6.72</td>\n",
              "      <td>0.50</td>\n",
              "      <td>0.80</td>\n",
              "      <td>0.46</td>\n",
              "    </tr>\n",
              "  </tbody>\n",
              "</table>\n",
              "</div>"
            ],
            "text/plain": [
              "     areastring  Region  Area  ...  linolenic  arachidic  eicosenoic\n",
              "1  North-Apulia       1     1  ...       0.36       0.60        0.29\n",
              "2  North-Apulia       1     1  ...       0.31       0.61        0.29\n",
              "3  North-Apulia       1     1  ...       0.31       0.63        0.29\n",
              "4  North-Apulia       1     1  ...       0.50       0.78        0.35\n",
              "5  North-Apulia       1     1  ...       0.50       0.80        0.46\n",
              "\n",
              "[5 rows x 11 columns]"
            ]
          },
          "metadata": {
            "tags": []
          },
          "execution_count": 8
        }
      ]
    },
    {
      "cell_type": "code",
      "metadata": {
        "id": "6q2bbdMFK35H",
        "colab_type": "code",
        "colab": {
          "base_uri": "https://localhost:8080/",
          "height": 238
        },
        "outputId": "146c8090-b875-4935-8eda-3f61dd21d897"
      },
      "source": [
        "dfsouth = df[df.Region==1]\n",
        "dfsouthns = dfsouth[df.Area != 4]\n",
        "dfsouthns.head()"
      ],
      "execution_count": 11,
      "outputs": [
        {
          "output_type": "stream",
          "text": [
            "/usr/local/lib/python3.6/dist-packages/ipykernel_launcher.py:2: UserWarning: Boolean Series key will be reindexed to match DataFrame index.\n",
            "  \n"
          ],
          "name": "stderr"
        },
        {
          "output_type": "execute_result",
          "data": {
            "text/html": [
              "<div>\n",
              "<style scoped>\n",
              "    .dataframe tbody tr th:only-of-type {\n",
              "        vertical-align: middle;\n",
              "    }\n",
              "\n",
              "    .dataframe tbody tr th {\n",
              "        vertical-align: top;\n",
              "    }\n",
              "\n",
              "    .dataframe thead th {\n",
              "        text-align: right;\n",
              "    }\n",
              "</style>\n",
              "<table border=\"1\" class=\"dataframe\">\n",
              "  <thead>\n",
              "    <tr style=\"text-align: right;\">\n",
              "      <th></th>\n",
              "      <th>areastring</th>\n",
              "      <th>Region</th>\n",
              "      <th>Area</th>\n",
              "      <th>palmitic</th>\n",
              "      <th>palmitoleic</th>\n",
              "      <th>stearic</th>\n",
              "      <th>oleic</th>\n",
              "      <th>linoleic</th>\n",
              "      <th>linolenic</th>\n",
              "      <th>arachidic</th>\n",
              "      <th>eicosenoic</th>\n",
              "    </tr>\n",
              "  </thead>\n",
              "  <tbody>\n",
              "    <tr>\n",
              "      <th>1</th>\n",
              "      <td>North-Apulia</td>\n",
              "      <td>1</td>\n",
              "      <td>1</td>\n",
              "      <td>10.75</td>\n",
              "      <td>0.75</td>\n",
              "      <td>2.26</td>\n",
              "      <td>78.23</td>\n",
              "      <td>6.72</td>\n",
              "      <td>0.36</td>\n",
              "      <td>0.60</td>\n",
              "      <td>0.29</td>\n",
              "    </tr>\n",
              "    <tr>\n",
              "      <th>2</th>\n",
              "      <td>North-Apulia</td>\n",
              "      <td>1</td>\n",
              "      <td>1</td>\n",
              "      <td>10.88</td>\n",
              "      <td>0.73</td>\n",
              "      <td>2.24</td>\n",
              "      <td>77.09</td>\n",
              "      <td>7.81</td>\n",
              "      <td>0.31</td>\n",
              "      <td>0.61</td>\n",
              "      <td>0.29</td>\n",
              "    </tr>\n",
              "    <tr>\n",
              "      <th>3</th>\n",
              "      <td>North-Apulia</td>\n",
              "      <td>1</td>\n",
              "      <td>1</td>\n",
              "      <td>9.11</td>\n",
              "      <td>0.54</td>\n",
              "      <td>2.46</td>\n",
              "      <td>81.13</td>\n",
              "      <td>5.49</td>\n",
              "      <td>0.31</td>\n",
              "      <td>0.63</td>\n",
              "      <td>0.29</td>\n",
              "    </tr>\n",
              "    <tr>\n",
              "      <th>4</th>\n",
              "      <td>North-Apulia</td>\n",
              "      <td>1</td>\n",
              "      <td>1</td>\n",
              "      <td>9.66</td>\n",
              "      <td>0.57</td>\n",
              "      <td>2.40</td>\n",
              "      <td>79.52</td>\n",
              "      <td>6.19</td>\n",
              "      <td>0.50</td>\n",
              "      <td>0.78</td>\n",
              "      <td>0.35</td>\n",
              "    </tr>\n",
              "    <tr>\n",
              "      <th>5</th>\n",
              "      <td>North-Apulia</td>\n",
              "      <td>1</td>\n",
              "      <td>1</td>\n",
              "      <td>10.51</td>\n",
              "      <td>0.67</td>\n",
              "      <td>2.59</td>\n",
              "      <td>77.71</td>\n",
              "      <td>6.72</td>\n",
              "      <td>0.50</td>\n",
              "      <td>0.80</td>\n",
              "      <td>0.46</td>\n",
              "    </tr>\n",
              "  </tbody>\n",
              "</table>\n",
              "</div>"
            ],
            "text/plain": [
              "     areastring  Region  Area  ...  linolenic  arachidic  eicosenoic\n",
              "1  North-Apulia       1     1  ...       0.36       0.60        0.29\n",
              "2  North-Apulia       1     1  ...       0.31       0.61        0.29\n",
              "3  North-Apulia       1     1  ...       0.31       0.63        0.29\n",
              "4  North-Apulia       1     1  ...       0.50       0.78        0.35\n",
              "5  North-Apulia       1     1  ...       0.50       0.80        0.46\n",
              "\n",
              "[5 rows x 11 columns]"
            ]
          },
          "metadata": {
            "tags": []
          },
          "execution_count": 11
        }
      ]
    },
    {
      "cell_type": "code",
      "metadata": {
        "id": "yB0lrfgNLQ0I",
        "colab_type": "code",
        "colab": {
          "base_uri": "https://localhost:8080/",
          "height": 497
        },
        "outputId": "d2b93c5b-bbda-49dc-9735-7029e3685509"
      },
      "source": [
        "import random\n",
        "import copy\n",
        "import matplotlib.pyplot as plt \n",
        "import numpy as np  \n",
        "\n",
        "from matplotlib import rcParams\n",
        "\n",
        "def make_rug(axeslist, x, y, color='b', mms=8):\n",
        "    axes=axeslist[0]\n",
        "    zerosx1=np.zeros(len(x))\n",
        "    zerosx2=np.zeros(len(x))\n",
        "    xlims=axes.get_xlim()\n",
        "    ylims=axes.get_ylim()\n",
        "    zerosx1.fill(ylims[1])\n",
        "    zerosx2.fill(xlims[1])\n",
        "    axes.plot(x, zerosx1, marker='|', color=color, ms=mms)\n",
        "    axes.plot(zerosx2, y, marker='_', color=color, ms=mms)\n",
        "    axes.set_xlim(xlims)\n",
        "    axes.set_ylim(ylims)\n",
        "    return axes\n",
        "\n",
        "def scatter_by(df, scatterx, scattery, by=None, figure=None, axes=None, labeler={}, mfunc=None, setupfunc=None, mms=8):\n",
        "    if not figure:\n",
        "        figure=plt.figure(figsize=(8,8))\n",
        "    if not axes:\n",
        "        axes=figure.gca()\n",
        "    x=df[scatterx]\n",
        "    y=df[scattery]\n",
        "    if not by:\n",
        "        axes.scatter(x, y, cmap=colorscale)\n",
        "        if setupfunc:\n",
        "            axeslist=setupfunc(axes, figure)\n",
        "        else:\n",
        "            axeslist=[axes]\n",
        "        if mfunc:\n",
        "            mfunc(axeslist,x,y,color=col, mms=mms)\n",
        "    else:\n",
        "        xlimsd={}\n",
        "        ylimsd={}\n",
        "        xs={}\n",
        "        ys={}\n",
        "        cold={}\n",
        "        for k,g in df.groupby(by):\n",
        "            x=g[scatterx]\n",
        "            y=g[scattery]\n",
        "            xs[k]=x\n",
        "            ys[k]=y\n",
        "            axes.scatter(x, y, color=None, label=labeler.get(k,k), s=40, alpha=0.3);\n",
        "            xlimsd[k]=axes.get_xlim()\n",
        "            ylimsd[k]=axes.get_ylim()\n",
        "        xlims=[min([xlimsd[k][0] for k in xlimsd.keys()]), max([xlimsd[k][1] for k in xlimsd.keys()])]\n",
        "        ylims=[min([ylimsd[k][0] for k in ylimsd.keys()]), max([ylimsd[k][1] for k in ylimsd.keys()])]\n",
        "        axes.set_xlim(xlims)\n",
        "        axes.set_ylim(ylims)\n",
        "        if setupfunc:\n",
        "            axeslist=setupfunc(axes, figure)\n",
        "        else:\n",
        "            axeslist=[axes]\n",
        "        if mfunc:\n",
        "            for k in xs.keys():\n",
        "                mfunc(axeslist,xs[k],ys[k],color=None, mms=mms);\n",
        "    axes.set_xlabel(scatterx);\n",
        "    axes.set_ylabel(scattery);\n",
        "    \n",
        "    return axes\n",
        "\n",
        "akeys=[1,2,3]\n",
        "avals=['North-Apulia','Calabria','South-Apulia']\n",
        "amap={e[0]:e[1] for e in zip(akeys,avals)}\n",
        "ax=scatter_by(dfsouthns, 'palmitic', 'palmitoleic', by='Area', labeler=amap, mfunc=make_rug, mms=20)\n",
        "ax.grid(False)\n",
        "ax.legend(loc='upper right');"
      ],
      "execution_count": 21,
      "outputs": [
        {
          "output_type": "display_data",
          "data": {
            "image/png": "[encoded data removed]",
            "text/plain": [
              "<Figure size 576x576 with 1 Axes>"
            ]
          },
          "metadata": {
            "tags": []
          }
        }
      ]
    },
    {
      "cell_type": "code",
      "metadata": {
        "id": "k9zwJ8z9PFMk",
        "colab_type": "code",
        "colab": {}
      },
      "source": [
        "from matplotlib.colors import ListedColormap\n",
        "#cm_bright = ListedColormap(['#FF0000', '#000000','#0000FF'])\n",
        "#cm = plt.cm.RdBu\n",
        "cmap_light = ListedColormap(['#FFAAAA', '#AAFFAA', '#AAAAFF'])\n",
        "cmap_bold = ListedColormap(['#FF0000', '#00FF00', '#0000FF'])\n",
        "\n",
        "def points_plot(X, Xtr, Xte, ytr, yte, clf, colorscale=cmap_light, cdiscrete=cmap_bold):\n",
        "    h = .02\n",
        "    x_min, x_max = X[:, 0].min() - .5, X[:, 0].max() + .5\n",
        "    y_min, y_max = X[:, 1].min() - .5, X[:, 1].max() + .5\n",
        "    xx, yy = np.meshgrid(np.linspace(x_min, x_max, 50),\n",
        "                         np.linspace(y_min, y_max, 50))\n",
        "\n",
        "    plt.figure()\n",
        "    Z = clf.predict(np.c_[xx.ravel(), yy.ravel()])\n",
        "    Z = Z.reshape(xx.shape)\n",
        "    plt.pcolormesh(xx, yy, Z, cmap=cmap_light, alpha=0.2)\n",
        "    plt.scatter(Xtr[:, 0], Xtr[:, 1], c=ytr-1, cmap=cdiscrete, s=50, alpha=0.2,edgecolor=\"k\")\n",
        "    # and testing points\n",
        "    yact=clf.predict(Xte)\n",
        "    print(\"SCORE\", clf.score(Xte, yte))\n",
        "    plt.scatter(Xte[:, 0], Xte[:, 1], c=yte-1, cmap=cdiscrete, alpha=0.5, marker=\"s\", s=35)\n",
        "    plt.xlim(xx.min(), xx.max())\n",
        "    plt.ylim(yy.min(), yy.max())\n",
        "    return ax"
      ],
      "execution_count": 0,
      "outputs": []
    },
    {
      "cell_type": "code",
      "metadata": {
        "id": "CCVE4K9zPHBI",
        "colab_type": "code",
        "colab": {}
      },
      "source": [
        "# Preparación de los datos\n",
        "from sklearn.neighbors import KNeighborsClassifier\n",
        "from sklearn.model_selection import train_test_split\n",
        "\n",
        "subdf=dfsouthns[['palmitic','palmitoleic']]\n",
        "subdfstd=(subdf - subdf.mean())/subdf.std()   # Esto normaliza los valores\n",
        "X=subdfstd.values\n",
        "y=dfsouthns['Area'].values\n",
        "Xtrain, Xtest, ytrain, ytest = train_test_split(X, y, train_size=0.6)\n",
        "Xtr=np.concatenate((Xtrain, Xtest))"
      ],
      "execution_count": 0,
      "outputs": []
    },
    {
      "cell_type": "code",
      "metadata": {
        "id": "U7-2IWT3P68J",
        "colab_type": "code",
        "colab": {
          "base_uri": "https://localhost:8080/",
          "height": 473
        },
        "outputId": "26f728b6-fb4a-4deb-c81e-c54eb73f6c7d"
      },
      "source": [
        "# Aquí se aplica el algoritmo. Se hace KNN con 20 vecinos\n",
        "\n",
        "clf = KNeighborsClassifier(20).fit(Xtrain, ytrain)\n",
        "points_plot(Xtr, Xtrain, Xtest, ytrain, ytest, clf)\n",
        "\n",
        "# Lo anterior pinta, la forma de utilizarlo sería así:\n",
        "yPrediccion=clf.predict(Xtest)\n",
        "\n",
        "print(\"Datos de entrada: \", Xtest[:5])\n",
        "yPrediccion"
      ],
      "execution_count": 41,
      "outputs": [
        {
          "output_type": "stream",
          "text": [
            "SCORE 0.9826086956521739\n",
            "Datos de entrada:  [[-2.4284759  -2.42061876]\n",
            " [-0.43203553 -0.25370243]\n",
            " [ 2.74979131  1.26103521]\n",
            " [ 0.46913547  0.62989453]\n",
            " [ 0.26117293 -0.90588113]]\n"
          ],
          "name": "stdout"
        },
        {
          "output_type": "execute_result",
          "data": {
            "text/plain": [
              "array([1, 3, 3, 3, 2, 1, 1, 2, 2, 3, 3, 3, 3, 3, 3, 3, 3, 2, 3, 3, 3, 3,\n",
              "       3, 3, 2, 3, 3, 3, 3, 3, 3, 3, 2, 3, 3, 3, 3, 3, 3, 2, 3, 3, 2, 2,\n",
              "       3, 2, 3, 1, 2, 3, 3, 3, 3, 3, 3, 3, 3, 2, 3, 3, 3, 3, 3, 3, 3, 3,\n",
              "       3, 3, 2, 3, 3, 3, 3, 3, 3, 1, 3, 1, 1, 3, 3, 3, 3, 3, 3, 1, 3, 3,\n",
              "       2, 3, 3, 3, 3, 3, 3, 3, 2, 3, 1, 3, 3, 3, 3, 1, 3, 3, 3, 3, 2, 3,\n",
              "       3, 3, 2, 1, 3])"
            ]
          },
          "metadata": {
            "tags": []
          },
          "execution_count": 41
        },
        {
          "output_type": "display_data",
          "data": {
            "image/png": "[encoded data removed]",
            "text/plain": [
              "<Figure size 432x288 with 1 Axes>"
            ]
          },
          "metadata": {
            "tags": []
          }
        }
      ]
    },
    {
      "cell_type": "code",
      "metadata": {
        "id": "ZXxK93MGSt2q",
        "colab_type": "code",
        "colab": {
          "base_uri": "https://localhost:8080/",
          "height": 300
        },
        "outputId": "b4c2504a-609c-46f0-b50a-371a4555fe80"
      },
      "source": [
        "# Se pintan las gŕaficas de error\n",
        "Xcv,Xte,ycv,yte=train_test_split(Xtest, ytest, train_size=0.5)\n",
        "print(ytrain.shape, ycv.shape, yte.shape)\n",
        "trscores=[]\n",
        "cvscores=[]\n",
        "ns=np.arange(1,80,1)\n",
        "ones=np.ones(len(ns))\n",
        "for n in ns:\n",
        "    clf = KNeighborsClassifier(n).fit(Xtrain, ytrain)\n",
        "    trscores.append(clf.score(Xtrain, ytrain))\n",
        "    cvscores.append(clf.score(Xcv, ycv))\n",
        "plt.plot(ns, ones-trscores, label=\"training\")\n",
        "plt.plot(ns, ones-cvscores, label=\"cv\")\n",
        "plt.legend(loc='upper left');\n",
        "print(clf.score(Xte, yte))"
      ],
      "execution_count": 49,
      "outputs": [
        {
          "output_type": "stream",
          "text": [
            "(172,) (57,) (58,)\n",
            "0.7068965517241379\n"
          ],
          "name": "stdout"
        },
        {
          "output_type": "display_data",
          "data": {
            "image/png": "[encoded data removed]",
            "text/plain": [
              "<Figure size 432x288 with 1 Axes>"
            ]
          },
          "metadata": {
            "tags": []
          }
        }
      ]
    }
  ]
}