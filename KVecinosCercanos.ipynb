{
  "nbformat": 4,
  "nbformat_minor": 0,
  "metadata": {
    "colab": {
      "name": "KVecinosCercanos.ipynb",
      "provenance": [],
      "authorship_tag": "ABX9TyMYdh/dBJbP1im+eLDWl+Uz",
      "include_colab_link": true
    },
    "kernelspec": {
      "name": "python3",
      "display_name": "Python 3"
    }
  },
  "cells": [
    {
      "cell_type": "markdown",
      "metadata": {
        "id": "view-in-github",
        "colab_type": "text"
      },
      "source": [
        "<a href=\"https://colab.research.google.com/github/davrodrod/algorirmosIA/blob/master/KVecinosCercanos.ipynb\" target=\"_parent\"><img src=\"https://colab.research.google.com/assets/colab-badge.svg\" alt=\"Open In Colab\"/></a>"
      ]
    },
    {
      "cell_type": "markdown",
      "metadata": {
        "id": "AGd_GjxSD6en",
        "colab_type": "text"
      },
      "source": [
        "Ver https://nbviewer.jupyter.org/github/cs109/content/blob/master/labs/lab5/Lab5.ipynb"
      ]
    }
  ]
}