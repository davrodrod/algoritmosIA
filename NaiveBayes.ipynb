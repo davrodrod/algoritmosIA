{
  "nbformat": 4,
  "nbformat_minor": 0,
  "metadata": {
    "colab": {
      "name": "NaiveBayes.ipynb",
      "provenance": [],
      "authorship_tag": "ABX9TyNQFYPd9OJNJ0gl3K+U71rO",
      "include_colab_link": true
    },
    "kernelspec": {
      "name": "python3",
      "display_name": "Python 3"
    }
  },
  "cells": [
    {
      "cell_type": "markdown",
      "metadata": {
        "id": "view-in-github",
        "colab_type": "text"
      },
      "source": [
        "<a href=\"https://colab.research.google.com/github/davrodrod/algoritmosIA/blob/master/NaiveBayes.ipynb\" target=\"_parent\"><img src=\"https://colab.research.google.com/assets/colab-badge.svg\" alt=\"Open In Colab\"/></a>"
      ]
    },
    {
      "cell_type": "markdown",
      "metadata": {
        "id": "eDj54nfhGqaJ",
        "colab_type": "text"
      },
      "source": [
        "Clasificador Bayes"
      ]
    },
    {
      "cell_type": "markdown",
      "metadata": {
        "id": "JcehasUlHO1x",
        "colab_type": "text"
      },
      "source": [
        "Fuente: https://scikit-learn.org/stable/modules/naive_bayes.html\n",
        "\n",
        "Existen varios tipos, el primero es el Gausiano que asume que las variables X siguen distribución gausiana (su media y su desviación típica se calcula automáticamente."
      ]
    },
    {
      "cell_type": "code",
      "metadata": {
        "id": "YfXKAu5ZGqm-",
        "colab_type": "code",
        "colab": {
          "base_uri": "https://localhost:8080/",
          "height": 34
        },
        "outputId": "46184f85-2c62-4700-bf94-760ddd96ed4c"
      },
      "source": [
        "from sklearn.datasets import load_iris\n",
        "from sklearn.model_selection import train_test_split\n",
        "from sklearn.naive_bayes import GaussianNB\n",
        "\n",
        "X, y = load_iris(return_X_y=True)\n",
        "X_train, X_test, y_train, y_test = train_test_split(X, y, test_size=0.5, random_state=0)\n",
        "gnb = GaussianNB()\n",
        "y_pred = gnb.fit(X_train, y_train).predict(X_test)\n",
        "print(\"Number of mislabeled points out of a total %d points : %d\" % (X_test.shape[0], (y_test != y_pred).sum()))"
      ],
      "execution_count": 1,
      "outputs": [
        {
          "output_type": "stream",
          "text": [
            "Number of mislabeled points out of a total 75 points : 4\n"
          ],
          "name": "stdout"
        }
      ]
    },
    {
      "cell_type": "markdown",
      "metadata": {
        "id": "Uz-XKsJvIBpz",
        "colab_type": "text"
      },
      "source": [
        "Otras variantes:\n",
        "\n",
        "- Multinomial Naive Bayes (MultinomialNB). Modela cada entrada como un polinomio en el que las vbles son las features y = theta1*feature1 + theta2*feature2 + .. + thetan*featuren\n",
        "\n",
        "- Complement Naive Bayes (ComplementNB). Adaptación el MNB\n",
        "\n",
        "- Bernoulli Naive Bayes (BernoulliNB ). Los datos tienen distribución multivariable Bernuilli\n",
        "\n",
        "- CategoricalNB Categorical distribution\n",
        "\n",
        "Si existen demasiados datos tiene un partial_fit para entrenar poco a poco.\n"
      ]
    }
  ]
}