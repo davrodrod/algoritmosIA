{
  "nbformat": 4,
  "nbformat_minor": 0,
  "metadata": {
    "colab": {
      "name": "Regresionlineal.ipynb",
      "provenance": [],
      "authorship_tag": "ABX9TyP6AtkOkeOQRkdcstAWP5E4",
      "include_colab_link": true
    },
    "kernelspec": {
      "name": "python3",
      "display_name": "Python 3"
    }
  },
  "cells": [
    {
      "cell_type": "markdown",
      "metadata": {
        "id": "view-in-github",
        "colab_type": "text"
      },
      "source": [
        "<a href=\"https://colab.research.google.com/github/davrodrod/algorirmosIA/blob/master/Regresionlineal.ipynb\" target=\"_parent\"><img src=\"https://colab.research.google.com/assets/colab-badge.svg\" alt=\"Open In Colab\"/></a>"
      ]
    },
    {
      "cell_type": "markdown",
      "metadata": {
        "id": "gJ52aYGHah7p",
        "colab_type": "text"
      },
      "source": [
        "# Regresión lineal con python\n",
        "\n",
        "Se utiliza librería **sklearn**.\n",
        "Se emplea aproximación por el **método de los mínimos cuadrados**. Obtener ecuación lineal que minimiza el error cuadrático. \n",
        "La ecuación  constará de una variable dependiente y un conjunto de variables independientes. Tomar potencias de dos nos ayuda a considerar el conjunto de todos los errores sin tener en cuenta si está por encima o por debajo de la recta"
      ]
    },
    {
      "cell_type": "code",
      "metadata": {
        "id": "HEnAga3dayjm",
        "colab_type": "code",
        "colab": {
          "base_uri": "https://localhost:8080/",
          "height": 34
        },
        "outputId": "a1988654-0a18-4229-99ac-d655bcfeb5a4"
      },
      "source": [
        "# Carga de datos\n",
        "\n",
        "print(__doc__)\n",
        "\n",
        "\n",
        "# Code source: Jaques Grobler\n",
        "# License: BSD 3 clause\n",
        "\n",
        "import matplotlib.pyplot as plt\n",
        "import numpy as np\n",
        "from sklearn import datasets, linear_model\n",
        "from sklearn.metrics import mean_squared_error, r2_score\n",
        "\n",
        "# Load the diabetes dataset\n",
        "diabetes = datasets.load_diabetes()\n",
        "\n",
        "# Use only one feature\n",
        "diabetes_X = diabetes.data[:, np.newaxis,2]\n",
        "\n",
        "# split the data into training/testing sets\n",
        "diabetes_X_train = diabetes_X[:-20]\n",
        "diabetes_X_test = diabetes_X[-20:]\n",
        "\n",
        "# split the targets into training/test sets\n",
        "diabetes_y_train = diabetes.target[:-20]\n",
        "diabetes_y_test = diabetes.target[-20:]"
      ],
      "execution_count": 6,
      "outputs": [
        {
          "output_type": "stream",
          "text": [
            "Automatically created module for IPython interactive environment\n"
          ],
          "name": "stdout"
        }
      ]
    },
    {
      "cell_type": "code",
      "metadata": {
        "id": "-q_HiiMTcSrc",
        "colab_type": "code",
        "colab": {
          "base_uri": "https://localhost:8080/",
          "height": 320
        },
        "outputId": "14552c49-9982-41ae-ce45-53c50a9d338a"
      },
      "source": [
        "# Regresión lineal\n",
        "\n",
        "regr = linear_model.LinearRegression()\n",
        "\n",
        "# Train\n",
        "regr.fit(diabetes_X_train, diabetes_y_train)\n",
        "\n",
        "# Make predictions using the testing set\n",
        "diabetes_y_pred = regr.predict(diabetes_X_test)\n",
        "\n",
        "# Coeficientes\n",
        "print(\"Coeficientes: \\n\", regr.coef_)\n",
        "\n",
        "# El error medio al cuadrado (Mean squared error)\n",
        "print(\"Mean squared error: %.2f\" % mean_squared_error(diabetes_y_test, diabetes_y_pred))\n",
        "\n",
        "# Explained variance score: 1 is perfect prediction\n",
        "print(\"Variance score: %.2f\" % r2_score(diabetes_y_test, diabetes_y_pred))\n",
        "\n",
        "# Plot outputs\n",
        "plt.scatter(diabetes_X_test, diabetes_y_test, color='black')\n",
        "plt.plot(diabetes_X_test, diabetes_y_pred, color='blue')\n",
        "\n",
        "plt.xticks(())   # esto quita los números en el eje de abcisas\n",
        "plt.yticks(())   # esto quita los números en el eje de ordenadas\n",
        "\n",
        "plt.show()"
      ],
      "execution_count": 15,
      "outputs": [
        {
          "output_type": "stream",
          "text": [
            "Coeficientes: \n",
            " [938.23786125]\n",
            "Mean squared error: 2548.07\n",
            "Variance score: 0.47\n"
          ],
          "name": "stdout"
        },
        {
          "output_type": "display_data",
          "data": {
            "image/png": "[encoded data removed]",
            "text/plain": [
              "<Figure size 432x288 with 1 Axes>"
            ]
          },
          "metadata": {
            "tags": []
          }
        }
      ]
    }
  ]
}