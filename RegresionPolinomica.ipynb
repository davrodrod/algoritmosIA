{
  "nbformat": 4,
  "nbformat_minor": 0,
  "metadata": {
    "colab": {
      "name": "RegresionPolinomica.ipynb",
      "provenance": [],
      "authorship_tag": "ABX9TyP9HKVrjNsbkgSQShiI/KvS",
      "include_colab_link": true
    },
    "kernelspec": {
      "name": "python3",
      "display_name": "Python 3"
    }
  },
  "cells": [
    {
      "cell_type": "markdown",
      "metadata": {
        "id": "view-in-github",
        "colab_type": "text"
      },
      "source": [
        "<a href=\"https://colab.research.google.com/github/davrodrod/algorirmosIA/blob/master/RegresionPolinomica.ipynb\" target=\"_parent\"><img src=\"https://colab.research.google.com/assets/colab-badge.svg\" alt=\"Open In Colab\"/></a>"
      ]
    },
    {
      "cell_type": "code",
      "metadata": {
        "id": "j30aBRGzjuqu",
        "colab_type": "code",
        "colab": {}
      },
      "source": [
        ""
      ],
      "execution_count": 0,
      "outputs": []
    },
    {
      "cell_type": "markdown",
      "metadata": {
        "id": "qsOwr706jzZd",
        "colab_type": "text"
      },
      "source": [
        "# Regresión polinómica con python"
      ]
    },
    {
      "cell_type": "code",
      "metadata": {
        "id": "8z9kNHJSkArb",
        "colab_type": "code",
        "colab": {}
      },
      "source": [
        "import numpy as np\n",
        "\n",
        "# Fuente https://nbviewer.jupyter.org/github/cs109/content/blob/master/labs/lab5/Lab5.ipynb\n",
        "\n",
        "np.random.seed(42)"
      ],
      "execution_count": 0,
      "outputs": []
    },
    {
      "cell_type": "markdown",
      "metadata": {
        "id": "BLIKkqBMkVQ0",
        "colab_type": "text"
      },
      "source": [
        "Consider the model selection problem: what degree of polynomial you want to fit: d. It acts like a hyperparameter, in the sense that it is a second parameter that needs to be fit for. Once you set it, you still have to fit the parameters of your linear or polynomial or elsewise model."
      ]
    },
    {
      "cell_type": "code",
      "metadata": {
        "id": "IrIg0qo3kWcF",
        "colab_type": "code",
        "colab": {
          "base_uri": "https://localhost:8080/",
          "height": 282
        },
        "outputId": "148fa5bc-7133-4d7f-b8f6-bb40408eb3dd"
      },
      "source": [
        "import matplotlib.pyplot as plt\n",
        "\n",
        "# Generación de datos\n",
        "\n",
        "def generate_curve(x, sigma):\n",
        "    return np.random.normal(10 - 1. / (x + 0.1), sigma)\n",
        "x = 10 ** np.linspace(-2, 0, 8)\n",
        "intrinsic_error=1.\n",
        "y=generate_curve(x, intrinsic_error)\n",
        "plt.scatter(x,y)"
      ],
      "execution_count": 6,
      "outputs": [
        {
          "output_type": "execute_result",
          "data": {
            "text/plain": [
              "<matplotlib.collections.PathCollection at 0x7f5a03aa0198>"
            ]
          },
          "metadata": {
            "tags": []
          },
          "execution_count": 6
        },
        {
          "output_type": "display_data",
          "data": {
            "image/png": "[encoded data removed]",
            "text/plain": [
              "<Figure size 432x288 with 1 Axes>"
            ]
          },
          "metadata": {
            "tags": []
          }
        }
      ]
    },
    {
      "cell_type": "markdown",
      "metadata": {
        "id": "Uqssti18lAqz",
        "colab_type": "text"
      },
      "source": [
        "Una situación \"high bias\" es una en la que se no se ajusta (underfit). \n",
        "Puede verse como para un bajo d (el grado del polinomio), el RMSE sigue siendo alto en el conjunto de train. \n",
        "\n",
        "Por el contrario, una situación de alta varianza (se incremente el grado del polinomio) es una en la que se sobreajusta (overfit), en este caso el ajuste al conjunto de train es muy bueno y el RMSE baja y tiende a 0"
      ]
    },
    {
      "cell_type": "code",
      "metadata": {
        "id": "cPIRb3_xk8BU",
        "colab_type": "code",
        "colab": {
          "base_uri": "https://localhost:8080/",
          "height": 354
        },
        "outputId": "45705f52-01df-4ddd-9894-7524eec3ca52"
      },
      "source": [
        "# Se generan 1000 valores para la x entre -0.2 y 1.2. Se le llama x_new\n",
        "x_new=np.linspace(-0.2, 1.2, 1000)\n",
        "\n",
        "#Cálculo del error con RMSE, el p es el modelo\n",
        "def rmse(p,x,y):\n",
        "    yfit = np.polyval(p, x)     # Estas son las predicciones de y\n",
        "    return np.sqrt(np.mean((y - yfit) ** 2))\n",
        "\n",
        "# Se pintan las muestras del código anterior\n",
        "plt.scatter(x,y, s=50)\n",
        "\n",
        "# Regresión lineal con polinómio de grado 1. Línea azul en la gráfica\n",
        "f1=np.polyfit(x,y,1)   # Con esto se obtiene el modelo, los coeficientes para la fórmula\n",
        "plt.plot(x_new,np.polyval(f1,x_new), color='blue')  # Ahora, se le pasan los 1000 valores al modelo para obtener su y correspondiente y pintarla\n",
        "print(\"d=1, rmse=\",rmse(f1,x,y))\n",
        "\n",
        "# Regresión lineal con polinómio de grado 2. Línea roja en la gráfica\n",
        "f2=np.polyfit(x,y,2)\n",
        "plt.plot(x_new,np.polyval(f2,x_new), color='red')\n",
        "print(\"d=2, rmse=\",rmse(f2,x,y))\n",
        "\n",
        "# Regresión lineal con polinómio de grado 4. Línea verde en la gráfica\n",
        "f4=np.polyfit(x,y,4)\n",
        "plt.plot(x_new,np.polyval(f4,x_new), color='green')\n",
        "print(\"d=4, rmse=\",rmse(f4,x,y))\n",
        "\n",
        "# Regresión lineal con polinómio de grado 6. Línea magenta en la gráfica\n",
        "f6=np.polyfit(x,y,6)\n",
        "plt.plot(x_new,np.polyval(f6,x_new), color='magenta')\n",
        "print(\"d=6, rmse=\",rmse(f6,x,y))\n",
        "\n",
        "plt.xlim(-0.2, 1.2)\n",
        "plt.ylim(-1, 12)"
      ],
      "execution_count": 15,
      "outputs": [
        {
          "output_type": "stream",
          "text": [
            "d=1, rmse= 1.3358944019794732\n",
            "d=2, rmse= 1.0406255894643408\n",
            "d=4, rmse= 0.3675977756466136\n",
            "d=6, rmse= 0.26421828992262436\n"
          ],
          "name": "stdout"
        },
        {
          "output_type": "execute_result",
          "data": {
            "text/plain": [
              "(-1.0, 12.0)"
            ]
          },
          "metadata": {
            "tags": []
          },
          "execution_count": 15
        },
        {
          "output_type": "display_data",
          "data": {
            "image/png": "[encoded data removed]",
            "text/plain": [
              "<Figure size 432x288 with 1 Axes>"
            ]
          },
          "metadata": {
            "tags": []
          }
        }
      ]
    }
  ]
}