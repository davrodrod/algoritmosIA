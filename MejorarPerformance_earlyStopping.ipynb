{
  "nbformat": 4,
  "nbformat_minor": 0,
  "metadata": {
    "colab": {
      "name": "MejorarPerformance_earlyStopping.ipynb",
      "provenance": [],
      "authorship_tag": "ABX9TyNDJD1xSLt47dUJQzp8N3MT",
      "include_colab_link": true
    },
    "kernelspec": {
      "name": "python3",
      "display_name": "Python 3"
    }
  },
  "cells": [
    {
      "cell_type": "markdown",
      "metadata": {
        "id": "view-in-github",
        "colab_type": "text"
      },
      "source": [
        "<a href=\"https://colab.research.google.com/github/davrodrod/algorirmosIA/blob/master/MejorarPerformance_earlyStopping.ipynb\" target=\"_parent\"><img src=\"https://colab.research.google.com/assets/colab-badge.svg\" alt=\"Open In Colab\"/></a>"
      ]
    },
    {
      "cell_type": "markdown",
      "metadata": {
        "id": "qNqHIvhLmCMr",
        "colab_type": "text"
      },
      "source": [
        "Monitoriza el loss en el dataset de entrenamiento y en el de validación, de forma que cuando el dataset de validación empieza a mostrar síntomas de overfitting detiene el proceso de entrenamiento. Para esto en el fit se le especifica que % de datos serán para validación"
      ]
    },
    {
      "cell_type": "code",
      "metadata": {
        "id": "1Ewhzb6ymCy3",
        "colab_type": "code",
        "colab": {
          "base_uri": "https://localhost:8080/",
          "height": 1000
        },
        "outputId": "f67e6dc3-d535-4c42-d96b-c49b50a10dc7"
      },
      "source": [
        "# Fuente https://machinelearningmastery.com/tensorflow-tutorial-deep-learning-with-tf-keras/\n",
        "from sklearn.datasets import make_classification\n",
        "from tensorflow.keras import Sequential\n",
        "from tensorflow.keras.layers import BatchNormalization, Dense, Dropout\n",
        "from tensorflow.keras.callbacks import EarlyStopping\n",
        "\n",
        "#create the dataset\n",
        "X, y = make_classification(n_samples=1000, n_classes=2, random_state=1)\n",
        "#determine the number of input features\n",
        "n_features = X.shape[1]\n",
        "#define model\n",
        "model=Sequential()\n",
        "model.add(Dense(10, activation='relu', kernel_initializer='he_normal', input_shape=(n_features,)))\n",
        "model.add(Dense(1, activation='sigmoid'))\n",
        "#compile the model\n",
        "model.compile(optimizer='adam', loss='binary_crossentropy')\n",
        "#configure early stopping\n",
        "es= EarlyStopping(monitor='val_loss', patience=5)\n",
        "#fit the model\n",
        "model.fit(X,y, epochs=200, batch_size=32, validation_split=0.3, callbacks=[es])"
      ],
      "execution_count": 1,
      "outputs": [
        {
          "output_type": "stream",
          "text": [
            "Epoch 1/200\n",
            "22/22 [==============================] - 0s 8ms/step - loss: 0.7152 - val_loss: 0.7418\n",
            "Epoch 2/200\n",
            "22/22 [==============================] - 0s 3ms/step - loss: 0.6737 - val_loss: 0.7064\n",
            "Epoch 3/200\n",
            "22/22 [==============================] - 0s 3ms/step - loss: 0.6394 - val_loss: 0.6736\n",
            "Epoch 4/200\n",
            "22/22 [==============================] - 0s 3ms/step - loss: 0.6099 - val_loss: 0.6447\n",
            "Epoch 5/200\n",
            "22/22 [==============================] - 0s 3ms/step - loss: 0.5821 - val_loss: 0.6188\n",
            "Epoch 6/200\n",
            "22/22 [==============================] - 0s 3ms/step - loss: 0.5568 - val_loss: 0.5961\n",
            "Epoch 7/200\n",
            "22/22 [==============================] - 0s 3ms/step - loss: 0.5334 - val_loss: 0.5740\n",
            "Epoch 8/200\n",
            "22/22 [==============================] - 0s 3ms/step - loss: 0.5135 - val_loss: 0.5552\n",
            "Epoch 9/200\n",
            "22/22 [==============================] - 0s 3ms/step - loss: 0.4945 - val_loss: 0.5357\n",
            "Epoch 10/200\n",
            "22/22 [==============================] - 0s 3ms/step - loss: 0.4746 - val_loss: 0.5200\n",
            "Epoch 11/200\n",
            "22/22 [==============================] - 0s 3ms/step - loss: 0.4583 - val_loss: 0.5047\n",
            "Epoch 12/200\n",
            "22/22 [==============================] - 0s 3ms/step - loss: 0.4430 - val_loss: 0.4907\n",
            "Epoch 13/200\n",
            "22/22 [==============================] - 0s 3ms/step - loss: 0.4292 - val_loss: 0.4785\n",
            "Epoch 14/200\n",
            "22/22 [==============================] - 0s 3ms/step - loss: 0.4151 - val_loss: 0.4670\n",
            "Epoch 15/200\n",
            "22/22 [==============================] - 0s 3ms/step - loss: 0.4029 - val_loss: 0.4564\n",
            "Epoch 16/200\n",
            "22/22 [==============================] - 0s 3ms/step - loss: 0.3919 - val_loss: 0.4477\n",
            "Epoch 17/200\n",
            "22/22 [==============================] - 0s 3ms/step - loss: 0.3816 - val_loss: 0.4400\n",
            "Epoch 18/200\n",
            "22/22 [==============================] - 0s 3ms/step - loss: 0.3726 - val_loss: 0.4332\n",
            "Epoch 19/200\n",
            "22/22 [==============================] - 0s 3ms/step - loss: 0.3642 - val_loss: 0.4283\n",
            "Epoch 20/200\n",
            "22/22 [==============================] - 0s 3ms/step - loss: 0.3567 - val_loss: 0.4230\n",
            "Epoch 21/200\n",
            "22/22 [==============================] - 0s 3ms/step - loss: 0.3507 - val_loss: 0.4191\n",
            "Epoch 22/200\n",
            "22/22 [==============================] - 0s 3ms/step - loss: 0.3445 - val_loss: 0.4159\n",
            "Epoch 23/200\n",
            "22/22 [==============================] - 0s 3ms/step - loss: 0.3397 - val_loss: 0.4135\n",
            "Epoch 24/200\n",
            "22/22 [==============================] - 0s 3ms/step - loss: 0.3351 - val_loss: 0.4111\n",
            "Epoch 25/200\n",
            "22/22 [==============================] - 0s 3ms/step - loss: 0.3299 - val_loss: 0.4096\n",
            "Epoch 26/200\n",
            "22/22 [==============================] - 0s 3ms/step - loss: 0.3262 - val_loss: 0.4082\n",
            "Epoch 27/200\n",
            "22/22 [==============================] - 0s 3ms/step - loss: 0.3234 - val_loss: 0.4078\n",
            "Epoch 28/200\n",
            "22/22 [==============================] - 0s 3ms/step - loss: 0.3200 - val_loss: 0.4064\n",
            "Epoch 29/200\n",
            "22/22 [==============================] - 0s 3ms/step - loss: 0.3166 - val_loss: 0.4066\n",
            "Epoch 30/200\n",
            "22/22 [==============================] - 0s 3ms/step - loss: 0.3150 - val_loss: 0.4054\n",
            "Epoch 31/200\n",
            "22/22 [==============================] - 0s 3ms/step - loss: 0.3124 - val_loss: 0.4063\n",
            "Epoch 32/200\n",
            "22/22 [==============================] - 0s 3ms/step - loss: 0.3097 - val_loss: 0.4061\n",
            "Epoch 33/200\n",
            "22/22 [==============================] - 0s 3ms/step - loss: 0.3077 - val_loss: 0.4066\n",
            "Epoch 34/200\n",
            "22/22 [==============================] - 0s 3ms/step - loss: 0.3047 - val_loss: 0.4066\n",
            "Epoch 35/200\n",
            "22/22 [==============================] - 0s 3ms/step - loss: 0.3034 - val_loss: 0.4074\n"
          ],
          "name": "stdout"
        },
        {
          "output_type": "execute_result",
          "data": {
            "text/plain": [
              "<tensorflow.python.keras.callbacks.History at 0x7f9996bf56a0>"
            ]
          },
          "metadata": {
            "tags": []
          },
          "execution_count": 1
        }
      ]
    }
  ]
}